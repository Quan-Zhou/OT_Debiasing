{
 "cells": [
  {
   "cell_type": "code",
   "execution_count": 1,
   "metadata": {},
   "outputs": [],
   "source": [
    "import math\n",
    "import numpy as np\n",
    "import pandas as pd\n",
    "import matplotlib.pyplot as plt\n",
    "\n",
    "def Gaussian_pdf(x,name,para):\n",
    "    mu=para[name+'_mean']\n",
    "    sigma=para[name+'_sd']\n",
    "    return math.exp(((x-mu)/sigma)**2*(-1/2))/(sigma*math.sqrt(2*math.pi))\n",
    "def normialise(tem_dist):\n",
    "    return [tem_dist[i]/sum(tem_dist) for i in range(len(tem_dist))]\n",
    "def second_moment(name,para):\n",
    "    return para[name+'_mean']**2+para[name+'_sd']**2\n",
    "def c_generate(x_range):\n",
    "    bin=len(x_range)\n",
    "    C=np.random.random((bin,bin))\n",
    "    for i in range(bin):\n",
    "        for j in range(bin):\n",
    "            C[i,j]=abs(x_range[i]-x_range[j])\n",
    "    return C\n",
    "def algorithms(reg,m,n,g,f,C):\n",
    "    K=np.exp(-C/C.max()/reg)\n",
    "    interations=100\n",
    "    trial=10 #check the optimiality every trial. \n",
    "    u=np.ones((n,1))\n",
    "    u_record=np.ones((n,1))\n",
    "    for tri in range(trial):\n",
    "        if sum(abs(u_record-u))<10**(-10):\n",
    "            for i in range(1,interations):\n",
    "                v=g/np.dot(K.T,u)\n",
    "                u=f/np.dot(K,v)\n",
    "            u_record=u\n",
    "        else:\n",
    "            break\n",
    "    return np.dot(np.diag(u.reshape((1,-1))[0]),np.dot(K,np.diag(v.reshape((1,-1))[0])))\n",
    "\n",
    "def assess(m,n,g,f,C,output):\n",
    "    print('sum of violation of f:',sum(abs(np.sum(output,1)-f.reshape(n))))\n",
    "    print('sum of violation of g:',sum(abs(np.sum(output,0)-g.reshape(m))))\n",
    "    print('total cost:',sum(sum(output*C)))\n",
    "    print('entropy:',sum(sum(-output*np.log(output+0.1**3))))\n",
    "    print('============================================')\n",
    "\n",
    "def plots(x_range,g,f,output):\n",
    "    fig = plt.figure(figsize=(4, 3))\n",
    "    gs = fig.add_gridspec(2, 2, width_ratios=(bin, 1), height_ratios=(1, bin),left=0.1, right=0.9, bottom=0.1, top=0.9,wspace=0.05, hspace=0.05)\n",
    "    # Create the Axes.\n",
    "    ax = fig.add_subplot(gs[1, 0])\n",
    "    ax.pcolormesh(x_range, x_range, output, cmap='Blues')\n",
    "    # ax_histx = fig.add_subplot(gs[0, 0], sharex=ax)\n",
    "    # ax_histy = fig.add_subplot(gs[1, 1], sharey=ax)\n",
    "    # ax_histx.tick_params(axis=\"x\", labelbottom=False)\n",
    "    # ax_histy.tick_params(axis=\"y\", labelleft=False)\n",
    "    # ax_histx.plot(x_range,g)\n",
    "    # ax_histy.plot(f,x_range) \n",
    "\n",
    "def OT(reg,x_range,g,f):\n",
    "    m=len(g)\n",
    "    n=len(f)\n",
    "    C=c_generate(x_range)\n",
    "    output=algorithms(reg,m,n,g.reshape(m,-1),f.reshape(n,-1),C)\n",
    "    assess(m,n,g,f,C,output)\n",
    "    plots(x_range,g,f,output)\n",
    "    return output\n",
    "\n",
    "def empirical_distribution(sub,dist):\n",
    "    bin=dist['bin']\n",
    "    distrition=np.zeros(bin)\n",
    "    for i in range(bin):\n",
    "        subset=sub[sub['X']==i] #bin_value=x_range[i] #sub[(sub['X']>=bin_value)&(sub['X']<bin_value+width)]\n",
    "        if subset.shape[0]>0:\n",
    "            distrition[i]=sum(subset['W'])\n",
    "    if sum(distrition)>0:\n",
    "        return distrition/sum(distrition)\n",
    "    else:\n",
    "        return distrition\n",
    "\n",
    "def barycenter_projection(df,coupling,para): # for baselines\n",
    "    U=df['U'].iloc[0]\n",
    "    df_f=df[df['S']=='f']\n",
    "    df_m=df[df['S']=='m']\n",
    "    pi0=para['pi_'+U+'f']\n",
    "    pi1=para['pi_'+U+'m']\n",
    "\n",
    "    rows,cols=np.nonzero(coupling)\n",
    "    num_nzero=len(rows)\n",
    "    sub=pd.DataFrame(columns=['X','W'],index=range(num_nzero))\n",
    "\n",
    "    sub['X']=np.floor((pi0*x_range[cols]+pi1*x_range[rows]-horizen[0])/width)\n",
    "    W_col=[Gaussian_pdf(x_range[c],'X_'+U+'f',para)*width for c in cols]\n",
    "    W_row=[Gaussian_pdf(x_range[r],'X_'+U+'m',para)*width for r in rows]\n",
    "    sub['W']=coupling[rows,cols] #*W_col*W_row\n",
    "    sub['U']=U #df['U'].iloc[0]\n",
    "    sub=sub[sub['W']!=0]\n",
    "    sub_f=sub.copy()\n",
    "    sub_m=sub.copy()\n",
    "    sub_f['S']='f'\n",
    "    sub_m['S']='m'\n",
    "    return pd.concat([sub_f,sub_m], ignore_index=True)\n",
    "\n",
    "def barycenter_projection1(df,coupling,para):\n",
    "    U=df['U'].iloc[0]\n",
    "    df_f=df[df['S']=='f']\n",
    "    df_m=df[df['S']=='m']\n",
    "    pi0=para['pi_'+U+'f']\n",
    "    pi1=para['pi_'+U+'m']\n",
    "    new_coupling_f=np.zeros((bin,bin))\n",
    "    new_coupling_m=np.zeros((bin,bin))\n",
    "    for i in range(bin):\n",
    "        for j in range(bin):\n",
    "            ind_f=int(pi0*i+pi1*j)\n",
    "            ind_m=int(pi0*j+pi1*i)\n",
    "            new_coupling_f[ind_f,i]+=coupling[j,i]\n",
    "            new_coupling_m[ind_m,i]+=coupling[i,j]\n",
    "    df_Bf=projection(df_f,new_coupling_f)\n",
    "    df_Bm=projection(df_m,new_coupling_m)\n",
    "    return pd.concat([df_Bf,df_Bm], ignore_index=True)\n",
    "\n",
    "def KL_divergence(dist_tmp):\n",
    "    text=[]\n",
    "    for u in U_range:\n",
    "        pf=dist_tmp[u+'f']\n",
    "        pm=dist_tmp[u+'m']\n",
    "        q=dist_tmp[u]\n",
    "        q_supp=np.nonzero(q)[0]\n",
    "        klf=0\n",
    "        klm=0\n",
    "        for i in q_supp: #range(bin):\n",
    "            if pf[i]!=0:\n",
    "                klf+=pf[i]*math.log(pf[i]/q[i])\n",
    "            if pm[i]!=0:\n",
    "                klm+=pm[i]*math.log(pm[i]/q[i])\n",
    "        # print('KL(x_{u='+u+',s=f}||x_{u='+u+'}):', round(klf,4))\n",
    "        # print('KL(x_{u='+u+',s=m}||x_{u='+u+'}):', round(klm,4))\n",
    "        # text+=['KL(x_{u='+u+',s=f}||x_{u='+u+'}): '+str(round(klf,4))]\n",
    "        # text+=['KL(x_{u='+u+',s=m}||x_{u='+u+'}): '+str(round(klm,4))]\n",
    "        text+=['KL(~||x_{u='+u+'}): '+str(round(klf,4))]\n",
    "        text+=['KL(~||x_{u='+u+'}): '+str(round(klm,4))]\n",
    "    return text\n",
    "def data_generation(num,para):\n",
    "    df=pd.DataFrame(columns=['X', 'S'])\n",
    "    for name in ['f','m']:\n",
    "        size=int(para[name]*num)\n",
    "        X=np.floor((np.random.normal(para['X_'+name+'_mean'],para['X_'+name+'_sd'],size=[size])-horizen[0])/width)\n",
    "        #np.random.normal(para['X_'+name+'_mean'],para['X_'+name+'_sd'],size=[size])\n",
    "        S=[name]*size\n",
    "        df=pd.concat([df, pd.DataFrame([X,S], index=['X','S']).T], ignore_index=True)\n",
    "    df['W']=1\n",
    "    df['X']=df['X'].astype('int64')  \n",
    "    return df\n",
    "\n",
    "def samples_groupby(data):\n",
    "    # for better complexity\n",
    "    df=data.groupby(by=['X','S'],as_index=False).sum()\n",
    "    return df[df['W']!=0]\n",
    "\n",
    "def projection(df,coupling):\n",
    "    df_t=pd.DataFrame(columns=['X','S','W'])\n",
    "    for i in range(df.shape[0]):\n",
    "        orig=df.iloc[i]\n",
    "        rows=np.nonzero(coupling[:,orig[0]])[0]\n",
    "        sub=pd.DataFrame(columns=['X','W'],index=rows)\n",
    "        sub['X']=rows\n",
    "        sub['W']=coupling[rows,orig[0]]/(sum(coupling[rows,orig[0]])+0.0001)*orig[2]\n",
    "        sub['S']=orig[1]\n",
    "        df_t=pd.concat([df_t, samples_groupby(sub)], ignore_index=True)\n",
    "    return df_t"
   ]
  },
  {
   "cell_type": "code",
   "execution_count": 2,
   "metadata": {},
   "outputs": [],
   "source": [
    "def KL_divergence(dist_tmp):\n",
    "    text=[]\n",
    "    #name=list(dist_tmp.keys())[0]\n",
    "    q=dist_tmp['x']\n",
    "    p=dist_tmp['t_x']\n",
    "    q_supp=np.nonzero(q)[0]\n",
    "    kl=0\n",
    "    for i in q_supp: #range(bin):\n",
    "        if p[i]!=0:\n",
    "            kl+=p[i]*math.log(p[i]/q[i])\n",
    "    return kl"
   ]
  },
  {
   "cell_type": "code",
   "execution_count": 3,
   "metadata": {},
   "outputs": [],
   "source": [
    "para = dict()\n",
    "para['X_f_mean']=-8\n",
    "para['X_f_sd']=3\n",
    "\n",
    "para['X_m_sd']=1\n",
    "para['f']=0.3\n",
    "para['m']=0.7\n",
    "para['pi_af']=para['f'] #para['f_a']\n",
    "para['pi_am']=1-para['pi_af']\n",
    "\n",
    "horizen=[-50,50]\n",
    "width=0.1\n",
    "bin=int((horizen[1]-horizen[0])/width)\n",
    "x_range=np.arange(horizen[0],horizen[1],width)\n",
    "dist = dict(zip(['horizen','width','bin','x_range'],[horizen,width,bin,x_range]))\n",
    "dist['x_f']=[Gaussian_pdf(x,'X_f',para)*width for x in x_range]"
   ]
  },
  {
   "cell_type": "code",
   "execution_count": 4,
   "metadata": {},
   "outputs": [],
   "source": [
    "from scipy.stats import norm"
   ]
  },
  {
   "cell_type": "code",
   "execution_count": null,
   "metadata": {},
   "outputs": [],
   "source": []
  },
  {
   "cell_type": "code",
   "execution_count": 5,
   "metadata": {},
   "outputs": [],
   "source": [
    "mean_kl=[]\n",
    "sd_kl=[]\n",
    "for mean in np.arange(0, 5, 0.5):\n",
    "    for repeat in range(3):\n",
    "        kl_tem=[]\n",
    "        para['X_m_mean']=para['X_f_mean']+mean\n",
    "        dist['x_m']=[Gaussian_pdf(x,'X_m',para)*width for x in x_range]\n",
    "        dist['x']=[dist['x_f'][i]*para['f']+dist['x_m'][i]*para['m'] for i in range(bin)]\n",
    "        dist['t_x']=normialise([dist['x_f'][i]**para['f']*dist['x_m'][i]**para['m'] for i in range(bin)])  \n",
    "        # plt.plot(x_range,dist['x'],label='x')\n",
    "        # plt.plot(x_range,dist['t_x'],label='tilde_x')\n",
    "        # plt.legend()\n",
    "\n",
    "        kl_tem.append(KL_divergence(dist))\n",
    "    mean_kl.append(np.mean(kl_tem))\n",
    "    sd_kl.append(np.std(kl_tem))"
   ]
  },
  {
   "cell_type": "code",
   "execution_count": null,
   "metadata": {},
   "outputs": [],
   "source": []
  },
  {
   "cell_type": "code",
   "execution_count": 6,
   "metadata": {},
   "outputs": [
    {
     "ename": "NameError",
     "evalue": "name 'name' is not defined",
     "output_type": "error",
     "traceback": [
      "\u001b[1;31m---------------------------------------------------------------------------\u001b[0m",
      "\u001b[1;31mNameError\u001b[0m                                 Traceback (most recent call last)",
      "Cell \u001b[1;32mIn[6], line 1\u001b[0m\n\u001b[1;32m----> 1\u001b[0m norm\u001b[39m.\u001b[39mppf(np\u001b[39m.\u001b[39mlinspace(\u001b[39m0\u001b[39m,\u001b[39m1\u001b[39m,\u001b[39m100\u001b[39m),loc\u001b[39m=\u001b[39mpara[name\u001b[39m+\u001b[39m\u001b[39m'\u001b[39m\u001b[39m_mean\u001b[39m\u001b[39m'\u001b[39m], scale\u001b[39m=\u001b[39mpara[name\u001b[39m+\u001b[39m\u001b[39m'\u001b[39m\u001b[39m_sd\u001b[39m\u001b[39m'\u001b[39m])\n",
      "\u001b[1;31mNameError\u001b[0m: name 'name' is not defined"
     ]
    }
   ],
   "source": [
    "norm.ppf(np.linspace(0,1,100),loc=para[name+'_mean'], scale=para[name+'_sd'])"
   ]
  },
  {
   "cell_type": "code",
   "execution_count": 28,
   "metadata": {},
   "outputs": [
    {
     "data": {
      "text/plain": [
       "array([       -inf, -8.56611925, -8.12935083, -7.8521737 , -7.64362644,\n",
       "       -7.47396203, -7.32952944, -7.20287239, -7.08945064, -6.98628438,\n",
       "       -6.89130727, -6.80302456, -6.72031815, -6.64232857, -6.56838   ,\n",
       "       -6.49793082, -6.43053972, -6.36584203, -6.30353259, -6.24335319,\n",
       "       -6.18508321, -6.12853242, -6.07353548, -6.0199476 , -5.96764114,\n",
       "       -5.91650281, -5.86643154, -5.81733655, -5.76913599, -5.72175558,\n",
       "       -5.67512767, -5.6291903 , -5.58388651, -5.53916368, -5.49497299,\n",
       "       -5.45126898, -5.40800911, -5.36515342, -5.32266423, -5.28050582,\n",
       "       -5.23864425, -5.19704708, -5.15568321, -5.11452267, -5.07353648,\n",
       "       -5.03269647, -4.99197517, -4.95134564, -4.91078136, -4.87025612,\n",
       "       -4.82974388, -4.78921864, -4.74865436, -4.70802483, -4.66730353,\n",
       "       -4.62646352, -4.58547733, -4.54431679, -4.50295292, -4.46135575,\n",
       "       -4.41949418, -4.37733577, -4.33484658, -4.29199089, -4.24873102,\n",
       "       -4.20502701, -4.16083632, -4.11611349, -4.0708097 , -4.02487233,\n",
       "       -3.97824442, -3.93086401, -3.88266345, -3.83356846, -3.78349719,\n",
       "       -3.73235886, -3.6800524 , -3.62646452, -3.57146758, -3.51491679,\n",
       "       -3.45664681, -3.39646741, -3.33415797, -3.26946028, -3.20206918,\n",
       "       -3.13162   , -3.05767143, -2.97968185, -2.89697544, -2.80869273,\n",
       "       -2.71371562, -2.61054936, -2.49712761, -2.37047056, -2.22603797,\n",
       "       -2.05637356, -1.8478263 , -1.57064917, -1.13388075,         inf])"
      ]
     },
     "execution_count": 28,
     "metadata": {},
     "output_type": "execute_result"
    }
   ],
   "source": [
    "FB=np.zeros(100)\n",
    "for s in ['f','m']:\n",
    "    name='X_'+s\n",
    "    FB+=norm.ppf(np.linspace(0,1,100),loc=para[name+'_mean'], scale=para[name+'_sd'])*para[s]\n",
    "FB"
   ]
  },
  {
   "cell_type": "code",
   "execution_count": 29,
   "metadata": {},
   "outputs": [
    {
     "data": {
      "text/plain": [
       "<matplotlib.legend.Legend at 0x1ff837aed30>"
      ]
     },
     "execution_count": 29,
     "metadata": {},
     "output_type": "execute_result"
    },
    {
     "data": {
      "image/png": "[encoded data removed]",
      "text/plain": [
       "<Figure size 640x480 with 1 Axes>"
      ]
     },
     "metadata": {},
     "output_type": "display_data"
    }
   ],
   "source": [
    "plt.plot(np.linspace(0,1,100),FB,label=r'$F^{-1}(t)$')\n",
    "plt.legend()"
   ]
  },
  {
   "cell_type": "code",
   "execution_count": 35,
   "metadata": {},
   "outputs": [],
   "source": [
    "minbin=np.floor((min(FB[1:])-horizen[0])/width)\n",
    "maxbin=np.floor((max(FB[:-1])-horizen[0])/width)"
   ]
  },
  {
   "cell_type": "code",
   "execution_count": 61,
   "metadata": {},
   "outputs": [
    {
     "data": {
      "text/plain": [
       "[0.08045607922433902,\n",
       " 0.08278556839131919,\n",
       " 0.08965770999455376,\n",
       " 0.10073586951868972,\n",
       " 0.11549873611995197,\n",
       " 0.13329494886376428,\n",
       " 0.15340944652376115,\n",
       " 0.17513179805008858,\n",
       " 0.19781585708836896,\n",
       " 0.22092169894572314]"
      ]
     },
     "execution_count": 61,
     "metadata": {},
     "output_type": "execute_result"
    }
   ],
   "source": [
    "mean_kl"
   ]
  },
  {
   "cell_type": "code",
   "execution_count": 9,
   "metadata": {},
   "outputs": [
    {
     "name": "stdout",
     "output_type": "stream",
     "text": [
      "top:x\n",
      "right:tilde_xa\n",
      "sum of violation of f: 9.055731044536666e-17\n",
      "sum of violation of g: 1.450425523613992e-14\n",
      "total cost: 1.9900896865002327\n",
      "entropy: 6.508376564220064\n",
      "============================================\n"
     ]
    },
    {
     "data": {
      "image/png": "[encoded data removed]",
      "text/plain": [
       "<Figure size 400x300 with 1 Axes>"
      ]
     },
     "metadata": {},
     "output_type": "display_data"
    }
   ],
   "source": [
    "reg=0.01\n",
    "print('top:x')\n",
    "print('right:tilde_x'+u)\n",
    "mu=np.array(dist['x'])\n",
    "mu_t=np.array(dist['t_x'])\n",
    "output=OT(reg,x_range,mu,mu_t)"
   ]
  },
  {
   "cell_type": "code",
   "execution_count": 22,
   "metadata": {},
   "outputs": [],
   "source": [
    "num=1000\n",
    "data=samples_groupby(data_generation(num,para))\n",
    "data_revised=projection(data,output)"
   ]
  },
  {
   "cell_type": "code",
   "execution_count": 25,
   "metadata": {},
   "outputs": [],
   "source": [
    "dist_original=dict()\n",
    "dist_project=dict() #dict(keys=['x_'+i for i in name_list])\n",
    "\n",
    "dist_original['hat_x']=empirical_distribution(data,dist)\n",
    "dist_original['hat_x_f']=empirical_distribution(data[(data['S']=='f')],dist)\n",
    "dist_original['hat_x_m']=empirical_distribution(data[(data['S']=='m')],dist)\n",
    "\n",
    "dist_project['hat_tilde_x']=empirical_distribution(data_revised,dist)\n",
    "dist_project['hat_tilde_x_f']=empirical_distribution(data_revised[(data_revised['S']=='f')],dist)\n",
    "dist_project['hat_tilde_x_m']=empirical_distribution(data_revised[(data_revised['S']=='m')],dist)"
   ]
  },
  {
   "cell_type": "code",
   "execution_count": 35,
   "metadata": {},
   "outputs": [
    {
     "name": "stderr",
     "output_type": "stream",
     "text": [
      "No artists with labels found to put in legend.  Note that artists whose label start with an underscore are ignored when legend() is called with no argument.\n"
     ]
    },
    {
     "data": {
      "image/png": "[encoded data removed]",
      "text/plain": [
       "<Figure size 640x480 with 1 Axes>"
      ]
     },
     "metadata": {},
     "output_type": "display_data"
    }
   ],
   "source": [
    "for key,value in dist_original.items():\n",
    "    if key[-1]!='x':\n",
    "        plt.plot(x_range,value,label=key,alpha=0.5)\n",
    "    plt.legend()"
   ]
  },
  {
   "cell_type": "code",
   "execution_count": 36,
   "metadata": {},
   "outputs": [
    {
     "name": "stderr",
     "output_type": "stream",
     "text": [
      "No artists with labels found to put in legend.  Note that artists whose label start with an underscore are ignored when legend() is called with no argument.\n"
     ]
    },
    {
     "data": {
      "image/png": "[encoded data removed]",
      "text/plain": [
       "<Figure size 640x480 with 1 Axes>"
      ]
     },
     "metadata": {},
     "output_type": "display_data"
    }
   ],
   "source": [
    "for key,value in dist_project.items():\n",
    "    if key[-1]!='x':\n",
    "        plt.plot(x_range,value,label=key,alpha=0.5)\n",
    "    plt.legend()"
   ]
  },
  {
   "cell_type": "code",
   "execution_count": null,
   "metadata": {},
   "outputs": [],
   "source": []
  }
 ],
 "metadata": {
  "kernelspec": {
   "display_name": "base",
   "language": "python",
   "name": "python3"
  },
  "language_info": {
   "codemirror_mode": {
    "name": "ipython",
    "version": 3
   },
   "file_extension": ".py",
   "mimetype": "text/x-python",
   "name": "python",
   "nbconvert_exporter": "python",
   "pygments_lexer": "ipython3",
   "version": "3.9.13"
  },
  "orig_nbformat": 4
 },
 "nbformat": 4,
 "nbformat_minor": 2
}
