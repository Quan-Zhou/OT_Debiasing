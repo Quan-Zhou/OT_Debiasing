{
 "cells": [
  {
   "cell_type": "code",
   "execution_count": 16,
   "metadata": {},
   "outputs": [],
   "source": [
    "import math\n",
    "import numpy as np\n",
    "import pandas as pd\n",
    "import matplotlib.pyplot as plt\n",
    "from numpy import sign\n",
    "\n",
    "def xi_generate(x_range,e):\n",
    "    bin=len(x_range)\n",
    "    C=np.random.random((bin,bin))\n",
    "    for i in range(bin):\n",
    "        for j in range(bin):\n",
    "            C[i,j]=abs(x_range[i]-x_range[j])/e\n",
    "    return C\n",
    "\n",
    "def bisection(fun, a, b, stepmax, tol):\n",
    "    \n",
    "    if sign(fun(a)) == 0: return a\n",
    "    if sign(fun(b)) == 0: return b\n",
    "        \n",
    "    if sign(fun(a)) * sign(fun(b)) > 0: return print(\"bad section\")\n",
    "        \n",
    "    for step in range(1, stepmax+1):\n",
    "    \n",
    "        c = (a + b) / 2\n",
    "            \n",
    "        if sign(fun(c)) == 0: return c\n",
    "        \n",
    "        if abs((b - a)/2) < tol: return (b + a) / 2\n",
    "            \n",
    "        if sign(fun(c)) * sign(fun(a)) < 0:\n",
    "            b = c\n",
    "        else:\n",
    "            a = c\n",
    "    \n",
    "    return (a + b) / 2                 "
   ]
  },
  {
   "attachments": {},
   "cell_type": "markdown",
   "metadata": {},
   "source": [
    "n: the number of points."
   ]
  },
  {
   "cell_type": "code",
   "execution_count": 8,
   "metadata": {},
   "outputs": [],
   "source": [
    "n=4"
   ]
  },
  {
   "cell_type": "code",
   "execution_count": 9,
   "metadata": {},
   "outputs": [],
   "source": [
    "dist=dict()\n",
    "dist['s']=np.array([0.6,0.4])\n",
    "dist['x_0']= (1/n)*np.ones(n)\n",
    "dist['x_1']= np.concatenate(((1/(n-2))*np.ones(n-2),np.zeros(2)),axis=None)\n",
    "dist['x']=dist['s'][0]*dist['x_0']+dist['s'][1]*dist['x_1']\n",
    "dist['t_x']= (1/n)*np.ones(n)"
   ]
  },
  {
   "cell_type": "code",
   "execution_count": 10,
   "metadata": {},
   "outputs": [],
   "source": [
    "v=(dist['x_0']-dist['x_1'])/dist['x']"
   ]
  },
  {
   "cell_type": "code",
   "execution_count": 11,
   "metadata": {},
   "outputs": [],
   "source": [
    "e=0.01"
   ]
  },
  {
   "attachments": {},
   "cell_type": "markdown",
   "metadata": {},
   "source": [
    "sum(gamma) == gamma.T \\mathbb{1}\n",
    "\n",
    "sum(gamma.T) == gamma \\mathbb{1}"
   ]
  },
  {
   "cell_type": "code",
   "execution_count": 12,
   "metadata": {},
   "outputs": [],
   "source": [
    "xi=xi_generate([*range(n)],e)"
   ]
  },
  {
   "cell_type": "code",
   "execution_count": 13,
   "metadata": {},
   "outputs": [],
   "source": [
    "# simplist\n",
    "gamma=xi\n",
    "for repeat in range(100):\n",
    "    new_gamma=np.diag(dist['x']/sum(gamma.T))@gamma\n",
    "    new2_gamma=new_gamma@np.diag(dist['t_x']/sum(new_gamma))\n",
    "    gamma=new2_gamma"
   ]
  },
  {
   "cell_type": "code",
   "execution_count": 14,
   "metadata": {},
   "outputs": [],
   "source": [
    "theta=abs(gamma.T @ v)*(1-0.3)"
   ]
  },
  {
   "cell_type": "code",
   "execution_count": 87,
   "metadata": {},
   "outputs": [],
   "source": [
    "I=np.where(~(v==0))[0].tolist() # \\overline{\\supp(X)}\n",
    "bbm1=np.matrix(np.ones(n)).T\n",
    "px=np.matrix(dist['x']).T\n",
    "ptx=np.matrix(dist['t_x']).T\n",
    "V=np.matrix(v).T\n",
    "Ve=np.multiply(V,np.exp(V))\n",
    "#theta=np.matrix(abs(gamma.T @ v)*(1-0.3)).T\n",
    "gamma_dict=dict()\n",
    "gamma_dict[0]=np.matrix(xi+0.01)\n",
    "gamma_dict[1]=np.matrix(np.diag((px/(gamma_dict[0] @ bbm1)).A1))@gamma_dict[0]\n",
    "gamma_dict[2]=gamma_dict[1]@np.matrix(np.diag((ptx/(gamma_dict[1].T @ bbm1)).A1))\n",
    "# step 3\n",
    "J=np.where(~((np.matrix(gamma_dict[2]).T @ np.matrix(v).T).A1 ==0))[0].tolist()\n",
    "nu=np.zeros(n)\n",
    "gamma_dict[3]=np.copy(gamma_dict[2])\n",
    "for j in J:\n",
    "    fun = lambda z: sum(gamma_dict[2].item(i,j)*V.item(i)*np.exp(z*V.item(i)) for i in I)\n",
    "    nu = bisection(fun, -5, 5, stepmax = 25, tol = 1.0e-3)\n",
    "    for i in I:\n",
    "        gamma_dict[3][i,j]=np.exp(nu*V.item(i))*gamma_dict[2].item(i,j)\n",
    "gamma_dict[3]=np.matrix(gamma_dict[3])\n",
    "\n",
    "#=========================\n",
    "L=3\n",
    "q_dict=dict()\n",
    "for loop in range(1,5):\n",
    "    tmp,q_dict[(loop-1)*L+1]=tmp_generator(gamma_dict,loop*L+1,q_dict,(loop-2)*L+1,L) #np.matrix(gamma_dict[3].A1*gamma_dict[0].A1/gamma_dict[1].A1)\n",
    "    gamma_dict[loop*L+1]=np.matrix(np.diag((px/(tmp @ bbm1)).A1))@tmp\n",
    "\n",
    "    tmp,q_dict[(loop-1)*L+2]=tmp_generator(gamma_dict,loop*L+2,q_dict,(loop-2)*L+2,L)  #np.matrix(gamma_dict[4].A1*gamma_dict[1].A1/gamma_dict[2].A1)\n",
    "    gamma_dict[loop*L+2]=tmp@np.matrix(np.diag((ptx/(tmp.T @ bbm1)).A1))\n",
    "\n",
    "    # step 3\n",
    "    tmp,q_dict[(loop-1)*L+3]=tmp_generator(gamma_dict,loop*L+3,q_dict,(loop-2)*L+3,L)  #np.matrix(gamma_dict[5].A1*gamma_dict[2].A1/gamma_dict[3].A1)\n",
    "    J=np.where(~((np.matrix(tmp).T @ np.matrix(v).T).A1 ==0))[0].tolist()\n",
    "    gamma_dict[loop*L+3]=np.copy(tmp)\n",
    "    for j in J:\n",
    "        fun = lambda z: sum(tmp.item(i,j)*V.item(i)*np.exp(z*V.item(i)) for i in I)\n",
    "        nu = bisection(fun, -5, 5, stepmax = 25, tol = 1.0e-3)\n",
    "        for i in I:\n",
    "            gamma_dict[loop*L+3][i,j]=np.exp(nu*V.item(i))*tmp.item(i,j)\n",
    "    gamma_dict[loop*L+3]=np.matrix(gamma_dict[loop*L+3])\n",
    "\n"
   ]
  },
  {
   "cell_type": "code",
   "execution_count": 86,
   "metadata": {},
   "outputs": [
    {
     "data": {
      "text/plain": [
       "{1: matrix([[1714.4       , 1714.4       , 1714.4       , 1714.4       ],\n",
       "         [1142.97142857, 1142.97142857, 1142.97142857, 1142.97142857],\n",
       "         [2666.93333333, 2666.93333333, 2666.93333333, 2666.93333333],\n",
       "         [4000.26666667, 4000.26666667, 4000.26666667, 4000.26666667]]),\n",
       " 2: matrix([[1506.2934775 , 1506.2934775 , 1506.2934775 , 1506.2934775 ],\n",
       "         [ 913.29201   ,  913.29201   ,  913.29201   ,  913.29201   ],\n",
       "         [2142.68316439, 2142.68316439, 2142.68316439, 2142.68316439],\n",
       "         [3496.93600365, 3496.93600365, 3496.93600365, 3496.93600365]]),\n",
       " 3: matrix([[1522.2190931 , 1443.51540042, 1581.98123502, 1550.96517121],\n",
       "         [ 900.69532232,  854.12643604,  936.05651437,  917.70434435],\n",
       "         [2011.4154033 , 2087.25615797, 2108.68972438, 2236.11495223],\n",
       "         [3381.77726829, 3509.2877466 , 3545.32383717, 3759.56289402]]),\n",
       " 4: matrix([[1504.08574814, 1426.31960855, 1563.13597708, 1532.4893903 ],\n",
       "         [ 911.95342518,  864.80245826,  947.75660902,  929.17504887],\n",
       "         [2042.32555667, 2119.33178386, 2141.09472768, 2270.47814544],\n",
       "         [3333.14877766, 3458.82571059, 3494.3436178 , 3705.50200992]])}"
      ]
     },
     "execution_count": 86,
     "metadata": {},
     "output_type": "execute_result"
    }
   ],
   "source": [
    "q_dict"
   ]
  },
  {
   "cell_type": "code",
   "execution_count": 83,
   "metadata": {},
   "outputs": [],
   "source": [
    "def tmp_generator(gamma_dict,num,q_dict,q_num,L):\n",
    "    if q_num<=0:\n",
    "        q=np.matrix(np.ones((4,4)))\n",
    "    else:\n",
    "        q=q_dict[q_num]\n",
    "    tmp_gamma=np.zeros((4,4))\n",
    "    tmp_q=np.zeros((4,4))\n",
    "    for i in range(4):\n",
    "        for j in range(4):\n",
    "            tmp_gamma[i,j]=q.item(i,j)*gamma_dict[num-1].item(i,j)*gamma_dict[num-L-1].item(i,j)/gamma_dict[num-L].item(i,j)\n",
    "            tmp_q[i,j]=q.item(i,j)*gamma_dict[num-L-1].item(i,j)/gamma_dict[num-L].item(i,j)\n",
    "    return np.matrix(tmp_gamma),np.matrix(tmp_q) "
   ]
  },
  {
   "cell_type": "code",
   "execution_count": 81,
   "metadata": {},
   "outputs": [
    {
     "data": {
      "text/plain": [
       "matrix([[1.06033494e-05, 1.74944338e-01, 9.59000950e-02, 8.33645837e-02],\n",
       "        [1.74898642e-01, 2.88507031e-05, 7.90880180e-02, 9.16637250e-02],\n",
       "        [3.91003549e-02, 3.36914379e-02, 1.22328162e-05, 7.49257570e-02],\n",
       "        [3.59364352e-02, 4.12855526e-02, 7.49618250e-02, 4.59047879e-06]])"
      ]
     },
     "execution_count": 81,
     "metadata": {},
     "output_type": "execute_result"
    }
   ],
   "source": [
    "gamma_dict[6]"
   ]
  },
  {
   "cell_type": "code",
   "execution_count": 64,
   "metadata": {},
   "outputs": [
    {
     "data": {
      "text/plain": [
       "array([9.30258207e-08, 1.45562000e+01, 1.74886122e+01, 2.23564393e+01,\n",
       "       1.39561988e+01, 2.18292062e-07, 6.55866678e+00, 1.49042929e+01,\n",
       "       5.98887463e+00, 2.67762507e+00, 9.82087479e-08, 6.37939852e+00,\n",
       "       8.98331194e+00, 7.13985754e+00, 6.54877764e+00, 4.25222361e-08])"
      ]
     },
     "execution_count": 64,
     "metadata": {},
     "output_type": "execute_result"
    }
   ],
   "source": [
    "gamma_dict[3].A1*gamma_dict[0].A1"
   ]
  },
  {
   "cell_type": "code",
   "execution_count": 65,
   "metadata": {},
   "outputs": [
    {
     "data": {
      "text/plain": [
       "array([5.83294447e-06, 5.83352776e-02, 1.16664722e-01, 1.74994167e-01,\n",
       "       8.75000000e-02, 8.74912509e-06, 8.75000000e-02, 1.74991251e-01,\n",
       "       7.49962504e-02, 3.75000000e-02, 3.74962504e-06, 3.75000000e-02,\n",
       "       7.49975002e-02, 4.99991667e-02, 2.50008333e-02, 2.49983334e-06])"
      ]
     },
     "execution_count": 65,
     "metadata": {},
     "output_type": "execute_result"
    }
   ],
   "source": [
    "gamma_dict[1].A1"
   ]
  },
  {
   "cell_type": "code",
   "execution_count": 50,
   "metadata": {},
   "outputs": [
    {
     "ename": "ValueError",
     "evalue": "matmul: Input operand 1 has a mismatch in its core dimension 0, with gufunc signature (n?,k),(k,m?)->(n?,m?) (size 4 is different from 16)",
     "output_type": "error",
     "traceback": [
      "\u001b[1;31m---------------------------------------------------------------------------\u001b[0m",
      "\u001b[1;31mValueError\u001b[0m                                Traceback (most recent call last)",
      "Cell \u001b[1;32mIn[50], line 1\u001b[0m\n\u001b[1;32m----> 1\u001b[0m np\u001b[39m.\u001b[39mmatrix(np\u001b[39m.\u001b[39mdiag((px\u001b[39m/\u001b[39m(tmp \u001b[39m@\u001b[39;49m bbm1))\u001b[39m.\u001b[39mA1))\n",
      "\u001b[1;31mValueError\u001b[0m: matmul: Input operand 1 has a mismatch in its core dimension 0, with gufunc signature (n?,k),(k,m?)->(n?,m?) (size 4 is different from 16)"
     ]
    }
   ],
   "source": [
    "np.matrix(np.diag((px/(tmp @ bbm1)).A1))"
   ]
  },
  {
   "cell_type": "code",
   "execution_count": 46,
   "metadata": {},
   "outputs": [
    {
     "data": {
      "text/plain": [
       "matrix([[6.13995232e-06, 9.99965721e-02, 1.27269141e-01, 1.12902983e-01],\n",
       "        [9.21054247e-02, 1.49974861e-05, 9.54534464e-02, 1.12901101e-01],\n",
       "        [7.89435599e-02, 6.42813681e-02, 4.09045294e-06, 2.41943028e-02],\n",
       "        [7.89448755e-02, 8.57070624e-02, 2.72733223e-02, 1.61284599e-06]])"
      ]
     },
     "execution_count": 46,
     "metadata": {},
     "output_type": "execute_result"
    }
   ],
   "source": [
    "gamma_dict[2]"
   ]
  },
  {
   "cell_type": "code",
   "execution_count": 44,
   "metadata": {},
   "outputs": [
    {
     "data": {
      "text/plain": [
       "array([[6.13995232e-06, 9.99965721e-02, 1.27269141e-01, 1.12902983e-01],\n",
       "       [9.21054247e-02, 1.49974861e-05, 9.54534464e-02, 1.12901101e-01],\n",
       "       [7.89435599e-02, 6.42813681e-02, 4.09045294e-06, 2.41943028e-02],\n",
       "       [7.89448755e-02, 8.57070624e-02, 2.72733223e-02, 1.61284599e-06]])"
      ]
     },
     "execution_count": 44,
     "metadata": {},
     "output_type": "execute_result"
    }
   ],
   "source": [
    "gamma_dict[3]"
   ]
  },
  {
   "cell_type": "code",
   "execution_count": 31,
   "metadata": {},
   "outputs": [
    {
     "data": {
      "text/plain": [
       "matrix([[9.49998334e-03, 5.83431111e+01, 1.83344611e+02, 4.65001001e+02,\n",
       "         9.50093334e+01, 5.83372774e-03, 9.16768889e+01, 3.10005834e+02,\n",
       "         1.90009167e+02, 5.83431111e+01, 9.16677221e-03, 1.55010667e+02,\n",
       "         2.85009000e+02, 1.16680389e+02, 9.16768889e+01, 1.54995167e-02]])"
      ]
     },
     "execution_count": 31,
     "metadata": {},
     "output_type": "execute_result"
    }
   ],
   "source": [
    "np.matrix(gamma_dict[1].A1*gamma_dict[0].A1/gamma_dict[2].A1)"
   ]
  },
  {
   "cell_type": "code",
   "execution_count": 25,
   "metadata": {},
   "outputs": [
    {
     "data": {
      "text/plain": [
       "matrix([[ 0.00012661],\n",
       "        [ 0.00014041],\n",
       "        [-0.00014739],\n",
       "        [-0.00013503]])"
      ]
     },
     "execution_count": 25,
     "metadata": {},
     "output_type": "execute_result"
    }
   ],
   "source": [
    "gamma_dict[3].T@ V"
   ]
  },
  {
   "cell_type": "code",
   "execution_count": 39,
   "metadata": {},
   "outputs": [
    {
     "data": {
      "text/plain": [
       "matrix([[0.48954166],\n",
       "        [0.48954166],\n",
       "        [5.29449005],\n",
       "        [5.29449005]])"
      ]
     },
     "execution_count": 39,
     "metadata": {},
     "output_type": "execute_result"
    }
   ],
   "source": [
    "np.exp(V)"
   ]
  },
  {
   "cell_type": "code",
   "execution_count": 24,
   "metadata": {},
   "outputs": [
    {
     "data": {
      "text/plain": [
       "matrix([[ 0.19735342],\n",
       "        [ 0.17854388],\n",
       "        [-0.11362521],\n",
       "        [-0.12096211]])"
      ]
     },
     "execution_count": 24,
     "metadata": {},
     "output_type": "execute_result"
    }
   ],
   "source": [
    "gamma_dict[2].T @ V"
   ]
  },
  {
   "cell_type": "code",
   "execution_count": null,
   "metadata": {},
   "outputs": [],
   "source": [
    "q_dict=dict()\n",
    "q_dict[1]=gamma_dict[0]/gamma_dict[1]"
   ]
  },
  {
   "cell_type": "code",
   "execution_count": 15,
   "metadata": {},
   "outputs": [
    {
     "data": {
      "text/plain": [
       "array([0.09423409, 0.09423409, 0.09423409, 0.09423409])"
      ]
     },
     "execution_count": 15,
     "metadata": {},
     "output_type": "execute_result"
    }
   ],
   "source": [
    "theta"
   ]
  },
  {
   "cell_type": "code",
   "execution_count": 18,
   "metadata": {},
   "outputs": [
    {
     "data": {
      "text/plain": [
       "array([0.35, 0.35, 0.15, 0.15])"
      ]
     },
     "execution_count": 18,
     "metadata": {},
     "output_type": "execute_result"
    }
   ],
   "source": [
    "dist['x']"
   ]
  },
  {
   "cell_type": "code",
   "execution_count": 19,
   "metadata": {},
   "outputs": [
    {
     "data": {
      "text/plain": [
       "array([0.25, 0.25, 0.25, 0.25])"
      ]
     },
     "execution_count": 19,
     "metadata": {},
     "output_type": "execute_result"
    }
   ],
   "source": [
    "dist['t_x']"
   ]
  },
  {
   "cell_type": "code",
   "execution_count": 16,
   "metadata": {},
   "outputs": [
    {
     "data": {
      "text/plain": [
       "array([0.12552459, 0.12552459, 0.20091186, 0.20091186])"
      ]
     },
     "execution_count": 16,
     "metadata": {},
     "output_type": "execute_result"
    }
   ],
   "source": [
    "sum(gamma)"
   ]
  },
  {
   "cell_type": "code",
   "execution_count": null,
   "metadata": {},
   "outputs": [],
   "source": [
    "\n",
    "def algorithms(reg,m,n,g,f,C):\n",
    "    K=np.exp(-C/C.max()/reg)\n",
    "    interations=100\n",
    "    trial=10 #check the optimiality every trial. \n",
    "    u=np.ones((n,1))\n",
    "    u_record=np.ones((n,1))\n",
    "    for tri in range(trial):\n",
    "        if sum(abs(u_record-u))<10**(-10):\n",
    "            for i in range(1,interations):\n",
    "                v=g/np.dot(K.T,u)\n",
    "                u=f/np.dot(K,v)\n",
    "            u_record=u\n",
    "        else:\n",
    "            break\n",
    "    return np.dot(np.diag(u.reshape((1,-1))[0]),np.dot(K,np.diag(v.reshape((1,-1))[0])))\n",
    "\n",
    "def assess(m,n,g,f,C,output):\n",
    "    print('sum of violation of f:',sum(abs(np.sum(output,1)-f.reshape(n))))\n",
    "    print('sum of violation of g:',sum(abs(np.sum(output,0)-g.reshape(m))))\n",
    "    print('total cost:',sum(sum(output*C)))\n",
    "    print('entropy:',sum(sum(-output*np.log(output+0.1**3))))\n",
    "    print('============================================')\n",
    "\n",
    "def plots(x_range,g,f,output):\n",
    "    fig = plt.figure(figsize=(3,3))\n",
    "    gs = fig.add_gridspec(2, 2, width_ratios=(4,1), height_ratios=(1,4),left=0.1,right=0.9,bottom=0.1, top=0.9,wspace=0,hspace=0)\n",
    "    # Create the Axes.\n",
    "    ax = fig.add_subplot(gs[1, 0])\n",
    "    ax.pcolormesh(x_range, x_range, output, cmap='Blues')\n",
    "    ax.set_xlabel(r'$\\mathbb{X}$',fontsize=14)\n",
    "    ax.set_ylabel(r'$\\tilde{\\mathbb{X}}$',rotation='horizontal',fontsize=14)\n",
    "    ax.set_xticklabels([])\n",
    "    ax.set_yticklabels([])\n",
    "    ax_histx = fig.add_subplot(gs[0, 0], sharex=ax) \n",
    "    ax_histy = fig.add_subplot(gs[1, 1], sharey=ax)\n",
    "    #ax_histx.set_title(r'$Pr[x]$',rotation='horizontal')\n",
    "    #ax_histy.set_title(r'$Pr[\\tilde{x}]$')\n",
    "    ax_histx.tick_params(axis=\"x\", labelbottom=False)\n",
    "    ax_histx.tick_params(axis=\"y\", labelleft=False)\n",
    "    ax_histy.tick_params(axis=\"x\", labelbottom=False)\n",
    "    ax_histy.tick_params(axis=\"y\", labelleft=False)\n",
    "    ax_histx.plot(x_range,g,color='tab:blue')\n",
    "    ax_histy.plot(f,x_range,color='tab:green') \n",
    "    return fig\n",
    "\n",
    "def OT(reg,x_range,g,f):\n",
    "    m=len(g)\n",
    "    n=len(f)\n",
    "    C=c_generate(x_range)\n",
    "    output=algorithms(reg,m,n,g.reshape(m,-1),f.reshape(n,-1),C)\n",
    "    assess(m,n,g,f,C,output)\n",
    "    plots(x_range,g,f,output)\n",
    "    return outputa"
   ]
  }
 ],
 "metadata": {
  "kernelspec": {
   "display_name": "base",
   "language": "python",
   "name": "python3"
  },
  "language_info": {
   "codemirror_mode": {
    "name": "ipython",
    "version": 3
   },
   "file_extension": ".py",
   "mimetype": "text/x-python",
   "name": "python",
   "nbconvert_exporter": "python",
   "pygments_lexer": "ipython3",
   "version": "3.9.13"
  },
  "orig_nbformat": 4
 },
 "nbformat": 4,
 "nbformat_minor": 2
}
