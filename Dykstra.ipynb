{
 "cells": [
  {
   "cell_type": "code",
   "execution_count": 1,
   "metadata": {},
   "outputs": [],
   "source": [
    "import math\n",
    "import numpy as np\n",
    "import pandas as pd\n",
    "import matplotlib.pyplot as plt"
   ]
  },
  {
   "attachments": {},
   "cell_type": "markdown",
   "metadata": {},
   "source": [
    "n: the number of points in supp(X)\n",
    "\n",
    "m: the number of points in supp(\\Tilde(X))"
   ]
  },
  {
   "cell_type": "code",
   "execution_count": 27,
   "metadata": {},
   "outputs": [],
   "source": [
    "n=4"
   ]
  },
  {
   "cell_type": "code",
   "execution_count": 28,
   "metadata": {},
   "outputs": [],
   "source": [
    "dist=dict()\n",
    "dist['s']=np.array([0.6,0.4])\n",
    "dist['x_0']= (1/n)*np.ones(n)\n",
    "dist['x_1']= np.concatenate(((1/(n-2))*np.ones(n-2),np.zeros(2)),axis=None)\n",
    "dist['x']=dist['s'][0]*dist['x_0']+dist['s'][1]*dist['x_1']\n",
    "dist['t_x']= (1/n)*np.ones(n)"
   ]
  },
  {
   "cell_type": "code",
   "execution_count": 29,
   "metadata": {},
   "outputs": [],
   "source": [
    "v=(dist['x_0']-dist['x_1'])/dist['x']"
   ]
  },
  {
   "cell_type": "code",
   "execution_count": 39,
   "metadata": {},
   "outputs": [],
   "source": [
    "e=0.01"
   ]
  },
  {
   "attachments": {},
   "cell_type": "markdown",
   "metadata": {},
   "source": [
    "sum(gamma) == gamma.T \\mathbb{1}\n",
    "\n",
    "sum(gamma.T) == gamma \\mathbb{1}"
   ]
  },
  {
   "cell_type": "code",
   "execution_count": 41,
   "metadata": {},
   "outputs": [],
   "source": [
    "xi=xi_generate([*range(n)],e)"
   ]
  },
  {
   "cell_type": "code",
   "execution_count": 46,
   "metadata": {},
   "outputs": [],
   "source": [
    "gamma=xi"
   ]
  },
  {
   "cell_type": "code",
   "execution_count": 50,
   "metadata": {},
   "outputs": [
    {
     "data": {
      "text/plain": [
       "array([0.35, 0.35, 0.15, 0.15])"
      ]
     },
     "execution_count": 50,
     "metadata": {},
     "output_type": "execute_result"
    }
   ],
   "source": [
    "dist['x']"
   ]
  },
  {
   "cell_type": "code",
   "execution_count": 73,
   "metadata": {},
   "outputs": [
    {
     "data": {
      "text/plain": [
       "array([0.25, 0.25, 0.25, 0.25])"
      ]
     },
     "execution_count": 73,
     "metadata": {},
     "output_type": "execute_result"
    }
   ],
   "source": [
    "dist['t_x']"
   ]
  },
  {
   "cell_type": "code",
   "execution_count": 71,
   "metadata": {},
   "outputs": [
    {
     "data": {
      "text/plain": [
       "array([[  0., 100., 200., 300.],\n",
       "       [100.,   0., 100., 200.],\n",
       "       [200., 100.,   0., 100.],\n",
       "       [300., 200., 100.,   0.]])"
      ]
     },
     "execution_count": 71,
     "metadata": {},
     "output_type": "execute_result"
    }
   ],
   "source": [
    "gamma"
   ]
  },
  {
   "cell_type": "code",
   "execution_count": 70,
   "metadata": {},
   "outputs": [
    {
     "data": {
      "text/plain": [
       "array([[0.        , 0.05833333, 0.11666667, 0.175     ],\n",
       "       [0.0875    , 0.        , 0.0875    , 0.175     ],\n",
       "       [0.075     , 0.0375    , 0.        , 0.0375    ],\n",
       "       [0.075     , 0.05      , 0.025     , 0.        ]])"
      ]
     },
     "execution_count": 70,
     "metadata": {},
     "output_type": "execute_result"
    }
   ],
   "source": [
    "new_gamma"
   ]
  },
  {
   "cell_type": "code",
   "execution_count": 72,
   "metadata": {},
   "outputs": [
    {
     "data": {
      "text/plain": [
       "array([[0.        , 0.1       , 0.12727273, 0.11290323],\n",
       "       [0.09210526, 0.        , 0.09545455, 0.11290323],\n",
       "       [0.07894737, 0.06428571, 0.        , 0.02419355],\n",
       "       [0.07894737, 0.08571429, 0.02727273, 0.        ]])"
      ]
     },
     "execution_count": 72,
     "metadata": {},
     "output_type": "execute_result"
    }
   ],
   "source": [
    "newnew_gamma"
   ]
  },
  {
   "cell_type": "code",
   "execution_count": 86,
   "metadata": {},
   "outputs": [],
   "source": [
    "# simplist\n",
    "gamma=xi\n",
    "for repeat in range(100):\n",
    "    new_gamma=np.diag(dist['x']/sum(gamma.T))@gamma\n",
    "    new2_gamma=new_gamma@np.diag(dist['t_x']/sum(new_gamma))\n",
    "    gamma=new2_gamma"
   ]
  },
  {
   "cell_type": "code",
   "execution_count": 87,
   "metadata": {},
   "outputs": [],
   "source": [
    "theta=abs(gamma.T @ v)*(1-0.3)"
   ]
  },
  {
   "cell_type": "code",
   "execution_count": null,
   "metadata": {},
   "outputs": [],
   "source": [
    "gamma=xi\n",
    "for repeat in range(100):\n",
    "    new_gamma=np.diag(dist['x']/sum(gamma.T))@gamma\n",
    "    new2_gamma=new_gamma@np.diag(dist['t_x']/sum(new_gamma))\n",
    "    "
   ]
  },
  {
   "cell_type": "code",
   "execution_count": 36,
   "metadata": {},
   "outputs": [],
   "source": [
    "def xi_generate(x_range,e):\n",
    "    bin=len(x_range)\n",
    "    C=np.random.random((bin,bin))\n",
    "    for i in range(bin):\n",
    "        for j in range(bin):\n",
    "            C[i,j]=abs(x_range[i]-x_range[j])/e\n",
    "    return C"
   ]
  },
  {
   "cell_type": "code",
   "execution_count": null,
   "metadata": {},
   "outputs": [],
   "source": [
    "\n",
    "def algorithms(reg,m,n,g,f,C):\n",
    "    K=np.exp(-C/C.max()/reg)\n",
    "    interations=100\n",
    "    trial=10 #check the optimiality every trial. \n",
    "    u=np.ones((n,1))\n",
    "    u_record=np.ones((n,1))\n",
    "    for tri in range(trial):\n",
    "        if sum(abs(u_record-u))<10**(-10):\n",
    "            for i in range(1,interations):\n",
    "                v=g/np.dot(K.T,u)\n",
    "                u=f/np.dot(K,v)\n",
    "            u_record=u\n",
    "        else:\n",
    "            break\n",
    "    return np.dot(np.diag(u.reshape((1,-1))[0]),np.dot(K,np.diag(v.reshape((1,-1))[0])))\n",
    "\n",
    "def assess(m,n,g,f,C,output):\n",
    "    print('sum of violation of f:',sum(abs(np.sum(output,1)-f.reshape(n))))\n",
    "    print('sum of violation of g:',sum(abs(np.sum(output,0)-g.reshape(m))))\n",
    "    print('total cost:',sum(sum(output*C)))\n",
    "    print('entropy:',sum(sum(-output*np.log(output+0.1**3))))\n",
    "    print('============================================')\n",
    "\n",
    "def plots(x_range,g,f,output):\n",
    "    fig = plt.figure(figsize=(3,3))\n",
    "    gs = fig.add_gridspec(2, 2, width_ratios=(4,1), height_ratios=(1,4),left=0.1,right=0.9,bottom=0.1, top=0.9,wspace=0,hspace=0)\n",
    "    # Create the Axes.\n",
    "    ax = fig.add_subplot(gs[1, 0])\n",
    "    ax.pcolormesh(x_range, x_range, output, cmap='Blues')\n",
    "    ax.set_xlabel(r'$\\mathbb{X}$',fontsize=14)\n",
    "    ax.set_ylabel(r'$\\tilde{\\mathbb{X}}$',rotation='horizontal',fontsize=14)\n",
    "    ax.set_xticklabels([])\n",
    "    ax.set_yticklabels([])\n",
    "    ax_histx = fig.add_subplot(gs[0, 0], sharex=ax) \n",
    "    ax_histy = fig.add_subplot(gs[1, 1], sharey=ax)\n",
    "    #ax_histx.set_title(r'$Pr[x]$',rotation='horizontal')\n",
    "    #ax_histy.set_title(r'$Pr[\\tilde{x}]$')\n",
    "    ax_histx.tick_params(axis=\"x\", labelbottom=False)\n",
    "    ax_histx.tick_params(axis=\"y\", labelleft=False)\n",
    "    ax_histy.tick_params(axis=\"x\", labelbottom=False)\n",
    "    ax_histy.tick_params(axis=\"y\", labelleft=False)\n",
    "    ax_histx.plot(x_range,g,color='tab:blue')\n",
    "    ax_histy.plot(f,x_range,color='tab:green') \n",
    "    return fig\n",
    "\n",
    "def OT(reg,x_range,g,f):\n",
    "    m=len(g)\n",
    "    n=len(f)\n",
    "    C=c_generate(x_range)\n",
    "    output=algorithms(reg,m,n,g.reshape(m,-1),f.reshape(n,-1),C)\n",
    "    assess(m,n,g,f,C,output)\n",
    "    plots(x_range,g,f,output)\n",
    "    return outputa"
   ]
  }
 ],
 "metadata": {
  "kernelspec": {
   "display_name": "base",
   "language": "python",
   "name": "python3"
  },
  "language_info": {
   "codemirror_mode": {
    "name": "ipython",
    "version": 3
   },
   "file_extension": ".py",
   "mimetype": "text/x-python",
   "name": "python",
   "nbconvert_exporter": "python",
   "pygments_lexer": "ipython3",
   "version": "3.9.13"
  },
  "orig_nbformat": 4
 },
 "nbformat": 4,
 "nbformat_minor": 2
}
