{
 "cells": [
  {
   "cell_type": "code",
   "execution_count": 1,
   "metadata": {},
   "outputs": [],
   "source": [
    "import math\n",
    "import numpy as np\n",
    "import pandas as pd\n",
    "import matplotlib.pyplot as plt"
   ]
  },
  {
   "attachments": {},
   "cell_type": "markdown",
   "metadata": {},
   "source": [
    "n: the number of points."
   ]
  },
  {
   "cell_type": "code",
   "execution_count": 2,
   "metadata": {},
   "outputs": [],
   "source": [
    "n=4"
   ]
  },
  {
   "cell_type": "code",
   "execution_count": 3,
   "metadata": {},
   "outputs": [],
   "source": [
    "dist=dict()\n",
    "dist['s']=np.array([0.6,0.4])\n",
    "dist['x_0']= (1/n)*np.ones(n)\n",
    "dist['x_1']= np.concatenate(((1/(n-2))*np.ones(n-2),np.zeros(2)),axis=None)\n",
    "dist['x']=dist['s'][0]*dist['x_0']+dist['s'][1]*dist['x_1']\n",
    "dist['t_x']= (1/n)*np.ones(n)"
   ]
  },
  {
   "cell_type": "code",
   "execution_count": 4,
   "metadata": {},
   "outputs": [],
   "source": [
    "v=(dist['x_0']-dist['x_1'])/dist['x']"
   ]
  },
  {
   "cell_type": "code",
   "execution_count": 5,
   "metadata": {},
   "outputs": [],
   "source": [
    "e=0.01"
   ]
  },
  {
   "attachments": {},
   "cell_type": "markdown",
   "metadata": {},
   "source": [
    "sum(gamma) == gamma.T \\mathbb{1}\n",
    "\n",
    "sum(gamma.T) == gamma \\mathbb{1}"
   ]
  },
  {
   "cell_type": "code",
   "execution_count": 7,
   "metadata": {},
   "outputs": [],
   "source": [
    "xi=xi_generate([*range(n)],e)"
   ]
  },
  {
   "cell_type": "code",
   "execution_count": 106,
   "metadata": {},
   "outputs": [],
   "source": [
    "# simplist\n",
    "gamma=xi\n",
    "for repeat in range(100):\n",
    "    new_gamma=np.diag(dist['x']/sum(gamma.T))@gamma\n",
    "    new2_gamma=new_gamma@np.diag(dist['t_x']/sum(new_gamma))\n",
    "    gamma=new2_gamma"
   ]
  },
  {
   "cell_type": "code",
   "execution_count": 9,
   "metadata": {},
   "outputs": [],
   "source": [
    "theta=abs(gamma.T @ v)*(1-0.3)"
   ]
  },
  {
   "cell_type": "code",
   "execution_count": 65,
   "metadata": {},
   "outputs": [],
   "source": [
    "bbm1=np.matrix(np.ones(n)).T\n",
    "px=np.matrix(dist['x']).T\n",
    "ptx=np.matrix(dist['t_x']).T"
   ]
  },
  {
   "cell_type": "code",
   "execution_count": 89,
   "metadata": {},
   "outputs": [
    {
     "ename": "ValueError",
     "evalue": "shape mismatch: value array of shape (4,1) could not be broadcast to indexing result of shape (4,)",
     "output_type": "error",
     "traceback": [
      "\u001b[1;31m---------------------------------------------------------------------------\u001b[0m",
      "\u001b[1;31mValueError\u001b[0m                                Traceback (most recent call last)",
      "Cell \u001b[1;32mIn[89], line 15\u001b[0m\n\u001b[0;32m     13\u001b[0m     gamma_dict[\u001b[39m3\u001b[39m]\u001b[39m=\u001b[39mgamma_dict[\u001b[39m2\u001b[39m]\n\u001b[0;32m     14\u001b[0m     \u001b[39mfor\u001b[39;00m j \u001b[39min\u001b[39;00m J:\n\u001b[1;32m---> 15\u001b[0m         gamma_dict[\u001b[39m3\u001b[39;49m][I,j]\u001b[39m=\u001b[39mnew3_gamma_tmp[I,j]\n\u001b[0;32m     16\u001b[0m \u001b[39m# step 4\u001b[39;00m\n\u001b[0;32m     17\u001b[0m J\u001b[39m=\u001b[39mnp\u001b[39m.\u001b[39mwhere(\u001b[39m~\u001b[39m((np\u001b[39m.\u001b[39mmatrix(gamma_dict[\u001b[39m3\u001b[39m])\u001b[39m.\u001b[39mT \u001b[39m@\u001b[39m np\u001b[39m.\u001b[39mmatrix(v)\u001b[39m.\u001b[39mT)\u001b[39m.\u001b[39mA1 \u001b[39m<\u001b[39m\u001b[39m=\u001b[39m theta))[\u001b[39m0\u001b[39m]\u001b[39m.\u001b[39mtolist()\n",
      "\u001b[1;31mValueError\u001b[0m: shape mismatch: value array of shape (4,1) could not be broadcast to indexing result of shape (4,)"
     ]
    }
   ],
   "source": [
    "I=np.where(~(v==0))[0].tolist() # \\overline{\\supp(X)}\n",
    "bbm1=np.matrix(np.ones(n)).T\n",
    "px=np.matrix(dist['x']).T\n",
    "ptx=np.matrix(dist['t_x']).T\n",
    "V=np.matrix(v).T\n",
    "Ve=np.multiply(V,np.exp(V))\n",
    "theta=np.matrix(abs(gamma.T @ v)*(1-0.3)).T\n",
    "gamma_dict=dict()\n",
    "gamma_dict[0]=np.matrix(xi+0.01)\n",
    "gamma_dict[1]=np.matrix(np.diag((px/(gamma_dict[0] @ bbm1)).A1))@gamma_dict[0]\n",
    "gamma_dict[2]=gamma_dict[1]@np.matrix(np.diag((ptx/(gamma_dict[1].T @ bbm1)).A1))\n",
    "# step 3\n",
    "J=np.where(~((np.matrix(gamma_dict[2]).T @ np.matrix(v).T).A1 >= -theta))[0].tolist()\n",
    "if len(J)!=0:\n",
    "    new3_gamma_tmp=gamma_dict[2] @ np.diag(-theta/((np.matrix(gamma_dict[2]).T @ np.matrix(v).T).A1))\n",
    "    gamma_dict[3]=gamma_dict[2]\n",
    "    for j in J:\n",
    "        gamma_dict[3][I,j]=new3_gamma_tmp[I,j]\n",
    "# step 4\n",
    "J=np.where(~((np.matrix(gamma_dict[3]).T @ np.matrix(v).T).A1 <= theta))[0].tolist()\n",
    "if len(J)!=0:\n",
    "    new4_gamma_tmp=gamma_dict[3] @ np.diag(theta/((np.matrix(gamma_dict[3]).T @ np.matrix(v).T).A1))\n",
    "    gamma_dict[4]=gamma_dict[3]\n",
    "    for j in J:\n",
    "        gamma_dict[4][I,j]=new4_gamma_tmp[I,j]"
   ]
  },
  {
   "cell_type": "code",
   "execution_count": 189,
   "metadata": {},
   "outputs": [],
   "source": [
    "bbm1=np.matrix(np.ones(n)).T\n",
    "px=np.matrix(dist['x']).T\n",
    "ptx=np.matrix(dist['t_x']).T\n",
    "V=np.matrix(v).T\n",
    "theta=np.matrix(abs(gamma.T @ v)*(1-0.3)).T\n",
    "Ve=np.multiply(V,np.exp(V))\n",
    "gamma_dict[0]=np.matrix(xi+0.01)\n",
    "gamma_dict[1]=np.matrix(np.diag((px/(gamma_dict[0] @ bbm1)).A1))@gamma_dict[0]\n",
    "gamma_dict[2]=gamma_dict[1]@np.matrix(np.diag((ptx/(gamma_dict[1].T @ bbm1)).A1))\n",
    "J=np.where(~(gamma_dict[2].T @ V >= -theta))[0].tolist()\n",
    "if len(J)!=0:\n",
    "    new3_gamma_tmp=gamma_dict[2]@np.matrix(np.diag((-theta/(gamma_dict[2].T@Ve)).A1))\n",
    "    gamma_dict[3]=np.copy(gamma_dict[2])\n",
    "    for j in J:\n",
    "        gamma_dict[3][I,j]=np.copy(new3_gamma_tmp[I,j].A1)\n",
    "J=np.where(~(gamma_dict[3].T @ V <= theta))[0].tolist()\n",
    "if len(J)!=0:\n",
    "    new4_gamma_tmp=gamma_dict[3]@np.matrix(np.diag((theta/(gamma_dict[3].T@Ve)).A1))\n",
    "    gamma_dict[4]=np.copy(gamma_dict[3])\n",
    "    for j in J:\n",
    "        gamma_dict[4][I,j]=np.copy(new4_gamma_tmp[I,j].A1)"
   ]
  },
  {
   "cell_type": "code",
   "execution_count": 197,
   "metadata": {},
   "outputs": [
    {
     "data": {
      "text/plain": [
       "matrix([[-0.06923772],\n",
       "        [-0.07313193],\n",
       "        [-0.57876238],\n",
       "        [-0.70036022]])"
      ]
     },
     "execution_count": 197,
     "metadata": {},
     "output_type": "execute_result"
    }
   ],
   "source": [
    "min(-theta/(gamma_dict[2].T@Ve),1)"
   ]
  },
  {
   "cell_type": "code",
   "execution_count": 194,
   "metadata": {},
   "outputs": [
    {
     "data": {
      "text/plain": [
       "matrix([[-0.34967261],\n",
       "        [-0.34967261],\n",
       "        [ 8.82415008],\n",
       "        [ 8.82415008]])"
      ]
     },
     "execution_count": 194,
     "metadata": {},
     "output_type": "execute_result"
    }
   ],
   "source": [
    "Ve"
   ]
  },
  {
   "cell_type": "code",
   "execution_count": 170,
   "metadata": {},
   "outputs": [
    {
     "data": {
      "text/plain": [
       "matrix([[0.09423409],\n",
       "        [0.09423409],\n",
       "        [0.09423409],\n",
       "        [0.09423409]])"
      ]
     },
     "execution_count": 170,
     "metadata": {},
     "output_type": "execute_result"
    }
   ],
   "source": [
    "theta"
   ]
  },
  {
   "cell_type": "code",
   "execution_count": 169,
   "metadata": {},
   "outputs": [
    {
     "data": {
      "text/plain": [
       "matrix([[ 0.09423409],\n",
       "        [ 0.09423409],\n",
       "        [-0.09423409],\n",
       "        [-0.09423409]])"
      ]
     },
     "execution_count": 169,
     "metadata": {},
     "output_type": "execute_result"
    }
   ],
   "source": [
    "gamma_dict[2].T @ Ve"
   ]
  },
  {
   "cell_type": "code",
   "execution_count": 167,
   "metadata": {},
   "outputs": [
    {
     "data": {
      "text/plain": [
       "matrix([[ 4.25116312e-07,  7.31294264e-03, -7.36585910e-02,\n",
       "         -7.90727575e-02],\n",
       "        [ 6.37716980e-03,  1.09679515e-06, -5.52448640e-02,\n",
       "         -7.90714398e-02],\n",
       "        [ 5.46587226e-03,  4.70102072e-03, -2.36740029e-06,\n",
       "         -1.69447271e-02],\n",
       "        [ 5.46596335e-03,  6.26792317e-03, -1.57847730e-02,\n",
       "         -1.12957317e-06]])"
      ]
     },
     "execution_count": 167,
     "metadata": {},
     "output_type": "execute_result"
    }
   ],
   "source": [
    "gamma_dict[4]"
   ]
  },
  {
   "cell_type": "code",
   "execution_count": 164,
   "metadata": {},
   "outputs": [
    {
     "data": {
      "text/plain": [
       "matrix([[-7.31294264e-03],\n",
       "        [-1.09679515e-06],\n",
       "        [-4.70102072e-03],\n",
       "        [-6.26792317e-03]])"
      ]
     },
     "execution_count": 164,
     "metadata": {},
     "output_type": "execute_result"
    }
   ],
   "source": [
    "gamma_dict[3][I,1]"
   ]
  },
  {
   "cell_type": "code",
   "execution_count": 163,
   "metadata": {},
   "outputs": [],
   "source": [
    "gamma_dict[3][I,1]=new3_gamma_tmp[I,1].A1"
   ]
  },
  {
   "cell_type": "code",
   "execution_count": 145,
   "metadata": {},
   "outputs": [],
   "source": [
    "new3_gamma_tmp=gamma_dict[2]@np.matrix(np.diag((-theta/(gamma_dict[2].T@Ve)).A1))"
   ]
  },
  {
   "cell_type": "code",
   "execution_count": 138,
   "metadata": {},
   "outputs": [
    {
     "data": {
      "text/plain": [
       "matrix([[1.36102236],\n",
       "        [1.28854911],\n",
       "        [0.16281999],\n",
       "        [0.13455089]])"
      ]
     },
     "execution_count": 138,
     "metadata": {},
     "output_type": "execute_result"
    }
   ],
   "source": [
    "gamma_dict[2].T@Ve"
   ]
  },
  {
   "cell_type": "code",
   "execution_count": 88,
   "metadata": {},
   "outputs": [
    {
     "data": {
      "text/plain": [
       "matrix([[0.25],\n",
       "        [0.25],\n",
       "        [0.25],\n",
       "        [0.25]])"
      ]
     },
     "execution_count": 88,
     "metadata": {},
     "output_type": "execute_result"
    }
   ],
   "source": [
    "J=np.where(~((gamma_dict[2].T @ np.matrix(v).T).A1 >= -theta))[0].tolist()\n",
    "if len(J)!=0:\n",
    "    new3_gamma_tmp=gamma_dict[2] @ np.diag(-theta/((np.matrix(gamma_dict[2]).T @ np.matrix(v).T).A1))\n",
    "    gamma_dict[3]=gamma_dict[2]\n",
    "    for j in J:\n",
    "        gamma_dict[3][I,j]=new3_gamma_tmp[I,j]"
   ]
  },
  {
   "cell_type": "code",
   "execution_count": 50,
   "metadata": {},
   "outputs": [
    {
     "ename": "KeyError",
     "evalue": "1",
     "output_type": "error",
     "traceback": [
      "\u001b[1;31m---------------------------------------------------------------------------\u001b[0m",
      "\u001b[1;31mKeyError\u001b[0m                                  Traceback (most recent call last)",
      "Cell \u001b[1;32mIn[50], line 1\u001b[0m\n\u001b[1;32m----> 1\u001b[0m gamma_dict[\u001b[39m1\u001b[39;49m]\n",
      "\u001b[1;31mKeyError\u001b[0m: 1"
     ]
    }
   ],
   "source": [
    "gamma_dict[1]"
   ]
  },
  {
   "cell_type": "code",
   "execution_count": null,
   "metadata": {},
   "outputs": [],
   "source": [
    "q_dict=dict()\n",
    "q_dict[1]=gamma_dict[0]/gamma_dict[1]"
   ]
  },
  {
   "cell_type": "code",
   "execution_count": 12,
   "metadata": {},
   "outputs": [],
   "source": [
    "gamma_dict=dict()\n",
    "gamma_dict[0]=xi\n",
    "I=np.where(~(v==0))[0].tolist() # \\overline{\\supp(X)}\n",
    "for repeat in range(4):\n",
    "    new_gamma=np.diag(dist['x']/sum(gamma.T))@gamma\n",
    "    new2_gamma=new_gamma@np.diag(dist['t_x']/sum(new_gamma))\n",
    "    # step 3\n",
    "    J=np.where(~((np.matrix(new2_gamma).T @ np.matrix(v).T).A1 >= -theta))[0].tolist()\n",
    "    if len(J)!=0:\n",
    "        new3_gamma_tmp=new2_gamma @ np.diag(-theta/((np.matrix(new2_gamma).T @ np.matrix(v).T).A1))\n",
    "        new3_gamma=new2_gamma\n",
    "        for j in J:\n",
    "            new3_gamma[I,j]=new3_gamma_tmp[I,j]\n",
    "    # step 4\n",
    "    J=np.where(~((np.matrix(new3_gamma).T @ np.matrix(v).T).A1 <= theta))[0].tolist()\n",
    "    if len(J)!=0:\n",
    "        new4_gamma_tmp=new3_gamma @ np.diag(theta/((np.matrix(new3_gamma).T @ np.matrix(v).T).A1))\n",
    "        new4_gamma=new3_gamma\n",
    "        for j in J:\n",
    "            new4_gamma[I,j]=new4_gamma_tmp[I,j]\n",
    "    gamma=new4_gamma\n"
   ]
  },
  {
   "cell_type": "code",
   "execution_count": 15,
   "metadata": {},
   "outputs": [
    {
     "data": {
      "text/plain": [
       "array([0.09423409, 0.09423409, 0.09423409, 0.09423409])"
      ]
     },
     "execution_count": 15,
     "metadata": {},
     "output_type": "execute_result"
    }
   ],
   "source": [
    "theta"
   ]
  },
  {
   "cell_type": "code",
   "execution_count": 18,
   "metadata": {},
   "outputs": [
    {
     "data": {
      "text/plain": [
       "array([0.35, 0.35, 0.15, 0.15])"
      ]
     },
     "execution_count": 18,
     "metadata": {},
     "output_type": "execute_result"
    }
   ],
   "source": [
    "dist['x']"
   ]
  },
  {
   "cell_type": "code",
   "execution_count": 19,
   "metadata": {},
   "outputs": [
    {
     "data": {
      "text/plain": [
       "array([0.25, 0.25, 0.25, 0.25])"
      ]
     },
     "execution_count": 19,
     "metadata": {},
     "output_type": "execute_result"
    }
   ],
   "source": [
    "dist['t_x']"
   ]
  },
  {
   "cell_type": "code",
   "execution_count": 16,
   "metadata": {},
   "outputs": [
    {
     "data": {
      "text/plain": [
       "array([0.12552459, 0.12552459, 0.20091186, 0.20091186])"
      ]
     },
     "execution_count": 16,
     "metadata": {},
     "output_type": "execute_result"
    }
   ],
   "source": [
    "sum(gamma)"
   ]
  },
  {
   "cell_type": "code",
   "execution_count": 17,
   "metadata": {},
   "outputs": [
    {
     "data": {
      "text/plain": [
       "array([0.22850552, 0.22850552, 0.09793094, 0.09793094])"
      ]
     },
     "execution_count": 17,
     "metadata": {},
     "output_type": "execute_result"
    }
   ],
   "source": [
    "sum(gamma.T)"
   ]
  },
  {
   "cell_type": "code",
   "execution_count": 14,
   "metadata": {},
   "outputs": [
    {
     "data": {
      "text/plain": [
       "matrix([[ 0.09423409],\n",
       "        [ 0.09423409],\n",
       "        [-0.09423409],\n",
       "        [-0.09423409]])"
      ]
     },
     "execution_count": 14,
     "metadata": {},
     "output_type": "execute_result"
    }
   ],
   "source": [
    "np.matrix(gamma).T @ np.matrix(v).T"
   ]
  },
  {
   "cell_type": "code",
   "execution_count": 6,
   "metadata": {},
   "outputs": [],
   "source": [
    "def xi_generate(x_range,e):\n",
    "    bin=len(x_range)\n",
    "    C=np.random.random((bin,bin))\n",
    "    for i in range(bin):\n",
    "        for j in range(bin):\n",
    "            C[i,j]=abs(x_range[i]-x_range[j])/e\n",
    "    return C"
   ]
  },
  {
   "cell_type": "code",
   "execution_count": null,
   "metadata": {},
   "outputs": [],
   "source": [
    "\n",
    "def algorithms(reg,m,n,g,f,C):\n",
    "    K=np.exp(-C/C.max()/reg)\n",
    "    interations=100\n",
    "    trial=10 #check the optimiality every trial. \n",
    "    u=np.ones((n,1))\n",
    "    u_record=np.ones((n,1))\n",
    "    for tri in range(trial):\n",
    "        if sum(abs(u_record-u))<10**(-10):\n",
    "            for i in range(1,interations):\n",
    "                v=g/np.dot(K.T,u)\n",
    "                u=f/np.dot(K,v)\n",
    "            u_record=u\n",
    "        else:\n",
    "            break\n",
    "    return np.dot(np.diag(u.reshape((1,-1))[0]),np.dot(K,np.diag(v.reshape((1,-1))[0])))\n",
    "\n",
    "def assess(m,n,g,f,C,output):\n",
    "    print('sum of violation of f:',sum(abs(np.sum(output,1)-f.reshape(n))))\n",
    "    print('sum of violation of g:',sum(abs(np.sum(output,0)-g.reshape(m))))\n",
    "    print('total cost:',sum(sum(output*C)))\n",
    "    print('entropy:',sum(sum(-output*np.log(output+0.1**3))))\n",
    "    print('============================================')\n",
    "\n",
    "def plots(x_range,g,f,output):\n",
    "    fig = plt.figure(figsize=(3,3))\n",
    "    gs = fig.add_gridspec(2, 2, width_ratios=(4,1), height_ratios=(1,4),left=0.1,right=0.9,bottom=0.1, top=0.9,wspace=0,hspace=0)\n",
    "    # Create the Axes.\n",
    "    ax = fig.add_subplot(gs[1, 0])\n",
    "    ax.pcolormesh(x_range, x_range, output, cmap='Blues')\n",
    "    ax.set_xlabel(r'$\\mathbb{X}$',fontsize=14)\n",
    "    ax.set_ylabel(r'$\\tilde{\\mathbb{X}}$',rotation='horizontal',fontsize=14)\n",
    "    ax.set_xticklabels([])\n",
    "    ax.set_yticklabels([])\n",
    "    ax_histx = fig.add_subplot(gs[0, 0], sharex=ax) \n",
    "    ax_histy = fig.add_subplot(gs[1, 1], sharey=ax)\n",
    "    #ax_histx.set_title(r'$Pr[x]$',rotation='horizontal')\n",
    "    #ax_histy.set_title(r'$Pr[\\tilde{x}]$')\n",
    "    ax_histx.tick_params(axis=\"x\", labelbottom=False)\n",
    "    ax_histx.tick_params(axis=\"y\", labelleft=False)\n",
    "    ax_histy.tick_params(axis=\"x\", labelbottom=False)\n",
    "    ax_histy.tick_params(axis=\"y\", labelleft=False)\n",
    "    ax_histx.plot(x_range,g,color='tab:blue')\n",
    "    ax_histy.plot(f,x_range,color='tab:green') \n",
    "    return fig\n",
    "\n",
    "def OT(reg,x_range,g,f):\n",
    "    m=len(g)\n",
    "    n=len(f)\n",
    "    C=c_generate(x_range)\n",
    "    output=algorithms(reg,m,n,g.reshape(m,-1),f.reshape(n,-1),C)\n",
    "    assess(m,n,g,f,C,output)\n",
    "    plots(x_range,g,f,output)\n",
    "    return outputa"
   ]
  }
 ],
 "metadata": {
  "kernelspec": {
   "display_name": "base",
   "language": "python",
   "name": "python3"
  },
  "language_info": {
   "codemirror_mode": {
    "name": "ipython",
    "version": 3
   },
   "file_extension": ".py",
   "mimetype": "text/x-python",
   "name": "python",
   "nbconvert_exporter": "python",
   "pygments_lexer": "ipython3",
   "version": "3.9.13"
  },
  "orig_nbformat": 4
 },
 "nbformat": 4,
 "nbformat_minor": 2
}
