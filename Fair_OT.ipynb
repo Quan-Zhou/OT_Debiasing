{
 "cells": [
  {
   "attachments": {},
   "cell_type": "markdown",
   "metadata": {},
   "source": [
    "***Functions***"
   ]
  },
  {
   "cell_type": "code",
   "execution_count": 15,
   "metadata": {},
   "outputs": [],
   "source": [
    "from functions import*"
   ]
  },
  {
   "cell_type": "code",
   "execution_count": 16,
   "metadata": {},
   "outputs": [],
   "source": [
    "import math\n",
    "import numpy as np\n",
    "import pandas as pd\n",
    "import matplotlib.pyplot as plt"
   ]
  },
  {
   "attachments": {},
   "cell_type": "markdown",
   "metadata": {},
   "source": [
    "***Assumptions***\n",
    "\n",
    "**S**\n",
    "* t=1/2-Pr[f]=Pr[m]-1/2\n",
    "\n",
    "**S=f**\n",
    "* U: $B(0.2)$, Pr[a|f]=0.2\n",
    "* X|U=a: $N(-10,25)$\n",
    "* X|U=b: $N(-12,25)$\n",
    "\n",
    "**S=m**\n",
    "* U: $B(0.8)$, Pr[a|m]=0.8\n",
    "* X|U=a: $N(12,1)$\n",
    "* X|U=b: $N(10,1)$"
   ]
  },
  {
   "attachments": {},
   "cell_type": "markdown",
   "metadata": {},
   "source": [
    "***Definitions***\n",
    "\n",
    "* **para:** all parameters based on assumptions\n",
    "\n",
    "* **dist:** all distributions based on assumptions, including target distributions"
   ]
  },
  {
   "cell_type": "code",
   "execution_count": 4,
   "metadata": {},
   "outputs": [],
   "source": [
    "keys = ['t','a_f', 'a_m','b_f', 'b_m']\n",
    "values = [0.2,0.2,0.8,0.8,0.2]\n",
    "para = dict(zip(keys, values))\n",
    "para['X_af_mean']=-10\n",
    "para['X_af_sd']=5\n",
    "para['X_bf_mean']=-12\n",
    "para['X_bf_sd']=5\n",
    "para['X_am_mean']=12\n",
    "para['X_am_sd']=1\n",
    "para['X_bm_mean']=10\n",
    "para['X_bm_sd']=1\n",
    "para['f']=1/2-para['t']\n",
    "para['m']=1/2+para['t']\n",
    "para['a']=para['a_f']*para['f']+para['a_m']*para['m']\n",
    "para['b']=para['b_f']*para['f']+para['b_m']*para['m']\n",
    "para['af']=para['a_f']*para['f']\n",
    "para['bf']=para['b_f']*para['f']\n",
    "para['am']=para['a_m']*para['m']\n",
    "para['bm']=para['b_m']*para['m']\n",
    "para['f_a']=para['af']/para['a'] #inverse_probability('f_a',para)\n",
    "para['m_a']=para['am']/para['a'] #inverse_probability('m_a',para)\n",
    "para['f_b']=para['bf']/para['b'] #=inverse_probability('f_b',para)\n",
    "para['m_b']=para['bm']/para['b'] #inverse_probability('m_b',para)\n"
   ]
  },
  {
   "cell_type": "code",
   "execution_count": 5,
   "metadata": {},
   "outputs": [],
   "source": [
    "horizen=[-50,50]\n",
    "width=0.1\n",
    "bin=int((horizen[1]-horizen[0])/width)\n",
    "x_range=np.arange(horizen[0],horizen[1],width)\n",
    "dist = dict(zip(['horizen','width','bin','x_range'], [horizen,width,bin,x_range]))\n",
    "dist['x_af']=[Gaussian_pdf(x,'X_af',para)*width for x in x_range]\n",
    "dist['x_am']=[Gaussian_pdf(x,'X_am',para)*width for x in x_range]\n",
    "dist['x_bf']=[Gaussian_pdf(x,'X_bf',para)*width for x in x_range]\n",
    "dist['x_bm']=[Gaussian_pdf(x,'X_bm',para)*width for x in x_range]\n",
    "dist['x_a']=[dist['x_af'][i]*para['a_f']+dist['x_am'][i]*para['a_m'] for i in range(bin)]\n",
    "dist['x_b']=[dist['x_bf'][i]*para['b_f']+dist['x_bm'][i]*para['b_m'] for i in range(bin)]\n",
    "dist['t_x_a']=normialise([dist['x_af'][i]**para['f_a']*dist['x_am'][i]**para['m_a'] for i in range(bin)])  \n",
    "dist['t_x_b']=normialise([dist['x_bf'][i]**para['f_b']*dist['x_bm'][i]**para['m_b'] for i in range(bin)]) "
   ]
  },
  {
   "attachments": {},
   "cell_type": "markdown",
   "metadata": {},
   "source": [
    "***OT algorithms***\n",
    "\n",
    "* **output:** couplings for U=a and U=b"
   ]
  },
  {
   "cell_type": "code",
   "execution_count": 17,
   "metadata": {},
   "outputs": [
    {
     "name": "stdout",
     "output_type": "stream",
     "text": [
      "top:x_a\n",
      "right:target_x_a\n",
      "sum of violation of f: 1.2489301067286307e-16\n",
      "sum of violation of g: 1.4632915954095252e-14\n",
      "total cost: 47.82075405769424\n",
      "entropy: 6.437227211339468\n",
      "============================================\n"
     ]
    },
    {
     "ename": "TypeError",
     "evalue": "unsupported operand type(s) for +: 'int' and 'builtin_function_or_method'",
     "output_type": "error",
     "traceback": [
      "\u001b[1;31m---------------------------------------------------------------------------\u001b[0m",
      "\u001b[1;31mTypeError\u001b[0m                                 Traceback (most recent call last)",
      "Cell \u001b[1;32mIn[17], line 9\u001b[0m\n\u001b[0;32m      7\u001b[0m mu\u001b[39m=\u001b[39mnp\u001b[39m.\u001b[39marray(dist[\u001b[39m'\u001b[39m\u001b[39mx_\u001b[39m\u001b[39m'\u001b[39m\u001b[39m+\u001b[39mu])\n\u001b[0;32m      8\u001b[0m mu_t\u001b[39m=\u001b[39mnp\u001b[39m.\u001b[39marray(dist[\u001b[39m'\u001b[39m\u001b[39mt_x_\u001b[39m\u001b[39m'\u001b[39m\u001b[39m+\u001b[39mu])\n\u001b[1;32m----> 9\u001b[0m output[u]\u001b[39m=\u001b[39mOT(reg,x_range,mu,mu_t)\n",
      "File \u001b[1;32mc:\\Users\\zhouq\\Documents\\optimal_transport\\OT_Debiasing\\functions.py:61\u001b[0m, in \u001b[0;36mOT\u001b[1;34m(reg, x_range, g, f)\u001b[0m\n\u001b[0;32m     59\u001b[0m output\u001b[39m=\u001b[39malgorithms(reg,m,n,g\u001b[39m.\u001b[39mreshape(m,\u001b[39m-\u001b[39m\u001b[39m1\u001b[39m),f\u001b[39m.\u001b[39mreshape(n,\u001b[39m-\u001b[39m\u001b[39m1\u001b[39m),C)\n\u001b[0;32m     60\u001b[0m assess(m,n,g,f,C,output)\n\u001b[1;32m---> 61\u001b[0m plots(x_range,g,f,output)\n\u001b[0;32m     62\u001b[0m \u001b[39mreturn\u001b[39;00m output\n",
      "File \u001b[1;32mc:\\Users\\zhouq\\Documents\\optimal_transport\\OT_Debiasing\\functions.py:46\u001b[0m, in \u001b[0;36mplots\u001b[1;34m(x_range, g, f, output)\u001b[0m\n\u001b[0;32m     42\u001b[0m gs \u001b[39m=\u001b[39m fig\u001b[39m.\u001b[39madd_gridspec(\u001b[39m2\u001b[39m, \u001b[39m2\u001b[39m, width_ratios\u001b[39m=\u001b[39m(\u001b[39mbin\u001b[39m, \u001b[39m1\u001b[39m), height_ratios\u001b[39m=\u001b[39m(\u001b[39m1\u001b[39m, \u001b[39mbin\u001b[39m),\n\u001b[0;32m     43\u001b[0m                     left\u001b[39m=\u001b[39m\u001b[39m0.1\u001b[39m, right\u001b[39m=\u001b[39m\u001b[39m0.9\u001b[39m, bottom\u001b[39m=\u001b[39m\u001b[39m0.1\u001b[39m, top\u001b[39m=\u001b[39m\u001b[39m0.9\u001b[39m,\n\u001b[0;32m     44\u001b[0m                     wspace\u001b[39m=\u001b[39m\u001b[39m0.05\u001b[39m, hspace\u001b[39m=\u001b[39m\u001b[39m0.05\u001b[39m)\n\u001b[0;32m     45\u001b[0m \u001b[39m# Create the Axes.\u001b[39;00m\n\u001b[1;32m---> 46\u001b[0m ax \u001b[39m=\u001b[39m fig\u001b[39m.\u001b[39;49madd_subplot(gs[\u001b[39m1\u001b[39;49m, \u001b[39m0\u001b[39;49m])\n\u001b[0;32m     47\u001b[0m ax\u001b[39m.\u001b[39mpcolormesh(x_range, x_range, output, cmap\u001b[39m=\u001b[39m\u001b[39m'\u001b[39m\u001b[39mBlues\u001b[39m\u001b[39m'\u001b[39m)\n",
      "File \u001b[1;32mc:\\Users\\zhouq\\Anaconda3\\lib\\site-packages\\matplotlib\\figure.py:757\u001b[0m, in \u001b[0;36mFigureBase.add_subplot\u001b[1;34m(self, *args, **kwargs)\u001b[0m\n\u001b[0;32m    754\u001b[0m         args \u001b[39m=\u001b[39m \u001b[39mtuple\u001b[39m(\u001b[39mmap\u001b[39m(\u001b[39mint\u001b[39m, \u001b[39mstr\u001b[39m(args[\u001b[39m0\u001b[39m])))\n\u001b[0;32m    755\u001b[0m     projection_class, pkw \u001b[39m=\u001b[39m \u001b[39mself\u001b[39m\u001b[39m.\u001b[39m_process_projection_requirements(\n\u001b[0;32m    756\u001b[0m         \u001b[39m*\u001b[39margs, \u001b[39m*\u001b[39m\u001b[39m*\u001b[39mkwargs)\n\u001b[1;32m--> 757\u001b[0m     ax \u001b[39m=\u001b[39m projection_class(\u001b[39mself\u001b[39m, \u001b[39m*\u001b[39margs, \u001b[39m*\u001b[39m\u001b[39m*\u001b[39mpkw)\n\u001b[0;32m    758\u001b[0m     key \u001b[39m=\u001b[39m (projection_class, pkw)\n\u001b[0;32m    759\u001b[0m \u001b[39mreturn\u001b[39;00m \u001b[39mself\u001b[39m\u001b[39m.\u001b[39m_add_axes_internal(ax, key)\n",
      "File \u001b[1;32mc:\\Users\\zhouq\\Anaconda3\\lib\\site-packages\\matplotlib\\axes\\_base.py:661\u001b[0m, in \u001b[0;36m_AxesBase.__init__\u001b[1;34m(self, fig, facecolor, frameon, sharex, sharey, label, xscale, yscale, box_aspect, *args, **kwargs)\u001b[0m\n\u001b[0;32m    657\u001b[0m \u001b[39m# The subplotspec needs to be set after the figure (so that\u001b[39;00m\n\u001b[0;32m    658\u001b[0m \u001b[39m# figure-level subplotpars are taken into account), but the figure\u001b[39;00m\n\u001b[0;32m    659\u001b[0m \u001b[39m# needs to be set after self._position is initialized.\u001b[39;00m\n\u001b[0;32m    660\u001b[0m \u001b[39mif\u001b[39;00m subplotspec:\n\u001b[1;32m--> 661\u001b[0m     \u001b[39mself\u001b[39;49m\u001b[39m.\u001b[39;49mset_subplotspec(subplotspec)\n\u001b[0;32m    662\u001b[0m \u001b[39melse\u001b[39;00m:\n\u001b[0;32m    663\u001b[0m     \u001b[39mself\u001b[39m\u001b[39m.\u001b[39m_subplotspec \u001b[39m=\u001b[39m \u001b[39mNone\u001b[39;00m\n",
      "File \u001b[1;32mc:\\Users\\zhouq\\Anaconda3\\lib\\site-packages\\matplotlib\\axes\\_base.py:793\u001b[0m, in \u001b[0;36m_AxesBase.set_subplotspec\u001b[1;34m(self, subplotspec)\u001b[0m\n\u001b[0;32m    791\u001b[0m \u001b[39m\u001b[39m\u001b[39m\"\"\"Set the `.SubplotSpec`. associated with the subplot.\"\"\"\u001b[39;00m\n\u001b[0;32m    792\u001b[0m \u001b[39mself\u001b[39m\u001b[39m.\u001b[39m_subplotspec \u001b[39m=\u001b[39m subplotspec\n\u001b[1;32m--> 793\u001b[0m \u001b[39mself\u001b[39m\u001b[39m.\u001b[39m_set_position(subplotspec\u001b[39m.\u001b[39;49mget_position(\u001b[39mself\u001b[39;49m\u001b[39m.\u001b[39;49mfigure))\n",
      "File \u001b[1;32mc:\\Users\\zhouq\\Anaconda3\\lib\\site-packages\\matplotlib\\gridspec.py:665\u001b[0m, in \u001b[0;36mSubplotSpec.get_position\u001b[1;34m(self, figure)\u001b[0m\n\u001b[0;32m    662\u001b[0m nrows, ncols \u001b[39m=\u001b[39m gridspec\u001b[39m.\u001b[39mget_geometry()\n\u001b[0;32m    663\u001b[0m rows, cols \u001b[39m=\u001b[39m np\u001b[39m.\u001b[39munravel_index([\u001b[39mself\u001b[39m\u001b[39m.\u001b[39mnum1, \u001b[39mself\u001b[39m\u001b[39m.\u001b[39mnum2], (nrows, ncols))\n\u001b[0;32m    664\u001b[0m fig_bottoms, fig_tops, fig_lefts, fig_rights \u001b[39m=\u001b[39m \\\n\u001b[1;32m--> 665\u001b[0m     gridspec\u001b[39m.\u001b[39;49mget_grid_positions(figure)\n\u001b[0;32m    667\u001b[0m fig_bottom \u001b[39m=\u001b[39m fig_bottoms[rows]\u001b[39m.\u001b[39mmin()\n\u001b[0;32m    668\u001b[0m fig_top \u001b[39m=\u001b[39m fig_tops[rows]\u001b[39m.\u001b[39mmax()\n",
      "File \u001b[1;32mc:\\Users\\zhouq\\Anaconda3\\lib\\site-packages\\matplotlib\\_api\\deprecation.py:384\u001b[0m, in \u001b[0;36mdelete_parameter.<locals>.wrapper\u001b[1;34m(*inner_args, **inner_kwargs)\u001b[0m\n\u001b[0;32m    379\u001b[0m \u001b[39m@functools\u001b[39m\u001b[39m.\u001b[39mwraps(func)\n\u001b[0;32m    380\u001b[0m \u001b[39mdef\u001b[39;00m \u001b[39mwrapper\u001b[39m(\u001b[39m*\u001b[39minner_args, \u001b[39m*\u001b[39m\u001b[39m*\u001b[39minner_kwargs):\n\u001b[0;32m    381\u001b[0m     \u001b[39mif\u001b[39;00m \u001b[39mlen\u001b[39m(inner_args) \u001b[39m<\u001b[39m\u001b[39m=\u001b[39m name_idx \u001b[39mand\u001b[39;00m name \u001b[39mnot\u001b[39;00m \u001b[39min\u001b[39;00m inner_kwargs:\n\u001b[0;32m    382\u001b[0m         \u001b[39m# Early return in the simple, non-deprecated case (much faster than\u001b[39;00m\n\u001b[0;32m    383\u001b[0m         \u001b[39m# calling bind()).\u001b[39;00m\n\u001b[1;32m--> 384\u001b[0m         \u001b[39mreturn\u001b[39;00m func(\u001b[39m*\u001b[39minner_args, \u001b[39m*\u001b[39m\u001b[39m*\u001b[39minner_kwargs)\n\u001b[0;32m    385\u001b[0m     arguments \u001b[39m=\u001b[39m signature\u001b[39m.\u001b[39mbind(\u001b[39m*\u001b[39minner_args, \u001b[39m*\u001b[39m\u001b[39m*\u001b[39minner_kwargs)\u001b[39m.\u001b[39marguments\n\u001b[0;32m    386\u001b[0m     \u001b[39mif\u001b[39;00m is_varargs \u001b[39mand\u001b[39;00m arguments\u001b[39m.\u001b[39mget(name):\n",
      "File \u001b[1;32mc:\\Users\\zhouq\\Anaconda3\\lib\\site-packages\\matplotlib\\gridspec.py:190\u001b[0m, in \u001b[0;36mGridSpecBase.get_grid_positions\u001b[1;34m(self, fig, raw)\u001b[0m\n\u001b[0;32m    188\u001b[0m cell_h \u001b[39m=\u001b[39m tot_height \u001b[39m/\u001b[39m (nrows \u001b[39m+\u001b[39m hspace\u001b[39m*\u001b[39m(nrows\u001b[39m-\u001b[39m\u001b[39m1\u001b[39m))\n\u001b[0;32m    189\u001b[0m sep_h \u001b[39m=\u001b[39m hspace \u001b[39m*\u001b[39m cell_h\n\u001b[1;32m--> 190\u001b[0m norm \u001b[39m=\u001b[39m cell_h \u001b[39m*\u001b[39m nrows \u001b[39m/\u001b[39m \u001b[39msum\u001b[39;49m(\u001b[39mself\u001b[39;49m\u001b[39m.\u001b[39;49m_row_height_ratios)\n\u001b[0;32m    191\u001b[0m cell_heights \u001b[39m=\u001b[39m [r \u001b[39m*\u001b[39m norm \u001b[39mfor\u001b[39;00m r \u001b[39min\u001b[39;00m \u001b[39mself\u001b[39m\u001b[39m.\u001b[39m_row_height_ratios]\n\u001b[0;32m    192\u001b[0m sep_heights \u001b[39m=\u001b[39m [\u001b[39m0\u001b[39m] \u001b[39m+\u001b[39m ([sep_h] \u001b[39m*\u001b[39m (nrows\u001b[39m-\u001b[39m\u001b[39m1\u001b[39m))\n",
      "\u001b[1;31mTypeError\u001b[0m: unsupported operand type(s) for +: 'int' and 'builtin_function_or_method'"
     ]
    },
    {
     "data": {
      "text/plain": [
       "<Figure size 400x300 with 0 Axes>"
      ]
     },
     "metadata": {},
     "output_type": "display_data"
    }
   ],
   "source": [
    "U_range=['a','b']\n",
    "output=dict(key=U_range)\n",
    "reg=0.01 #10**(1-2)\n",
    "for u in U_range:\n",
    "    print('top:x_'+u)\n",
    "    print('right:target_x_'+u)\n",
    "    mu=np.array(dist['x_'+u])\n",
    "    mu_t=np.array(dist['t_x_'+u])\n",
    "    output[u]=OT(reg,x_range,mu,mu_t)"
   ]
  },
  {
   "attachments": {},
   "cell_type": "markdown",
   "metadata": {},
   "source": [
    "***Data generation and projection***\n",
    "\n",
    "* **data:** generated random data\n",
    "* **data_revised:** data projected by couplings\n",
    "* **dist_source:** all empiricial distributions of data\n",
    "* **dist_project:** all empiricial distributions of data_revised"
   ]
  },
  {
   "cell_type": "code",
   "execution_count": 8,
   "metadata": {},
   "outputs": [
    {
     "ename": "NameError",
     "evalue": "name 'horizen' is not defined",
     "output_type": "error",
     "traceback": [
      "\u001b[1;31m---------------------------------------------------------------------------\u001b[0m",
      "\u001b[1;31mNameError\u001b[0m                                 Traceback (most recent call last)",
      "Cell \u001b[1;32mIn[8], line 2\u001b[0m\n\u001b[0;32m      1\u001b[0m num\u001b[39m=\u001b[39m\u001b[39m10000\u001b[39m\n\u001b[1;32m----> 2\u001b[0m data\u001b[39m=\u001b[39msamples_groupby(data_generation(num,para))\n\u001b[0;32m      3\u001b[0m data_revised\u001b[39m=\u001b[39mpd\u001b[39m.\u001b[39mconcat([projection(data[data[\u001b[39m'\u001b[39m\u001b[39mU\u001b[39m\u001b[39m'\u001b[39m]\u001b[39m==\u001b[39mu],output[u]) \u001b[39mfor\u001b[39;00m u \u001b[39min\u001b[39;00m U_range],ignore_index\u001b[39m=\u001b[39m\u001b[39mTrue\u001b[39;00m)\n\u001b[0;32m      4\u001b[0m name_list\u001b[39m=\u001b[39m[\u001b[39m'\u001b[39m\u001b[39maf\u001b[39m\u001b[39m'\u001b[39m,\u001b[39m'\u001b[39m\u001b[39mbf\u001b[39m\u001b[39m'\u001b[39m,\u001b[39m'\u001b[39m\u001b[39mam\u001b[39m\u001b[39m'\u001b[39m,\u001b[39m'\u001b[39m\u001b[39mbm\u001b[39m\u001b[39m'\u001b[39m]\n",
      "File \u001b[1;32mc:\\Users\\zhouq\\Documents\\optimal_transport\\OT_Debiasing\\functions.py:69\u001b[0m, in \u001b[0;36mdata_generation\u001b[1;34m(num, para)\u001b[0m\n\u001b[0;32m     67\u001b[0m \u001b[39mfor\u001b[39;00m name \u001b[39min\u001b[39;00m name_list:\n\u001b[0;32m     68\u001b[0m     size\u001b[39m=\u001b[39m\u001b[39mint\u001b[39m(para[name]\u001b[39m*\u001b[39mnum)\n\u001b[1;32m---> 69\u001b[0m     X\u001b[39m=\u001b[39mnp\u001b[39m.\u001b[39mfloor((np\u001b[39m.\u001b[39mrandom\u001b[39m.\u001b[39mnormal(para[\u001b[39m'\u001b[39m\u001b[39mX_\u001b[39m\u001b[39m'\u001b[39m\u001b[39m+\u001b[39mname\u001b[39m+\u001b[39m\u001b[39m'\u001b[39m\u001b[39m_mean\u001b[39m\u001b[39m'\u001b[39m],para[\u001b[39m'\u001b[39m\u001b[39mX_\u001b[39m\u001b[39m'\u001b[39m\u001b[39m+\u001b[39mname\u001b[39m+\u001b[39m\u001b[39m'\u001b[39m\u001b[39m_sd\u001b[39m\u001b[39m'\u001b[39m],size\u001b[39m=\u001b[39m[size])\u001b[39m-\u001b[39mhorizen[\u001b[39m0\u001b[39m])\u001b[39m/\u001b[39mwidth)\n\u001b[0;32m     70\u001b[0m     \u001b[39m#np.random.normal(para['X_'+name+'_mean'],para['X_'+name+'_sd'],size=[size])\u001b[39;00m\n\u001b[0;32m     71\u001b[0m     U\u001b[39m=\u001b[39m[name[\u001b[39m0\u001b[39m]]\u001b[39m*\u001b[39msize\n",
      "\u001b[1;31mNameError\u001b[0m: name 'horizen' is not defined"
     ]
    }
   ],
   "source": [
    "num=10000\n",
    "data=samples_groupby(data_generation(num,para))\n",
    "data_revised=pd.concat([projection(data[data['U']==u],output[u]) for u in U_range],ignore_index=True)\n",
    "name_list=['af','bf','am','bm']\n",
    "dist_source=dict()\n",
    "dist_project=dict() #dict(keys=['x_'+i for i in name_list])\n",
    "for name in name_list:\n",
    "    dist_source['x_'+name]=empirical_distribution(data[(data['U']==name[0])&(data['S']==name[1])],dist)\n",
    "    dist_project['x_'+name]=empirical_distribution(data_revised[(data_revised['U']==name[0])&(data_revised['S']==name[1])],dist)"
   ]
  },
  {
   "cell_type": "code",
   "execution_count": 7,
   "metadata": {},
   "outputs": [
    {
     "ename": "NameError",
     "evalue": "name 'dist_source' is not defined",
     "output_type": "error",
     "traceback": [
      "\u001b[1;31m---------------------------------------------------------------------------\u001b[0m",
      "\u001b[1;31mNameError\u001b[0m                                 Traceback (most recent call last)",
      "Cell \u001b[1;32mIn[7], line 1\u001b[0m\n\u001b[1;32m----> 1\u001b[0m \u001b[39mfor\u001b[39;00m key,value \u001b[39min\u001b[39;00m dist_source\u001b[39m.\u001b[39mitems():\n\u001b[0;32m      2\u001b[0m     linestyle\u001b[39m=\u001b[39m\u001b[39mstr\u001b[39m(\u001b[39m'\u001b[39m\u001b[39mg\u001b[39m\u001b[39m'\u001b[39m \u001b[39mif\u001b[39;00m key[\u001b[39m-\u001b[39m\u001b[39m2\u001b[39m]\u001b[39m==\u001b[39m\u001b[39m'\u001b[39m\u001b[39ma\u001b[39m\u001b[39m'\u001b[39m \u001b[39melse\u001b[39;00m \u001b[39m'\u001b[39m\u001b[39mb\u001b[39m\u001b[39m'\u001b[39m)\u001b[39m+\u001b[39m\u001b[39mstr\u001b[39m(\u001b[39m'\u001b[39m\u001b[39m-\u001b[39m\u001b[39m'\u001b[39m \u001b[39mif\u001b[39;00m key[\u001b[39m-\u001b[39m\u001b[39m1\u001b[39m]\u001b[39m==\u001b[39m\u001b[39m'\u001b[39m\u001b[39mf\u001b[39m\u001b[39m'\u001b[39m \u001b[39melse\u001b[39;00m \u001b[39m'\u001b[39m\u001b[39m--\u001b[39m\u001b[39m'\u001b[39m)\n\u001b[0;32m      3\u001b[0m     plt\u001b[39m.\u001b[39mplot(x_range,value,linestyle,label\u001b[39m=\u001b[39mkey)\n",
      "\u001b[1;31mNameError\u001b[0m: name 'dist_source' is not defined"
     ]
    }
   ],
   "source": [
    "for key,value in dist_source.items():\n",
    "    linestyle=str('g' if key[-2]=='a' else 'b')+str('-' if key[-1]=='f' else '--')\n",
    "    plt.plot(x_range,value,linestyle,label=key)\n",
    "plt.legend()\n",
    "plt.title('source data distribution')"
   ]
  },
  {
   "cell_type": "code",
   "execution_count": 28,
   "metadata": {},
   "outputs": [
    {
     "data": {
      "text/plain": [
       "Text(0.5, 1.0, 'projected data distribution')"
      ]
     },
     "execution_count": 28,
     "metadata": {},
     "output_type": "execute_result"
    },
    {
     "data": {
      "image/png": "[encoded data removed]",
      "text/plain": [
       "<Figure size 640x480 with 1 Axes>"
      ]
     },
     "metadata": {},
     "output_type": "display_data"
    }
   ],
   "source": [
    "for key,value in dist_project.items():\n",
    "    linestyle=str('g' if key[-2]=='a' else 'b')+str('-' if key[-1]=='f' else '--')\n",
    "    plt.plot(x_range,value,linestyle,label=key)\n",
    "plt.legend()\n",
    "plt.title('projected data distribution')"
   ]
  },
  {
   "attachments": {},
   "cell_type": "markdown",
   "metadata": {},
   "source": [
    "***Problems***"
   ]
  },
  {
   "cell_type": "code",
   "execution_count": 8,
   "metadata": {},
   "outputs": [
    {
     "ename": "KeyError",
     "evalue": "'X_b_t_mean'",
     "output_type": "error",
     "traceback": [
      "\u001b[1;31m---------------------------------------------------------------------------\u001b[0m",
      "\u001b[1;31mKeyError\u001b[0m                                  Traceback (most recent call last)",
      "Cell \u001b[1;32mIn[8], line 4\u001b[0m\n\u001b[0;32m      2\u001b[0m para[\u001b[39m'\u001b[39m\u001b[39mX_a_t_sd\u001b[39m\u001b[39m'\u001b[39m]\u001b[39m=\u001b[39mmath\u001b[39m.\u001b[39msqrt(second_moment(\u001b[39m'\u001b[39m\u001b[39mX_af\u001b[39m\u001b[39m'\u001b[39m,para)\u001b[39m*\u001b[39mpara[\u001b[39m'\u001b[39m\u001b[39mf_a\u001b[39m\u001b[39m'\u001b[39m]\u001b[39m+\u001b[39msecond_moment(\u001b[39m'\u001b[39m\u001b[39mX_am\u001b[39m\u001b[39m'\u001b[39m,para)\u001b[39m*\u001b[39mpara[\u001b[39m'\u001b[39m\u001b[39mm_a\u001b[39m\u001b[39m'\u001b[39m]\u001b[39m-\u001b[39mpara[\u001b[39m'\u001b[39m\u001b[39mX_a_t_mean\u001b[39m\u001b[39m'\u001b[39m]\u001b[39m*\u001b[39m\u001b[39m*\u001b[39m\u001b[39m2\u001b[39m)\n\u001b[0;32m      3\u001b[0m dist[\u001b[39m'\u001b[39m\u001b[39mt_x_a\u001b[39m\u001b[39m'\u001b[39m]\u001b[39m=\u001b[39m[Gaussian_pdf(x,\u001b[39m'\u001b[39m\u001b[39mX_a_t\u001b[39m\u001b[39m'\u001b[39m,para)\u001b[39m*\u001b[39mwidth \u001b[39mfor\u001b[39;00m x \u001b[39min\u001b[39;00m x_range]\n\u001b[1;32m----> 4\u001b[0m dist[\u001b[39m'\u001b[39m\u001b[39mt_x_b\u001b[39m\u001b[39m'\u001b[39m]\u001b[39m=\u001b[39m[Gaussian_pdf(x,\u001b[39m'\u001b[39m\u001b[39mX_b_t\u001b[39m\u001b[39m'\u001b[39m,para)\u001b[39m*\u001b[39mwidth \u001b[39mfor\u001b[39;00m x \u001b[39min\u001b[39;00m x_range]\n",
      "Cell \u001b[1;32mIn[8], line 4\u001b[0m, in \u001b[0;36m<listcomp>\u001b[1;34m(.0)\u001b[0m\n\u001b[0;32m      2\u001b[0m para[\u001b[39m'\u001b[39m\u001b[39mX_a_t_sd\u001b[39m\u001b[39m'\u001b[39m]\u001b[39m=\u001b[39mmath\u001b[39m.\u001b[39msqrt(second_moment(\u001b[39m'\u001b[39m\u001b[39mX_af\u001b[39m\u001b[39m'\u001b[39m,para)\u001b[39m*\u001b[39mpara[\u001b[39m'\u001b[39m\u001b[39mf_a\u001b[39m\u001b[39m'\u001b[39m]\u001b[39m+\u001b[39msecond_moment(\u001b[39m'\u001b[39m\u001b[39mX_am\u001b[39m\u001b[39m'\u001b[39m,para)\u001b[39m*\u001b[39mpara[\u001b[39m'\u001b[39m\u001b[39mm_a\u001b[39m\u001b[39m'\u001b[39m]\u001b[39m-\u001b[39mpara[\u001b[39m'\u001b[39m\u001b[39mX_a_t_mean\u001b[39m\u001b[39m'\u001b[39m]\u001b[39m*\u001b[39m\u001b[39m*\u001b[39m\u001b[39m2\u001b[39m)\n\u001b[0;32m      3\u001b[0m dist[\u001b[39m'\u001b[39m\u001b[39mt_x_a\u001b[39m\u001b[39m'\u001b[39m]\u001b[39m=\u001b[39m[Gaussian_pdf(x,\u001b[39m'\u001b[39m\u001b[39mX_a_t\u001b[39m\u001b[39m'\u001b[39m,para)\u001b[39m*\u001b[39mwidth \u001b[39mfor\u001b[39;00m x \u001b[39min\u001b[39;00m x_range]\n\u001b[1;32m----> 4\u001b[0m dist[\u001b[39m'\u001b[39m\u001b[39mt_x_b\u001b[39m\u001b[39m'\u001b[39m]\u001b[39m=\u001b[39m[Gaussian_pdf(x,\u001b[39m'\u001b[39;49m\u001b[39mX_b_t\u001b[39;49m\u001b[39m'\u001b[39;49m,para)\u001b[39m*\u001b[39mwidth \u001b[39mfor\u001b[39;00m x \u001b[39min\u001b[39;00m x_range]\n",
      "Cell \u001b[1;32mIn[1], line 8\u001b[0m, in \u001b[0;36mGaussian_pdf\u001b[1;34m(x, name, para)\u001b[0m\n\u001b[0;32m      7\u001b[0m \u001b[39mdef\u001b[39;00m \u001b[39mGaussian_pdf\u001b[39m(x,name,para):\n\u001b[1;32m----> 8\u001b[0m     mu\u001b[39m=\u001b[39mpara[name\u001b[39m+\u001b[39;49m\u001b[39m'\u001b[39;49m\u001b[39m_mean\u001b[39;49m\u001b[39m'\u001b[39;49m]\n\u001b[0;32m      9\u001b[0m     sigma\u001b[39m=\u001b[39mpara[name\u001b[39m+\u001b[39m\u001b[39m'\u001b[39m\u001b[39m_sd\u001b[39m\u001b[39m'\u001b[39m]\n\u001b[0;32m     10\u001b[0m     \u001b[39mreturn\u001b[39;00m math\u001b[39m.\u001b[39mexp(((x\u001b[39m-\u001b[39mmu)\u001b[39m/\u001b[39msigma)\u001b[39m*\u001b[39m\u001b[39m*\u001b[39m\u001b[39m2\u001b[39m\u001b[39m*\u001b[39m(\u001b[39m-\u001b[39m\u001b[39m1\u001b[39m\u001b[39m/\u001b[39m\u001b[39m2\u001b[39m))\u001b[39m/\u001b[39m(sigma\u001b[39m*\u001b[39mmath\u001b[39m.\u001b[39msqrt(\u001b[39m2\u001b[39m\u001b[39m*\u001b[39mmath\u001b[39m.\u001b[39mpi))\n",
      "\u001b[1;31mKeyError\u001b[0m: 'X_b_t_mean'"
     ]
    }
   ],
   "source": [
    "para['X_a_t_mean']=para['X_af_mean']*para['f_a']+para['X_am_mean']*para['m_a']\n",
    "para['X_a_t_sd']=math.sqrt(second_moment('X_af',para)*para['f_a']+second_moment('X_am',para)*para['m_a']-para['X_a_t_mean']**2)\n",
    "dist['t_x_a']=[Gaussian_pdf(x,'X_a_t',para)*width for x in x_range]\n",
    "dist['t_x_b']=[Gaussian_pdf(x,'X_b_t',para)*width for x in x_range]"
   ]
  }
 ],
 "metadata": {
  "kernelspec": {
   "display_name": "base",
   "language": "python",
   "name": "python3"
  },
  "language_info": {
   "codemirror_mode": {
    "name": "ipython",
    "version": 3
   },
   "file_extension": ".py",
   "mimetype": "text/x-python",
   "name": "python",
   "nbconvert_exporter": "python",
   "pygments_lexer": "ipython3",
   "version": "3.9.13"
  },
  "orig_nbformat": 4
 },
 "nbformat": 4,
 "nbformat_minor": 2
}
