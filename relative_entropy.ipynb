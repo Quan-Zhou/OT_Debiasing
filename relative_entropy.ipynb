{
 "cells": [
  {
   "cell_type": "code",
   "execution_count": 1,
   "metadata": {},
   "outputs": [],
   "source": [
    "import numpy as np\n",
    "import random\n",
    "import pandas as pd"
   ]
  },
  {
   "cell_type": "code",
   "execution_count": 2,
   "metadata": {},
   "outputs": [],
   "source": [
    "import mosek"
   ]
  },
  {
   "cell_type": "code",
   "execution_count": 6,
   "metadata": {},
   "outputs": [],
   "source": [
    "def msk_relent(task, t, x, y):\n",
    "    v = msk_newvar(task, 1)\n",
    "    c = msk_newcon(task, 1)\n",
    "    task.putaij(c, v, 1.0)\n",
    "    task.putaij(c, t, 1.0)\n",
    "\n",
    "    task.putconbound(c, mosek.boundkey.fx, 0.0, 0.0)\n",
    "    task.appendcone(mosek.conetype.pexp, 0.0, [y, x, v])\n",
    "\n",
    "def msk_newvar(task, num):  # free\n",
    "    v = task.getnumvar()\n",
    "    task.appendvars(num)\n",
    "    for i in range(num):\n",
    "        task.putvarbound(v+i, mosek.boundkey.fr, -inf, inf)\n",
    "    return v\n",
    "\n",
    "def msk_newvar_fx(task, num, val):  # fixed\n",
    "    v = task.getnumvar()\n",
    "    task.appendvars(num)\n",
    "    for i in range(num):\n",
    "        task.putvarbound(v+i, mosek.boundkey.fx, val, val)\n",
    "    return v\n",
    "\n",
    "def msk_newcon(task, num):\n",
    "    c = task.getnumcon()\n",
    "    task.appendcons(num)\n",
    "    return c\n",
    "\n",
    "def msk_sq(task, t, x): # t >= x^2\n",
    "    task.appendcone(mosek.conetype.rquad, 0.0, [msk_newvar_fx(task, 1, 0.5), t, x])"
   ]
  },
  {
   "cell_type": "code",
   "execution_count": 11,
   "metadata": {},
   "outputs": [],
   "source": [
    "ref1=[0.5,0.5]\n",
    "ref2=[0.3,0.7]\n",
    "T=len(ref1)\n",
    "inf=100\n",
    "env  = mosek.Env()\n",
    "task = env.Task(0,0)\n",
    "\n",
    "# variables -------------------------------------------------------------\n",
    "u = msk_newvar(task, T)\n",
    "u2 = msk_newvar(task, T)\n",
    "eta1 = msk_newvar(task, T) # eta1 is the relative entropy of u over ref1\n",
    "eta2 = msk_newvar(task, T)\n",
    "\n",
    "# constraints ------------------------------------------------------------\n",
    "# 0<u<1 \n",
    "for i in range(T):\n",
    "    task.putvarbound(u+i, mosek.boundkey.ra, 0, 1)\n",
    "    task.putvarbound(eta1+i , mosek.boundkey.ra, -inf, inf)\n",
    "    task.putvarbound(eta2+i , mosek.boundkey.ra, -inf, inf)\n",
    "\n",
    "# sum(u)=1\n",
    "c = msk_newcon(task, 1)\n",
    "task.putarow(c, range(u,u+T),[1.0]*T)\n",
    "task.putconbound(c, mosek.boundkey.fx, 1.0, 1.0)  \n",
    "\n",
    "# u=u2\n",
    "for i in range(T):\n",
    "    c = msk_newcon(task, 1)\n",
    "    task.putarow(c, [u+i,u2+i],[1.0,-1.0])\n",
    "    task.putconbound(c, mosek.boundkey.fx, 0.0, 0.0)  \n",
    "\n",
    "# max relative entropy\n",
    "for i in range(T):\n",
    "    msk_relent(task, eta1+i, u+i, msk_newvar_fx(task, 1, ref1[i])) #(t,x,y) t >= x * log(x/y), x,y>=0  --> -t <= -x * log x \n",
    "    msk_relent(task, eta2+i, u2+i, msk_newvar_fx(task, 1, ref2[i])) #(t,x,y)\n",
    "\n",
    "# objective ----------------------------------------------------------------\n",
    "task.putclist(range(eta1,eta2+T),[1]*2*T)\n",
    "#task.putclist(range(task.getnumvar()),[1.0]*task.getnumvar())\n",
    "\n",
    "# Input the objective sense (minimize/maximize)\n",
    "task.putobjsense(mosek.objsense.minimize)\n",
    "\n",
    "# get solution\n",
    "task.optimize()\n",
    "xx = [0.0]*task.getnumvar()\n",
    "task.getxx(mosek.soltype.itr,xx)"
   ]
  },
  {
   "cell_type": "code",
   "execution_count": 12,
   "metadata": {},
   "outputs": [
    {
     "data": {
      "text/plain": [
       "[0.3956873424021416,\n",
       " 0.6043126579891378,\n",
       " 0.3956873423168808,\n",
       " 0.6043126589136365,\n",
       " -0.09258436505809503,\n",
       " 0.11450734590810788,\n",
       " 0.10954288378043245,\n",
       " -0.08882708424681325,\n",
       " 0.5,\n",
       " 0.09258436505809503,\n",
       " 0.3,\n",
       " -0.10954288378043245,\n",
       " 0.5,\n",
       " -0.11450734590810788,\n",
       " 0.7,\n",
       " 0.08882708424681325]"
      ]
     },
     "execution_count": 12,
     "metadata": {},
     "output_type": "execute_result"
    }
   ],
   "source": [
    "xx"
   ]
  }
 ],
 "metadata": {
  "kernelspec": {
   "display_name": "base",
   "language": "python",
   "name": "python3"
  },
  "language_info": {
   "codemirror_mode": {
    "name": "ipython",
    "version": 3
   },
   "file_extension": ".py",
   "mimetype": "text/x-python",
   "name": "python",
   "nbconvert_exporter": "python",
   "pygments_lexer": "ipython3",
   "version": "3.9.13"
  },
  "orig_nbformat": 4
 },
 "nbformat": 4,
 "nbformat_minor": 2
}
