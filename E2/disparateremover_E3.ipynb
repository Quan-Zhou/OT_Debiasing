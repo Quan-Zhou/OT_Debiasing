{
 "cells": [
  {
   "cell_type": "code",
   "execution_count": 4,
   "metadata": {},
   "outputs": [],
   "source": [
    "import pandas as pd\n",
    "import numpy as np\n",
    "\n",
    "import seaborn as sns\n",
    "from matplotlib import pyplot as plt\n",
    "\n",
    "from sklearn.model_selection import train_test_split\n",
    "\n",
    "from sklearn.preprocessing import StandardScaler\n",
    "from sklearn.pipeline import Pipeline\n",
    "\n",
    "from aif360.algorithms.preprocessing import DisparateImpactRemover\n",
    "from aif360.datasets import BinaryLabelDataset, Dataset\n",
    "from aif360.metrics import BinaryLabelDatasetMetric\n",
    "\n",
    "rand_seed = 1234\n",
    "np.random.seed(rand_seed)"
   ]
  },
  {
   "cell_type": "code",
   "execution_count": null,
   "metadata": {},
   "outputs": [],
   "source": [
    "def reweighting(df_test):\n",
    "    binaryLabelDataset = BinaryLabelDataset(\n",
    "        favorable_label=1,\n",
    "        unfavorable_label=0,\n",
    "        df=df_test[var_list+['S','Y','W']], #df_test.drop('X',axis=1), #[x_list+['S','W','Y']],\n",
    "        label_names=['Y'],\n",
    "        instance_weights_name=['W'],\n",
    "        protected_attribute_names=['S'],\n",
    "        privileged_protected_attributes=[np.array([1.0])],unprivileged_protected_attributes=[np.array([0.])])\n",
    "    RW = Reweighing(privileged_groups = [{'S': 1}],unprivileged_groups = [{'S': 0}]) #DisparateImpactRemover(repair_level = 1)\n",
    "    RW.fit(binaryLabelDataset)\n",
    "    weights_RW = RW.transform(binaryLabelDataset).instance_weights.reshape(-1)\n",
    "    test_RW = df_test.copy()\n",
    "    test_RW['W'] = weights_RW\n",
    "    return test_RW"
   ]
  },
  {
   "cell_type": "code",
   "execution_count": 174,
   "metadata": {},
   "outputs": [],
   "source": [
    "from aif360.algorithms.preprocessing import DisparateImpactRemover,Reweighing"
   ]
  },
  {
   "cell_type": "code",
   "execution_count": 131,
   "metadata": {},
   "outputs": [],
   "source": [
    "from aif360.datasets import CompasDataset\n",
    "label_map = {1.0: 'Did recid.', 0.0: 'No recid.'}\n",
    "protected_attribute_maps = [{1.0: 'Male', 0.0: 'Female'}]\n",
    "cd = CompasDataset(protected_attribute_names=['sex'],\n",
    "                privileged_classes=[['Male']], metadata={'label_map': label_map,\n",
    "                'protected_attribute_maps': protected_attribute_maps},\n",
    "                features_to_drop=['age_cat', 'race','c_charge_degree', 'c_charge_desc'])"
   ]
  },
  {
   "cell_type": "code",
   "execution_count": 132,
   "metadata": {},
   "outputs": [
    {
     "data": {
      "text/plain": [
       "1.2459083658494687"
      ]
     },
     "execution_count": 132,
     "metadata": {},
     "output_type": "execute_result"
    }
   ],
   "source": [
    "di=BinaryLabelDatasetMetric(cd,privileged_groups=[{'sex':1}],unprivileged_groups=[{'sex':0}])\n",
    "di.disparate_impact()"
   ]
  },
  {
   "cell_type": "code",
   "execution_count": 133,
   "metadata": {},
   "outputs": [],
   "source": [
    "from aif360.datasets import CompasDataset\n",
    "label_map = {1.0: 'Did recid.', 0.0: 'No recid.'}\n",
    "protected_attribute_maps = {1.0: 'Caucasian', 0.0: 'Not Caucasian'} #[{1.0: 'Caucasian', 0.0: 'African-American'}] # 0.0: 'Not Caucasian'\n",
    "privileged_groups = [{'race': 1}]\n",
    "unprivileged_groups = [{'race': 0}]\n",
    "cd = CompasDataset(protected_attribute_names=['race'],privileged_classes=[['Caucasian'],[1]], \n",
    "                    metadata={'label_map': label_map,'protected_attribute_maps': protected_attribute_maps},\n",
    "                    features_to_drop=['age_cat', 'sex','c_charge_degree', 'c_charge_desc'])"
   ]
  },
  {
   "cell_type": "code",
   "execution_count": 134,
   "metadata": {},
   "outputs": [
    {
     "data": {
      "text/plain": [
       "0.8400075282178671"
      ]
     },
     "execution_count": 134,
     "metadata": {},
     "output_type": "execute_result"
    }
   ],
   "source": [
    "di=BinaryLabelDatasetMetric(cd,privileged_groups=[{'race':1}],unprivileged_groups=[{'race':0}])\n",
    "di.disparate_impact()"
   ]
  },
  {
   "cell_type": "code",
   "execution_count": 152,
   "metadata": {},
   "outputs": [],
   "source": [
    "test, train = cd.split([int(len(cd.instance_names)/3)]) #len(test.instance_names) = 2057"
   ]
  },
  {
   "cell_type": "code",
   "execution_count": 193,
   "metadata": {},
   "outputs": [
    {
     "data": {
      "text/html": [
       "<div>\n",
       "<style scoped>\n",
       "    .dataframe tbody tr th:only-of-type {\n",
       "        vertical-align: middle;\n",
       "    }\n",
       "\n",
       "    .dataframe tbody tr th {\n",
       "        vertical-align: top;\n",
       "    }\n",
       "\n",
       "    .dataframe thead th {\n",
       "        text-align: right;\n",
       "    }\n",
       "</style>\n",
       "<table border=\"1\" class=\"dataframe\">\n",
       "  <thead>\n",
       "    <tr style=\"text-align: right;\">\n",
       "      <th></th>\n",
       "      <th>age</th>\n",
       "      <th>race</th>\n",
       "      <th>juv_fel_count</th>\n",
       "      <th>juv_misd_count</th>\n",
       "      <th>juv_other_count</th>\n",
       "      <th>priors_count</th>\n",
       "      <th>two_year_recid</th>\n",
       "    </tr>\n",
       "  </thead>\n",
       "  <tbody>\n",
       "    <tr>\n",
       "      <th>7033</th>\n",
       "      <td>22.0</td>\n",
       "      <td>0.0</td>\n",
       "      <td>0.0</td>\n",
       "      <td>0.0</td>\n",
       "      <td>0.0</td>\n",
       "      <td>2.0</td>\n",
       "      <td>0.0</td>\n",
       "    </tr>\n",
       "    <tr>\n",
       "      <th>7034</th>\n",
       "      <td>28.0</td>\n",
       "      <td>1.0</td>\n",
       "      <td>0.0</td>\n",
       "      <td>0.0</td>\n",
       "      <td>0.0</td>\n",
       "      <td>2.0</td>\n",
       "      <td>1.0</td>\n",
       "    </tr>\n",
       "    <tr>\n",
       "      <th>7036</th>\n",
       "      <td>28.0</td>\n",
       "      <td>0.0</td>\n",
       "      <td>0.0</td>\n",
       "      <td>0.0</td>\n",
       "      <td>0.0</td>\n",
       "      <td>0.0</td>\n",
       "      <td>1.0</td>\n",
       "    </tr>\n",
       "    <tr>\n",
       "      <th>7037</th>\n",
       "      <td>26.0</td>\n",
       "      <td>0.0</td>\n",
       "      <td>0.0</td>\n",
       "      <td>1.0</td>\n",
       "      <td>0.0</td>\n",
       "      <td>6.0</td>\n",
       "      <td>1.0</td>\n",
       "    </tr>\n",
       "    <tr>\n",
       "      <th>7039</th>\n",
       "      <td>36.0</td>\n",
       "      <td>1.0</td>\n",
       "      <td>0.0</td>\n",
       "      <td>0.0</td>\n",
       "      <td>0.0</td>\n",
       "      <td>3.0</td>\n",
       "      <td>1.0</td>\n",
       "    </tr>\n",
       "  </tbody>\n",
       "</table>\n",
       "</div>"
      ],
      "text/plain": [
       "       age  race  juv_fel_count  juv_misd_count  juv_other_count  \\\n",
       "7033  22.0   0.0            0.0             0.0              0.0   \n",
       "7034  28.0   1.0            0.0             0.0              0.0   \n",
       "7036  28.0   0.0            0.0             0.0              0.0   \n",
       "7037  26.0   0.0            0.0             1.0              0.0   \n",
       "7039  36.0   1.0            0.0             0.0              0.0   \n",
       "\n",
       "      priors_count  two_year_recid  \n",
       "7033           2.0             0.0  \n",
       "7034           2.0             1.0  \n",
       "7036           0.0             1.0  \n",
       "7037           6.0             1.0  \n",
       "7039           3.0             1.0  "
      ]
     },
     "execution_count": 193,
     "metadata": {},
     "output_type": "execute_result"
    }
   ],
   "source": [
    "RW = Reweighing(privileged_groups = [{'race': 1}],unprivileged_groups = [{'race': 0}]) #DisparateImpactRemover(repair_level = 1)\n",
    "RW.fit(train)\n",
    "dataset_transf_train = RW.transform(train)\n",
    "# di = DisparateImpactRemover(repair_level = 1)\n",
    "# dataset_transf_train = di.fit_transform(train)\n",
    "# transformed = dataset_transf_train.convert_to_dataframe()[0]\n",
    "\n",
    "x=np.random.randint(0,len(train.instance_names)-5)\n",
    "train.convert_to_dataframe()[0].iloc[x:x+5]"
   ]
  },
  {
   "cell_type": "code",
   "execution_count": 192,
   "metadata": {},
   "outputs": [
    {
     "data": {
      "text/plain": [
       "               instance weights features                                    \\\n",
       "                                         protected attribute                 \n",
       "                                     age                race juv_fel_count   \n",
       "instance names                                                               \n",
       "3679                   1.175228     47.0                 1.0           0.0   \n",
       "3681                   1.072773     52.0                 0.0           0.0   \n",
       "3684                   0.928029     26.0                 0.0           0.0   \n",
       "3687                   0.928029     45.0                 0.0           0.0   \n",
       "3691                   0.928029     19.0                 0.0           0.0   \n",
       "...                         ...      ...                 ...           ...   \n",
       "10996                  1.072773     23.0                 0.0           0.0   \n",
       "10997                  1.072773     23.0                 0.0           0.0   \n",
       "10999                  1.072773     57.0                 0.0           0.0   \n",
       "11000                  1.072773     33.0                 0.0           0.0   \n",
       "11001                  0.928029     23.0                 0.0           0.0   \n",
       "\n",
       "                                                           labels  \n",
       "                                                                   \n",
       "               juv_misd_count juv_other_count priors_count         \n",
       "instance names                                                     \n",
       "3679                      0.0             0.0          0.0    1.0  \n",
       "3681                      0.0             0.0          8.0    0.0  \n",
       "3684                      1.0             2.0          5.0    1.0  \n",
       "3687                      0.0             0.0         13.0    1.0  \n",
       "3691                      0.0             0.0          0.0    1.0  \n",
       "...                       ...             ...          ...    ...  \n",
       "10996                     0.0             0.0          0.0    0.0  \n",
       "10997                     0.0             0.0          0.0    0.0  \n",
       "10999                     0.0             0.0          0.0    0.0  \n",
       "11000                     0.0             0.0          3.0    0.0  \n",
       "11001                     0.0             0.0          2.0    1.0  \n",
       "\n",
       "[4115 rows x 8 columns]"
      ]
     },
     "execution_count": 192,
     "metadata": {},
     "output_type": "execute_result"
    }
   ],
   "source": [
    "dataset_transf_train"
   ]
  },
  {
   "cell_type": "code",
   "execution_count": 191,
   "metadata": {},
   "outputs": [
    {
     "data": {
      "text/html": [
       "<div>\n",
       "<style scoped>\n",
       "    .dataframe tbody tr th:only-of-type {\n",
       "        vertical-align: middle;\n",
       "    }\n",
       "\n",
       "    .dataframe tbody tr th {\n",
       "        vertical-align: top;\n",
       "    }\n",
       "\n",
       "    .dataframe thead th {\n",
       "        text-align: right;\n",
       "    }\n",
       "</style>\n",
       "<table border=\"1\" class=\"dataframe\">\n",
       "  <thead>\n",
       "    <tr style=\"text-align: right;\">\n",
       "      <th></th>\n",
       "      <th>age</th>\n",
       "      <th>race</th>\n",
       "      <th>juv_fel_count</th>\n",
       "      <th>juv_misd_count</th>\n",
       "      <th>juv_other_count</th>\n",
       "      <th>priors_count</th>\n",
       "      <th>two_year_recid</th>\n",
       "    </tr>\n",
       "  </thead>\n",
       "  <tbody>\n",
       "    <tr>\n",
       "      <th>7912</th>\n",
       "      <td>21.0</td>\n",
       "      <td>1.0</td>\n",
       "      <td>0.0</td>\n",
       "      <td>0.0</td>\n",
       "      <td>0.0</td>\n",
       "      <td>0.0</td>\n",
       "      <td>1.0</td>\n",
       "    </tr>\n",
       "    <tr>\n",
       "      <th>7913</th>\n",
       "      <td>30.0</td>\n",
       "      <td>0.0</td>\n",
       "      <td>0.0</td>\n",
       "      <td>0.0</td>\n",
       "      <td>0.0</td>\n",
       "      <td>4.0</td>\n",
       "      <td>0.0</td>\n",
       "    </tr>\n",
       "    <tr>\n",
       "      <th>7914</th>\n",
       "      <td>55.0</td>\n",
       "      <td>1.0</td>\n",
       "      <td>0.0</td>\n",
       "      <td>0.0</td>\n",
       "      <td>0.0</td>\n",
       "      <td>0.0</td>\n",
       "      <td>0.0</td>\n",
       "    </tr>\n",
       "    <tr>\n",
       "      <th>7915</th>\n",
       "      <td>25.0</td>\n",
       "      <td>0.0</td>\n",
       "      <td>0.0</td>\n",
       "      <td>0.0</td>\n",
       "      <td>0.0</td>\n",
       "      <td>0.0</td>\n",
       "      <td>0.0</td>\n",
       "    </tr>\n",
       "    <tr>\n",
       "      <th>7916</th>\n",
       "      <td>25.0</td>\n",
       "      <td>0.0</td>\n",
       "      <td>0.0</td>\n",
       "      <td>0.0</td>\n",
       "      <td>0.0</td>\n",
       "      <td>0.0</td>\n",
       "      <td>0.0</td>\n",
       "    </tr>\n",
       "  </tbody>\n",
       "</table>\n",
       "</div>"
      ],
      "text/plain": [
       "       age  race  juv_fel_count  juv_misd_count  juv_other_count  \\\n",
       "7912  21.0   1.0            0.0             0.0              0.0   \n",
       "7913  30.0   0.0            0.0             0.0              0.0   \n",
       "7914  55.0   1.0            0.0             0.0              0.0   \n",
       "7915  25.0   0.0            0.0             0.0              0.0   \n",
       "7916  25.0   0.0            0.0             0.0              0.0   \n",
       "\n",
       "      priors_count  two_year_recid  \n",
       "7912           0.0             1.0  \n",
       "7913           4.0             0.0  \n",
       "7914           0.0             0.0  \n",
       "7915           0.0             0.0  \n",
       "7916           0.0             0.0  "
      ]
     },
     "execution_count": 191,
     "metadata": {},
     "output_type": "execute_result"
    }
   ],
   "source": [
    "dataset_transf_train.convert_to_dataframe()[0].iloc[x:x+5]"
   ]
  },
  {
   "cell_type": "code",
   "execution_count": 20,
   "metadata": {},
   "outputs": [],
   "source": [
    "import numpy as np\n",
    "import pandas as pd\n",
    "from sklearn.ensemble import RandomForestClassifier\n",
    "from sklearn.model_selection import train_test_split\n",
    "from sklearn.metrics import f1_score\n",
    "from functions import*\n",
    "import os\n",
    "path=os.path.dirname(os.getcwd())\n",
    "import matplotlib.pyplot as plt"
   ]
  },
  {
   "cell_type": "code",
   "execution_count": 194,
   "metadata": {},
   "outputs": [],
   "source": [
    "K=200\n",
    "e=0.01\n",
    "\n",
    "var_list=['hoursperweek','age','capitalgain','capitalloss' ,'education-num'] #\n",
    "var_dim=len(var_list)\n",
    "pa='race'\n",
    "pa_dict={'Male':1,'Female':0,'White':1,'Black':0}\n",
    "pd.set_option('future.no_silent_downcasting', True)\n",
    "\n",
    "messydata=pd.read_csv(path+'/data/adult_csv.csv',usecols=var_list+[pa,'class'])\n",
    "messydata=messydata.rename(columns={pa:'S','class':'Y'})\n",
    "messydata['S']=messydata['S'].replace(pa_dict)\n",
    "messydata['Y']=messydata['Y'].replace({'>50K':1,'<=50K':0})\n",
    "messydata=messydata[(messydata['S']==1)|(messydata['S']==0)]\n",
    "for col in var_list+['S','Y']:\n",
    "    messydata[col]=messydata[col].astype('category')\n",
    "messydata['W']=1\n",
    "X=messydata[var_list+['S','W']].to_numpy() # [X,S,W]\n",
    "y=messydata['Y'].to_numpy() #[Y]"
   ]
  },
  {
   "cell_type": "code",
   "execution_count": 195,
   "metadata": {},
   "outputs": [
    {
     "name": "stderr",
     "output_type": "stream",
     "text": [
      "C:\\Users\\zhouq\\AppData\\Local\\Temp\\ipykernel_15680\\415012319.py:3: FutureWarning: The default value of observed=False is deprecated and will change to observed=True in a future version of pandas. Specify observed=False to silence this warning and retain the current behavior\n",
      "  x_range_single=list(pd.pivot_table(messydata,index=x_name,values=['W'])[('W')].index)\n",
      "c:\\Users\\zhouq\\Documents\\OT_Debiasing\\E2\\functions.py:196: FutureWarning: The provided callable <function sum at 0x000002DD92591D30> is currently using DataFrameGroupBy.sum. In a future version of pandas, the provided callable will be used directly. To keep current behavior pass the string \"sum\" instead.\n",
      "  pivot=pd.pivot_table(rdata,index=x_name,values=['W'],aggfunc=[np.sum],observed=False)[(\"sum\",'W')]\n",
      "c:\\Users\\zhouq\\Documents\\OT_Debiasing\\E2\\functions.py:199: FutureWarning: The provided callable <function sum at 0x000002DD92591D30> is currently using DataFrameGroupBy.sum. In a future version of pandas, the provided callable will be used directly. To keep current behavior pass the string \"sum\" instead.\n",
      "  pivot0=pd.pivot_table(rdata[rdata['S']==0],index=x_name,values=['W'],aggfunc=[np.sum],observed=False)[(\"sum\",'W')]\n",
      "c:\\Users\\zhouq\\Documents\\OT_Debiasing\\E2\\functions.py:202: FutureWarning: The provided callable <function sum at 0x000002DD92591D30> is currently using DataFrameGroupBy.sum. In a future version of pandas, the provided callable will be used directly. To keep current behavior pass the string \"sum\" instead.\n",
      "  pivot1=pd.pivot_table(rdata[rdata['S']==1],index=x_name,values=['W'],aggfunc=[np.sum],observed=False)[(\"sum\",'W')]\n",
      "C:\\Users\\zhouq\\AppData\\Local\\Temp\\ipykernel_15680\\415012319.py:3: FutureWarning: The default value of observed=False is deprecated and will change to observed=True in a future version of pandas. Specify observed=False to silence this warning and retain the current behavior\n",
      "  x_range_single=list(pd.pivot_table(messydata,index=x_name,values=['W'])[('W')].index)\n",
      "c:\\Users\\zhouq\\Documents\\OT_Debiasing\\E2\\functions.py:196: FutureWarning: The provided callable <function sum at 0x000002DD92591D30> is currently using DataFrameGroupBy.sum. In a future version of pandas, the provided callable will be used directly. To keep current behavior pass the string \"sum\" instead.\n",
      "  pivot=pd.pivot_table(rdata,index=x_name,values=['W'],aggfunc=[np.sum],observed=False)[(\"sum\",'W')]\n",
      "c:\\Users\\zhouq\\Documents\\OT_Debiasing\\E2\\functions.py:199: FutureWarning: The provided callable <function sum at 0x000002DD92591D30> is currently using DataFrameGroupBy.sum. In a future version of pandas, the provided callable will be used directly. To keep current behavior pass the string \"sum\" instead.\n",
      "  pivot0=pd.pivot_table(rdata[rdata['S']==0],index=x_name,values=['W'],aggfunc=[np.sum],observed=False)[(\"sum\",'W')]\n",
      "c:\\Users\\zhouq\\Documents\\OT_Debiasing\\E2\\functions.py:202: FutureWarning: The provided callable <function sum at 0x000002DD92591D30> is currently using DataFrameGroupBy.sum. In a future version of pandas, the provided callable will be used directly. To keep current behavior pass the string \"sum\" instead.\n",
      "  pivot1=pd.pivot_table(rdata[rdata['S']==1],index=x_name,values=['W'],aggfunc=[np.sum],observed=False)[(\"sum\",'W')]\n",
      "C:\\Users\\zhouq\\AppData\\Local\\Temp\\ipykernel_15680\\415012319.py:3: FutureWarning: The default value of observed=False is deprecated and will change to observed=True in a future version of pandas. Specify observed=False to silence this warning and retain the current behavior\n",
      "  x_range_single=list(pd.pivot_table(messydata,index=x_name,values=['W'])[('W')].index)\n",
      "c:\\Users\\zhouq\\Documents\\OT_Debiasing\\E2\\functions.py:196: FutureWarning: The provided callable <function sum at 0x000002DD92591D30> is currently using DataFrameGroupBy.sum. In a future version of pandas, the provided callable will be used directly. To keep current behavior pass the string \"sum\" instead.\n",
      "  pivot=pd.pivot_table(rdata,index=x_name,values=['W'],aggfunc=[np.sum],observed=False)[(\"sum\",'W')]\n",
      "c:\\Users\\zhouq\\Documents\\OT_Debiasing\\E2\\functions.py:199: FutureWarning: The provided callable <function sum at 0x000002DD92591D30> is currently using DataFrameGroupBy.sum. In a future version of pandas, the provided callable will be used directly. To keep current behavior pass the string \"sum\" instead.\n",
      "  pivot0=pd.pivot_table(rdata[rdata['S']==0],index=x_name,values=['W'],aggfunc=[np.sum],observed=False)[(\"sum\",'W')]\n",
      "c:\\Users\\zhouq\\Documents\\OT_Debiasing\\E2\\functions.py:202: FutureWarning: The provided callable <function sum at 0x000002DD92591D30> is currently using DataFrameGroupBy.sum. In a future version of pandas, the provided callable will be used directly. To keep current behavior pass the string \"sum\" instead.\n",
      "  pivot1=pd.pivot_table(rdata[rdata['S']==1],index=x_name,values=['W'],aggfunc=[np.sum],observed=False)[(\"sum\",'W')]\n",
      "C:\\Users\\zhouq\\AppData\\Local\\Temp\\ipykernel_15680\\415012319.py:3: FutureWarning: The default value of observed=False is deprecated and will change to observed=True in a future version of pandas. Specify observed=False to silence this warning and retain the current behavior\n",
      "  x_range_single=list(pd.pivot_table(messydata,index=x_name,values=['W'])[('W')].index)\n",
      "c:\\Users\\zhouq\\Documents\\OT_Debiasing\\E2\\functions.py:196: FutureWarning: The provided callable <function sum at 0x000002DD92591D30> is currently using DataFrameGroupBy.sum. In a future version of pandas, the provided callable will be used directly. To keep current behavior pass the string \"sum\" instead.\n",
      "  pivot=pd.pivot_table(rdata,index=x_name,values=['W'],aggfunc=[np.sum],observed=False)[(\"sum\",'W')]\n",
      "c:\\Users\\zhouq\\Documents\\OT_Debiasing\\E2\\functions.py:199: FutureWarning: The provided callable <function sum at 0x000002DD92591D30> is currently using DataFrameGroupBy.sum. In a future version of pandas, the provided callable will be used directly. To keep current behavior pass the string \"sum\" instead.\n",
      "  pivot0=pd.pivot_table(rdata[rdata['S']==0],index=x_name,values=['W'],aggfunc=[np.sum],observed=False)[(\"sum\",'W')]\n",
      "c:\\Users\\zhouq\\Documents\\OT_Debiasing\\E2\\functions.py:202: FutureWarning: The provided callable <function sum at 0x000002DD92591D30> is currently using DataFrameGroupBy.sum. In a future version of pandas, the provided callable will be used directly. To keep current behavior pass the string \"sum\" instead.\n",
      "  pivot1=pd.pivot_table(rdata[rdata['S']==1],index=x_name,values=['W'],aggfunc=[np.sum],observed=False)[(\"sum\",'W')]\n",
      "C:\\Users\\zhouq\\AppData\\Local\\Temp\\ipykernel_15680\\415012319.py:3: FutureWarning: The default value of observed=False is deprecated and will change to observed=True in a future version of pandas. Specify observed=False to silence this warning and retain the current behavior\n",
      "  x_range_single=list(pd.pivot_table(messydata,index=x_name,values=['W'])[('W')].index)\n",
      "c:\\Users\\zhouq\\Documents\\OT_Debiasing\\E2\\functions.py:196: FutureWarning: The provided callable <function sum at 0x000002DD92591D30> is currently using DataFrameGroupBy.sum. In a future version of pandas, the provided callable will be used directly. To keep current behavior pass the string \"sum\" instead.\n",
      "  pivot=pd.pivot_table(rdata,index=x_name,values=['W'],aggfunc=[np.sum],observed=False)[(\"sum\",'W')]\n",
      "c:\\Users\\zhouq\\Documents\\OT_Debiasing\\E2\\functions.py:199: FutureWarning: The provided callable <function sum at 0x000002DD92591D30> is currently using DataFrameGroupBy.sum. In a future version of pandas, the provided callable will be used directly. To keep current behavior pass the string \"sum\" instead.\n",
      "  pivot0=pd.pivot_table(rdata[rdata['S']==0],index=x_name,values=['W'],aggfunc=[np.sum],observed=False)[(\"sum\",'W')]\n",
      "c:\\Users\\zhouq\\Documents\\OT_Debiasing\\E2\\functions.py:202: FutureWarning: The provided callable <function sum at 0x000002DD92591D30> is currently using DataFrameGroupBy.sum. In a future version of pandas, the provided callable will be used directly. To keep current behavior pass the string \"sum\" instead.\n",
      "  pivot1=pd.pivot_table(rdata[rdata['S']==1],index=x_name,values=['W'],aggfunc=[np.sum],observed=False)[(\"sum\",'W')]\n"
     ]
    }
   ],
   "source": [
    "tv_dist=dict()\n",
    "for x_name in var_list:\n",
    "    x_range_single=list(pd.pivot_table(messydata,index=x_name,values=['W'])[('W')].index) \n",
    "    dist=rdata_analysis(messydata,x_range_single,x_name)\n",
    "    tv_dist[x_name]=sum(abs(dist['x_0']-dist['x_1']))/2\n",
    "x_list=[]\n",
    "for key,val in tv_dist.items():\n",
    "    if val>0.08:\n",
    "        x_list+=[key]"
   ]
  },
  {
   "cell_type": "code",
   "execution_count": 196,
   "metadata": {},
   "outputs": [],
   "source": [
    "X_train, X_test, y_train, y_test = train_test_split(X, y, test_size=0.4)\n",
    "clf=RandomForestClassifier(max_depth=5, random_state=0).fit(X_train[:,0:var_dim],y_train)\n",
    "\n",
    "df_train=pd.DataFrame(np.concatenate((X_train,y_train.reshape(-1,1)), axis=1),columns=var_list+['S','W','Y'])\n",
    "df_test=pd.DataFrame(np.concatenate((X_test,y_test.reshape(-1,1)), axis=1),columns=var_list+['S','W','Y'])\n",
    "# df_test=df_test.groupby(by=var_list+['S','Y'],as_index=False).sum()"
   ]
  },
  {
   "cell_type": "code",
   "execution_count": 24,
   "metadata": {},
   "outputs": [
    {
     "name": "stderr",
     "output_type": "stream",
     "text": [
      "c:\\Users\\zhouq\\Documents\\OT_Debiasing\\E2\\functions.py:196: FutureWarning: The provided callable <function sum at 0x000002DD92591D30> is currently using DataFrameGroupBy.sum. In a future version of pandas, the provided callable will be used directly. To keep current behavior pass the string \"sum\" instead.\n",
      "  pivot=pd.pivot_table(rdata,index=x_name,values=['W'],aggfunc=[np.sum],observed=False)[(\"sum\",'W')]\n",
      "c:\\Users\\zhouq\\Documents\\OT_Debiasing\\E2\\functions.py:199: FutureWarning: The provided callable <function sum at 0x000002DD92591D30> is currently using DataFrameGroupBy.sum. In a future version of pandas, the provided callable will be used directly. To keep current behavior pass the string \"sum\" instead.\n",
      "  pivot0=pd.pivot_table(rdata[rdata['S']==0],index=x_name,values=['W'],aggfunc=[np.sum],observed=False)[(\"sum\",'W')]\n",
      "c:\\Users\\zhouq\\Documents\\OT_Debiasing\\E2\\functions.py:202: FutureWarning: The provided callable <function sum at 0x000002DD92591D30> is currently using DataFrameGroupBy.sum. In a future version of pandas, the provided callable will be used directly. To keep current behavior pass the string \"sum\" instead.\n",
      "  pivot1=pd.pivot_table(rdata[rdata['S']==1],index=x_name,values=['W'],aggfunc=[np.sum],observed=False)[(\"sum\",'W')]\n"
     ]
    }
   ],
   "source": [
    "if len(x_list)>1:\n",
    "    df_test['X']=[tuple(df_test[x_list].values[r]) for r in range(df_test.shape[0])]\n",
    "    x_range=sorted(set(df_test['X']))\n",
    "    weight=list(1/(df_test[x_list].max()-df_test[x_list].min())) # because 'education-num' range from 1 to 16 while others 1 to 4\n",
    "    C=c_generate_higher(x_range,weight)\n",
    "else:\n",
    "    df_test['X']=df_test[x_list]\n",
    "    x_range=sorted(set(df_test['X']))\n",
    "    C=c_generate(x_range)\n",
    "\n",
    "bin=len(x_range)\n",
    "var_range=list(pd.pivot_table(df_test,index=var_list,values=['S','W','Y']).index)\n",
    "dist=rdata_analysis(df_test,x_range,'X')\n",
    "dist['t_x']=dist['x'] # #dist['x'] #dist['x_0']*0.5+dist['x_1']*0.5 \n",
    "dist['v']=[(dist['x_0'][i]-dist['x_1'][i])/dist['x'][i] for i in range(bin)]\n",
    "px=np.matrix(dist['x']).T\n",
    "ptx=np.matrix(dist['t_x']).T\n",
    "if np.any(dist['x_0']==0): \n",
    "    p0=np.matrix((dist['x_0']+1.0e-9)/sum(dist['x_0']+1.0e-9)).T\n",
    "else:\n",
    "    p0=np.matrix(dist['x_0']).T \n",
    "if np.any(dist['x_1']==0):\n",
    "    p1=np.matrix((dist['x_1']+1.0e-9)/sum(dist['x_1']+1.0e-9)).T\n",
    "else:\n",
    "    p1=np.matrix(dist['x_1']).T \n",
    "V=np.matrix(dist['v']).T"
   ]
  },
  {
   "cell_type": "code",
   "execution_count": 9,
   "metadata": {},
   "outputs": [
    {
     "ename": "KeyboardInterrupt",
     "evalue": "",
     "output_type": "error",
     "traceback": [
      "\u001b[1;31m---------------------------------------------------------------------------\u001b[0m",
      "\u001b[1;31mKeyboardInterrupt\u001b[0m                         Traceback (most recent call last)",
      "Cell \u001b[1;32mIn[9], line 1\u001b[0m\n\u001b[1;32m----> 1\u001b[0m coupling_part2\u001b[38;5;241m=\u001b[39m\u001b[43mpartial_repair\u001b[49m\u001b[43m(\u001b[49m\u001b[43mC\u001b[49m\u001b[43m,\u001b[49m\u001b[43me\u001b[49m\u001b[43m,\u001b[49m\u001b[43mpx\u001b[49m\u001b[43m,\u001b[49m\u001b[43mptx\u001b[49m\u001b[43m,\u001b[49m\u001b[43mV\u001b[49m\u001b[43m,\u001b[49m\u001b[38;5;241;43m1.0e-2\u001b[39;49m\u001b[43m,\u001b[49m\u001b[43mK\u001b[49m\u001b[43m)\u001b[49m\n\u001b[0;32m      2\u001b[0m coupling_part3\u001b[38;5;241m=\u001b[39mpartial_repair(C,e,px,ptx,V,\u001b[38;5;241m1.0e-3\u001b[39m,K)\n\u001b[0;32m      4\u001b[0m tv_part2\u001b[38;5;241m=\u001b[39massess_tv(df_test,coupling_part2,x_range,x_list,var_list)\n",
      "File \u001b[1;32mc:\\Users\\zhouq\\Documents\\OT_Debiasing\\E2\\functions.py:161\u001b[0m, in \u001b[0;36mpartial_repair\u001b[1;34m(C, e, px, ptx, V, theta_scale, K)\u001b[0m\n\u001b[0;32m    159\u001b[0m fun \u001b[38;5;241m=\u001b[39m \u001b[38;5;28;01mlambda\u001b[39;00m z: \u001b[38;5;28msum\u001b[39m(tmp\u001b[38;5;241m.\u001b[39mitem(i,j)\u001b[38;5;241m*\u001b[39mV\u001b[38;5;241m.\u001b[39mitem(i)\u001b[38;5;241m*\u001b[39mnp\u001b[38;5;241m.\u001b[39mexp(\u001b[38;5;241m-\u001b[39mz\u001b[38;5;241m*\u001b[39mV\u001b[38;5;241m.\u001b[39mitem(i)) \u001b[38;5;28;01mfor\u001b[39;00m i \u001b[38;5;129;01min\u001b[39;00m I)\u001b[38;5;241m-\u001b[39mtheta\u001b[38;5;241m.\u001b[39mitem(j)\n\u001b[0;32m    160\u001b[0m dfun \u001b[38;5;241m=\u001b[39m \u001b[38;5;28;01mlambda\u001b[39;00m z: \u001b[38;5;241m-\u001b[39m\u001b[38;5;28msum\u001b[39m(tmp\u001b[38;5;241m.\u001b[39mitem(i,j)\u001b[38;5;241m*\u001b[39m(V\u001b[38;5;241m.\u001b[39mitem(i))\u001b[38;5;241m*\u001b[39m\u001b[38;5;241m*\u001b[39m\u001b[38;5;241m2\u001b[39m\u001b[38;5;241m*\u001b[39mnp\u001b[38;5;241m.\u001b[39mexp(\u001b[38;5;241m-\u001b[39mz\u001b[38;5;241m*\u001b[39mV\u001b[38;5;241m.\u001b[39mitem(i)) \u001b[38;5;28;01mfor\u001b[39;00m i \u001b[38;5;129;01min\u001b[39;00m I)\n\u001b[1;32m--> 161\u001b[0m nu \u001b[38;5;241m=\u001b[39m \u001b[43mnewton\u001b[49m\u001b[43m(\u001b[49m\u001b[43mfun\u001b[49m\u001b[43m,\u001b[49m\u001b[43mdfun\u001b[49m\u001b[43m,\u001b[49m\u001b[38;5;241;43m0\u001b[39;49m\u001b[43m,\u001b[49m\u001b[43mstepmax\u001b[49m\u001b[43m \u001b[49m\u001b[38;5;241;43m=\u001b[39;49m\u001b[43m \u001b[49m\u001b[38;5;241;43m50\u001b[39;49m\u001b[43m,\u001b[49m\u001b[43mtol\u001b[49m\u001b[43m \u001b[49m\u001b[38;5;241;43m=\u001b[39;49m\u001b[43m \u001b[49m\u001b[38;5;241;43m1.0e-9\u001b[39;49m\u001b[43m)\u001b[49m \n\u001b[0;32m    162\u001b[0m \u001b[38;5;28;01mfor\u001b[39;00m i \u001b[38;5;129;01min\u001b[39;00m I:\n\u001b[0;32m    163\u001b[0m     gamma_dict[loop\u001b[38;5;241m*\u001b[39mL\u001b[38;5;241m+\u001b[39m\u001b[38;5;241m3\u001b[39m][i,j]\u001b[38;5;241m=\u001b[39mnp\u001b[38;5;241m.\u001b[39mexp(\u001b[38;5;241m-\u001b[39mnu\u001b[38;5;241m*\u001b[39mV\u001b[38;5;241m.\u001b[39mitem(i))\u001b[38;5;241m*\u001b[39mtmp\u001b[38;5;241m.\u001b[39mitem(i,j)\n",
      "File \u001b[1;32mc:\\Users\\zhouq\\Documents\\OT_Debiasing\\E2\\functions.py:34\u001b[0m, in \u001b[0;36mnewton\u001b[1;34m(fun, dfun, a, stepmax, tol)\u001b[0m\n\u001b[0;32m     32\u001b[0m \u001b[38;5;28;01mfor\u001b[39;00m step \u001b[38;5;129;01min\u001b[39;00m \u001b[38;5;28mrange\u001b[39m(\u001b[38;5;241m1\u001b[39m, stepmax\u001b[38;5;241m+\u001b[39m\u001b[38;5;241m1\u001b[39m):\n\u001b[0;32m     33\u001b[0m     b\u001b[38;5;241m=\u001b[39ma\u001b[38;5;241m-\u001b[39mfun(a)\u001b[38;5;241m/\u001b[39mdfun(a)\n\u001b[1;32m---> 34\u001b[0m     \u001b[38;5;28;01mif\u001b[39;00m \u001b[38;5;28mabs\u001b[39m(\u001b[43mfun\u001b[49m\u001b[43m(\u001b[49m\u001b[43mb\u001b[49m\u001b[43m)\u001b[49m)\u001b[38;5;241m<\u001b[39m\u001b[38;5;241m=\u001b[39mtol:\n\u001b[0;32m     35\u001b[0m         \u001b[38;5;28;01mreturn\u001b[39;00m b\n\u001b[0;32m     36\u001b[0m     \u001b[38;5;28;01melse\u001b[39;00m:\n",
      "File \u001b[1;32mc:\\Users\\zhouq\\Documents\\OT_Debiasing\\E2\\functions.py:159\u001b[0m, in \u001b[0;36mpartial_repair.<locals>.<lambda>\u001b[1;34m(z)\u001b[0m\n\u001b[0;32m    157\u001b[0m gamma_dict[loop\u001b[38;5;241m*\u001b[39mL\u001b[38;5;241m+\u001b[39m\u001b[38;5;241m3\u001b[39m]\u001b[38;5;241m=\u001b[39mnp\u001b[38;5;241m.\u001b[39mcopy(tmp)\n\u001b[0;32m    158\u001b[0m \u001b[38;5;28;01mfor\u001b[39;00m j \u001b[38;5;129;01min\u001b[39;00m Jplus:\n\u001b[1;32m--> 159\u001b[0m     fun \u001b[38;5;241m=\u001b[39m \u001b[38;5;28;01mlambda\u001b[39;00m z: \u001b[38;5;28;43msum\u001b[39;49m\u001b[43m(\u001b[49m\u001b[43mtmp\u001b[49m\u001b[38;5;241;43m.\u001b[39;49m\u001b[43mitem\u001b[49m\u001b[43m(\u001b[49m\u001b[43mi\u001b[49m\u001b[43m,\u001b[49m\u001b[43mj\u001b[49m\u001b[43m)\u001b[49m\u001b[38;5;241;43m*\u001b[39;49m\u001b[43mV\u001b[49m\u001b[38;5;241;43m.\u001b[39;49m\u001b[43mitem\u001b[49m\u001b[43m(\u001b[49m\u001b[43mi\u001b[49m\u001b[43m)\u001b[49m\u001b[38;5;241;43m*\u001b[39;49m\u001b[43mnp\u001b[49m\u001b[38;5;241;43m.\u001b[39;49m\u001b[43mexp\u001b[49m\u001b[43m(\u001b[49m\u001b[38;5;241;43m-\u001b[39;49m\u001b[43mz\u001b[49m\u001b[38;5;241;43m*\u001b[39;49m\u001b[43mV\u001b[49m\u001b[38;5;241;43m.\u001b[39;49m\u001b[43mitem\u001b[49m\u001b[43m(\u001b[49m\u001b[43mi\u001b[49m\u001b[43m)\u001b[49m\u001b[43m)\u001b[49m\u001b[43m \u001b[49m\u001b[38;5;28;43;01mfor\u001b[39;49;00m\u001b[43m \u001b[49m\u001b[43mi\u001b[49m\u001b[43m \u001b[49m\u001b[38;5;129;43;01min\u001b[39;49;00m\u001b[43m \u001b[49m\u001b[43mI\u001b[49m\u001b[43m)\u001b[49m\u001b[38;5;241m-\u001b[39mtheta\u001b[38;5;241m.\u001b[39mitem(j)\n\u001b[0;32m    160\u001b[0m     dfun \u001b[38;5;241m=\u001b[39m \u001b[38;5;28;01mlambda\u001b[39;00m z: \u001b[38;5;241m-\u001b[39m\u001b[38;5;28msum\u001b[39m(tmp\u001b[38;5;241m.\u001b[39mitem(i,j)\u001b[38;5;241m*\u001b[39m(V\u001b[38;5;241m.\u001b[39mitem(i))\u001b[38;5;241m*\u001b[39m\u001b[38;5;241m*\u001b[39m\u001b[38;5;241m2\u001b[39m\u001b[38;5;241m*\u001b[39mnp\u001b[38;5;241m.\u001b[39mexp(\u001b[38;5;241m-\u001b[39mz\u001b[38;5;241m*\u001b[39mV\u001b[38;5;241m.\u001b[39mitem(i)) \u001b[38;5;28;01mfor\u001b[39;00m i \u001b[38;5;129;01min\u001b[39;00m I)\n\u001b[0;32m    161\u001b[0m     nu \u001b[38;5;241m=\u001b[39m newton(fun,dfun,\u001b[38;5;241m0\u001b[39m,stepmax \u001b[38;5;241m=\u001b[39m \u001b[38;5;241m50\u001b[39m,tol \u001b[38;5;241m=\u001b[39m \u001b[38;5;241m1.0e-9\u001b[39m) \n",
      "File \u001b[1;32mc:\\Users\\zhouq\\Documents\\OT_Debiasing\\E2\\functions.py:159\u001b[0m, in \u001b[0;36m<genexpr>\u001b[1;34m(.0)\u001b[0m\n\u001b[0;32m    157\u001b[0m gamma_dict[loop\u001b[38;5;241m*\u001b[39mL\u001b[38;5;241m+\u001b[39m\u001b[38;5;241m3\u001b[39m]\u001b[38;5;241m=\u001b[39mnp\u001b[38;5;241m.\u001b[39mcopy(tmp)\n\u001b[0;32m    158\u001b[0m \u001b[38;5;28;01mfor\u001b[39;00m j \u001b[38;5;129;01min\u001b[39;00m Jplus:\n\u001b[1;32m--> 159\u001b[0m     fun \u001b[38;5;241m=\u001b[39m \u001b[38;5;28;01mlambda\u001b[39;00m z: \u001b[38;5;28msum\u001b[39m(\u001b[43mtmp\u001b[49m\u001b[38;5;241;43m.\u001b[39;49m\u001b[43mitem\u001b[49m\u001b[43m(\u001b[49m\u001b[43mi\u001b[49m\u001b[43m,\u001b[49m\u001b[43mj\u001b[49m\u001b[43m)\u001b[49m\u001b[38;5;241;43m*\u001b[39;49m\u001b[43mV\u001b[49m\u001b[38;5;241;43m.\u001b[39;49m\u001b[43mitem\u001b[49m\u001b[43m(\u001b[49m\u001b[43mi\u001b[49m\u001b[43m)\u001b[49m\u001b[38;5;241;43m*\u001b[39;49m\u001b[43mnp\u001b[49m\u001b[38;5;241;43m.\u001b[39;49m\u001b[43mexp\u001b[49m\u001b[43m(\u001b[49m\u001b[38;5;241;43m-\u001b[39;49m\u001b[43mz\u001b[49m\u001b[38;5;241;43m*\u001b[39;49m\u001b[43mV\u001b[49m\u001b[38;5;241;43m.\u001b[39;49m\u001b[43mitem\u001b[49m\u001b[43m(\u001b[49m\u001b[43mi\u001b[49m\u001b[43m)\u001b[49m\u001b[43m)\u001b[49m \u001b[38;5;28;01mfor\u001b[39;00m i \u001b[38;5;129;01min\u001b[39;00m I)\u001b[38;5;241m-\u001b[39mtheta\u001b[38;5;241m.\u001b[39mitem(j)\n\u001b[0;32m    160\u001b[0m     dfun \u001b[38;5;241m=\u001b[39m \u001b[38;5;28;01mlambda\u001b[39;00m z: \u001b[38;5;241m-\u001b[39m\u001b[38;5;28msum\u001b[39m(tmp\u001b[38;5;241m.\u001b[39mitem(i,j)\u001b[38;5;241m*\u001b[39m(V\u001b[38;5;241m.\u001b[39mitem(i))\u001b[38;5;241m*\u001b[39m\u001b[38;5;241m*\u001b[39m\u001b[38;5;241m2\u001b[39m\u001b[38;5;241m*\u001b[39mnp\u001b[38;5;241m.\u001b[39mexp(\u001b[38;5;241m-\u001b[39mz\u001b[38;5;241m*\u001b[39mV\u001b[38;5;241m.\u001b[39mitem(i)) \u001b[38;5;28;01mfor\u001b[39;00m i \u001b[38;5;129;01min\u001b[39;00m I)\n\u001b[0;32m    161\u001b[0m     nu \u001b[38;5;241m=\u001b[39m newton(fun,dfun,\u001b[38;5;241m0\u001b[39m,stepmax \u001b[38;5;241m=\u001b[39m \u001b[38;5;241m50\u001b[39m,tol \u001b[38;5;241m=\u001b[39m \u001b[38;5;241m1.0e-9\u001b[39m) \n",
      "\u001b[1;31mKeyboardInterrupt\u001b[0m: "
     ]
    }
   ],
   "source": [
    "coupling_part2=partial_repair(C,e,px,ptx,V,1.0e-2,K)\n",
    "coupling_part3=partial_repair(C,e,px,ptx,V,1.0e-3,K)\n",
    "\n",
    "tv_part2=assess_tv(df_test,coupling_part2,x_range,x_list,var_list)\n",
    "tv_part3=assess_tv(df_test,coupling_part3,x_range,x_list,var_list)\n",
    "\n",
    "y_pred_part2=postprocess(df_test,coupling_part2,x_list,x_range,var_list,var_range,clf)\n",
    "y_pred_part3=postprocess(df_test,coupling_part3,x_list,x_range,var_list,var_range,clf)\n",
    "\n",
    "new_row_part2=pd.Series({'DI':DisparateImpact_postprocess(df_test,y_pred_part2),\n",
    "                    'f1 macro':f1_score(df_test['Y'], y_pred_part2, average='macro',sample_weight=df_test['W']),\n",
    "                    'f1 micro':f1_score(df_test['Y'], y_pred_part2, average='micro',sample_weight=df_test['W']),\n",
    "                    'f1 weighted':f1_score(df_test['Y'], y_pred_part2, average='weighted',sample_weight=df_test['W']),\n",
    "                    'TV distance':tv_part2,'method':'partial repair2'})\n",
    "new_row_part3=pd.Series({'DI':DisparateImpact_postprocess(df_test,y_pred_part3),\n",
    "                    'f1 macro':f1_score(df_test['Y'], y_pred_part3, average='macro',sample_weight=df_test['W']),\n",
    "                    'f1 micro':f1_score(df_test['Y'], y_pred_part3, average='micro',sample_weight=df_test['W']),\n",
    "                    'f1 weighted':f1_score(df_test['Y'], y_pred_part3, average='weighted',sample_weight=df_test['W']),\n",
    "                    'TV distance':tv_part3,'method':'partial repair3'})"
   ]
  },
  {
   "cell_type": "code",
   "execution_count": 25,
   "metadata": {},
   "outputs": [],
   "source": [
    "from aif360.datasets import AdultDataset\n",
    "protected = 'sex'\n",
    "ad = AdultDataset(protected_attribute_names=[protected],\n",
    "    privileged_classes=[['Male']], categorical_features=[],\n",
    "    features_to_keep=['age', 'education-num', 'capital-gain', 'capital-loss', 'hours-per-week'])\n",
    "test, train = ad.split([16281])"
   ]
  },
  {
   "cell_type": "code",
   "execution_count": 29,
   "metadata": {},
   "outputs": [],
   "source": [
    "from sklearn.preprocessing import MinMaxScaler, Normalizer,StandardScaler\n",
    "scaler = MinMaxScaler(copy=False)"
   ]
  },
  {
   "cell_type": "code",
   "execution_count": 28,
   "metadata": {},
   "outputs": [],
   "source": [
    "from sklearn.preprocessing import \n",
    "data = [[0, 0], [0, 0], [1, 1], [1, 1]]\n",
    "scaler = StandardScaler()"
   ]
  },
  {
   "cell_type": "code",
   "execution_count": 59,
   "metadata": {},
   "outputs": [],
   "source": [
    "di = DisparateImpactRemover(repair_level = 1)\n",
    "dataset_transf_train = di.fit_transform(cd)\n",
    "transformed = dataset_transf_train.convert_to_dataframe()[0]"
   ]
  },
  {
   "cell_type": "code",
   "execution_count": 227,
   "metadata": {},
   "outputs": [],
   "source": [
    "binaryLabelDataset = BinaryLabelDataset(\n",
    "    favorable_label=1,\n",
    "    unfavorable_label=0,\n",
    "    df=df_train[var_list+['S','Y']], #df_test.drop('X',axis=1), #[x_list+['S','W','Y']],\n",
    "    label_names=['Y'],\n",
    "    # instance_weights_name=['W'],\n",
    "    protected_attribute_names=['S'],\n",
    "    privileged_protected_attributes=[np.array([1.0])],unprivileged_protected_attributes=[np.array([0.])])\n",
    "# binaryLabelDataset.features = scaler.fit_transform(binaryLabelDataset.features)\n",
    "# transformer = StandardScaler().fit(binaryLabelDataset.features) \n",
    "# binaryLabelDataset.features = transformer.transform(binaryLabelDataset.features)\n",
    "RW = Reweighing(privileged_groups = [{'S': 1}],unprivileged_groups = [{'S': 0}]) #DisparateImpactRemover(repair_level = 1)\n",
    "RW.fit(binaryLabelDataset)\n",
    "dataset_transf_train = RW.transform(binaryLabelDataset)\n",
    "# di = DisparateImpactRemover(repair_level = 1)\n",
    "# dataset_transf_train = di.fit_transform(binaryLabelDataset)\n",
    "# transformed = dataset_transf_train.convert_to_dataframe()[0]"
   ]
  },
  {
   "cell_type": "code",
   "execution_count": 228,
   "metadata": {},
   "outputs": [
    {
     "data": {
      "text/html": [
       "<div>\n",
       "<style scoped>\n",
       "    .dataframe tbody tr th:only-of-type {\n",
       "        vertical-align: middle;\n",
       "    }\n",
       "\n",
       "    .dataframe tbody tr th {\n",
       "        vertical-align: top;\n",
       "    }\n",
       "\n",
       "    .dataframe thead th {\n",
       "        text-align: right;\n",
       "    }\n",
       "</style>\n",
       "<table border=\"1\" class=\"dataframe\">\n",
       "  <thead>\n",
       "    <tr style=\"text-align: right;\">\n",
       "      <th></th>\n",
       "      <th>hoursperweek</th>\n",
       "      <th>age</th>\n",
       "      <th>capitalgain</th>\n",
       "      <th>capitalloss</th>\n",
       "      <th>education-num</th>\n",
       "      <th>S</th>\n",
       "      <th>Y</th>\n",
       "    </tr>\n",
       "  </thead>\n",
       "  <tbody>\n",
       "    <tr>\n",
       "      <th>8446</th>\n",
       "      <td>2.0</td>\n",
       "      <td>0.0</td>\n",
       "      <td>0.0</td>\n",
       "      <td>0.0</td>\n",
       "      <td>9.0</td>\n",
       "      <td>1.0</td>\n",
       "      <td>1.0</td>\n",
       "    </tr>\n",
       "    <tr>\n",
       "      <th>8447</th>\n",
       "      <td>2.0</td>\n",
       "      <td>2.0</td>\n",
       "      <td>0.0</td>\n",
       "      <td>0.0</td>\n",
       "      <td>9.0</td>\n",
       "      <td>1.0</td>\n",
       "      <td>0.0</td>\n",
       "    </tr>\n",
       "    <tr>\n",
       "      <th>8448</th>\n",
       "      <td>2.0</td>\n",
       "      <td>2.0</td>\n",
       "      <td>0.0</td>\n",
       "      <td>0.0</td>\n",
       "      <td>7.0</td>\n",
       "      <td>0.0</td>\n",
       "      <td>0.0</td>\n",
       "    </tr>\n",
       "    <tr>\n",
       "      <th>8449</th>\n",
       "      <td>2.0</td>\n",
       "      <td>3.0</td>\n",
       "      <td>0.0</td>\n",
       "      <td>0.0</td>\n",
       "      <td>9.0</td>\n",
       "      <td>0.0</td>\n",
       "      <td>0.0</td>\n",
       "    </tr>\n",
       "    <tr>\n",
       "      <th>8450</th>\n",
       "      <td>3.0</td>\n",
       "      <td>2.0</td>\n",
       "      <td>0.0</td>\n",
       "      <td>0.0</td>\n",
       "      <td>11.0</td>\n",
       "      <td>1.0</td>\n",
       "      <td>0.0</td>\n",
       "    </tr>\n",
       "  </tbody>\n",
       "</table>\n",
       "</div>"
      ],
      "text/plain": [
       "      hoursperweek  age  capitalgain  capitalloss  education-num    S    Y\n",
       "8446           2.0  0.0          0.0          0.0            9.0  1.0  1.0\n",
       "8447           2.0  2.0          0.0          0.0            9.0  1.0  0.0\n",
       "8448           2.0  2.0          0.0          0.0            7.0  0.0  0.0\n",
       "8449           2.0  3.0          0.0          0.0            9.0  0.0  0.0\n",
       "8450           3.0  2.0          0.0          0.0           11.0  1.0  0.0"
      ]
     },
     "execution_count": 228,
     "metadata": {},
     "output_type": "execute_result"
    }
   ],
   "source": [
    "x=np.random.randint(0,len(binaryLabelDataset.instance_names)-5)\n",
    "binaryLabelDataset.convert_to_dataframe()[0].iloc[x:x+5]"
   ]
  },
  {
   "cell_type": "code",
   "execution_count": 229,
   "metadata": {},
   "outputs": [
    {
     "data": {
      "text/html": [
       "<div>\n",
       "<style scoped>\n",
       "    .dataframe tbody tr th:only-of-type {\n",
       "        vertical-align: middle;\n",
       "    }\n",
       "\n",
       "    .dataframe tbody tr th {\n",
       "        vertical-align: top;\n",
       "    }\n",
       "\n",
       "    .dataframe thead th {\n",
       "        text-align: right;\n",
       "    }\n",
       "</style>\n",
       "<table border=\"1\" class=\"dataframe\">\n",
       "  <thead>\n",
       "    <tr style=\"text-align: right;\">\n",
       "      <th></th>\n",
       "      <th>hoursperweek</th>\n",
       "      <th>age</th>\n",
       "      <th>capitalgain</th>\n",
       "      <th>capitalloss</th>\n",
       "      <th>education-num</th>\n",
       "      <th>S</th>\n",
       "      <th>Y</th>\n",
       "    </tr>\n",
       "  </thead>\n",
       "  <tbody>\n",
       "    <tr>\n",
       "      <th>8446</th>\n",
       "      <td>2.0</td>\n",
       "      <td>0.0</td>\n",
       "      <td>0.0</td>\n",
       "      <td>0.0</td>\n",
       "      <td>9.0</td>\n",
       "      <td>1.0</td>\n",
       "      <td>1.0</td>\n",
       "    </tr>\n",
       "    <tr>\n",
       "      <th>8447</th>\n",
       "      <td>2.0</td>\n",
       "      <td>2.0</td>\n",
       "      <td>0.0</td>\n",
       "      <td>0.0</td>\n",
       "      <td>9.0</td>\n",
       "      <td>1.0</td>\n",
       "      <td>0.0</td>\n",
       "    </tr>\n",
       "    <tr>\n",
       "      <th>8448</th>\n",
       "      <td>2.0</td>\n",
       "      <td>2.0</td>\n",
       "      <td>0.0</td>\n",
       "      <td>0.0</td>\n",
       "      <td>7.0</td>\n",
       "      <td>0.0</td>\n",
       "      <td>0.0</td>\n",
       "    </tr>\n",
       "    <tr>\n",
       "      <th>8449</th>\n",
       "      <td>2.0</td>\n",
       "      <td>3.0</td>\n",
       "      <td>0.0</td>\n",
       "      <td>0.0</td>\n",
       "      <td>9.0</td>\n",
       "      <td>0.0</td>\n",
       "      <td>0.0</td>\n",
       "    </tr>\n",
       "    <tr>\n",
       "      <th>8450</th>\n",
       "      <td>3.0</td>\n",
       "      <td>2.0</td>\n",
       "      <td>0.0</td>\n",
       "      <td>0.0</td>\n",
       "      <td>11.0</td>\n",
       "      <td>1.0</td>\n",
       "      <td>0.0</td>\n",
       "    </tr>\n",
       "  </tbody>\n",
       "</table>\n",
       "</div>"
      ],
      "text/plain": [
       "      hoursperweek  age  capitalgain  capitalloss  education-num    S    Y\n",
       "8446           2.0  0.0          0.0          0.0            9.0  1.0  1.0\n",
       "8447           2.0  2.0          0.0          0.0            9.0  1.0  0.0\n",
       "8448           2.0  2.0          0.0          0.0            7.0  0.0  0.0\n",
       "8449           2.0  3.0          0.0          0.0            9.0  0.0  0.0\n",
       "8450           3.0  2.0          0.0          0.0           11.0  1.0  0.0"
      ]
     },
     "execution_count": 229,
     "metadata": {},
     "output_type": "execute_result"
    }
   ],
   "source": [
    "dataset_transf_train.convert_to_dataframe()[0].iloc[x:x+5]"
   ]
  },
  {
   "cell_type": "code",
   "execution_count": 230,
   "metadata": {},
   "outputs": [
    {
     "data": {
      "text/plain": [
       "array([1., 1., 1., ..., 1., 1., 1.])"
      ]
     },
     "execution_count": 230,
     "metadata": {},
     "output_type": "execute_result"
    }
   ],
   "source": [
    "binaryLabelDataset.instance_weights"
   ]
  },
  {
   "cell_type": "code",
   "execution_count": 231,
   "metadata": {},
   "outputs": [
    {
     "data": {
      "text/plain": [
       "array([1.01790853, 1.01790853, 0.94708638, ..., 0.86553865, 0.94708638,\n",
       "       1.01790853])"
      ]
     },
     "execution_count": 231,
     "metadata": {},
     "output_type": "execute_result"
    }
   ],
   "source": [
    "dataset_transf_train.instance_weights"
   ]
  },
  {
   "cell_type": "code",
   "execution_count": 79,
   "metadata": {},
   "outputs": [
    {
     "name": "stderr",
     "output_type": "stream",
     "text": [
      "c:\\Users\\zhouq\\Documents\\OT_Debiasing\\E2\\functions.py:196: FutureWarning: The provided callable <function sum at 0x000002B0A682EB80> is currently using DataFrameGroupBy.sum. In a future version of pandas, the provided callable will be used directly. To keep current behavior pass the string \"sum\" instead.\n",
      "  pivot=pd.pivot_table(rdata,index=x_name,values=['W'],aggfunc=[np.sum],observed=False)[(\"sum\",'W')]\n",
      "c:\\Users\\zhouq\\Documents\\OT_Debiasing\\E2\\functions.py:199: FutureWarning: The provided callable <function sum at 0x000002B0A682EB80> is currently using DataFrameGroupBy.sum. In a future version of pandas, the provided callable will be used directly. To keep current behavior pass the string \"sum\" instead.\n",
      "  pivot0=pd.pivot_table(rdata[rdata['S']==0],index=x_name,values=['W'],aggfunc=[np.sum],observed=False)[(\"sum\",'W')]\n",
      "c:\\Users\\zhouq\\Documents\\OT_Debiasing\\E2\\functions.py:202: FutureWarning: The provided callable <function sum at 0x000002B0A682EB80> is currently using DataFrameGroupBy.sum. In a future version of pandas, the provided callable will be used directly. To keep current behavior pass the string \"sum\" instead.\n",
      "  pivot1=pd.pivot_table(rdata[rdata['S']==1],index=x_name,values=['W'],aggfunc=[np.sum],observed=False)[(\"sum\",'W')]\n"
     ]
    }
   ],
   "source": [
    "transformed['X']=[tuple(transformed[x_list].values[r]) for r in range(transformed.shape[0])]\n",
    "dist_di=rdata_analysis(transformed[['X','S','W']],x_range,'X')"
   ]
  },
  {
   "cell_type": "code",
   "execution_count": 81,
   "metadata": {},
   "outputs": [
    {
     "data": {
      "image/png": "[encoded data removed]",
      "text/plain": [
       "<Figure size 640x480 with 1 Axes>"
      ]
     },
     "metadata": {},
     "output_type": "display_data"
    }
   ],
   "source": [
    "%matplotlib inline\n",
    "# make the overview plot\n",
    "plt.plot(np.arange(len(x_range)),dist_di['x'],label=r'$P^{X}$',color='tab:blue')\n",
    "# plt.plot(x_range,dist['t_x'],label=r'$P^{\\tilde{X}}$',color='tab:green')\n",
    "plt.plot(np.arange(len(x_range)),dist_di['x_0'],label=r'$P^{X_{s_0}}$',alpha=0.3,color='tab:orange')\n",
    "plt.plot(np.arange(len(x_range)),dist_di['x_1'],label=r'$P^{X_{s_1}}$',alpha=0.3,color='#9f86c0')\n",
    "plt.ylabel('PMF',fontsize=14)\n",
    "plt.xlabel(r'$supp(X)=supp(\\tilde{X})$',fontsize=14)\n",
    "plt.legend(ncol=3,frameon=False)\n",
    "plt.show()"
   ]
  },
  {
   "cell_type": "code",
   "execution_count": 82,
   "metadata": {},
   "outputs": [
    {
     "data": {
      "image/png": "[encoded data removed]",
      "text/plain": [
       "<Figure size 640x480 with 1 Axes>"
      ]
     },
     "metadata": {},
     "output_type": "display_data"
    }
   ],
   "source": [
    "%matplotlib inline\n",
    "# make the overview plot\n",
    "plt.plot(np.arange(len(x_range)),dist['x'],label=r'$P^{X}$',color='tab:blue')\n",
    "# plt.plot(x_range,dist['t_x'],label=r'$P^{\\tilde{X}}$',color='tab:green')\n",
    "plt.plot(np.arange(len(x_range)),dist['x_0'],label=r'$P^{X_{s_0}}$',alpha=0.3,color='tab:orange')\n",
    "plt.plot(np.arange(len(x_range)),dist['x_1'],label=r'$P^{X_{s_1}}$',alpha=0.3,color='#9f86c0')\n",
    "plt.ylabel('PMF',fontsize=14)\n",
    "plt.xlabel(r'$supp(X)=supp(\\tilde{X})$',fontsize=14)\n",
    "plt.legend(ncol=3,frameon=False)\n",
    "plt.show()"
   ]
  },
  {
   "cell_type": "code",
   "execution_count": 141,
   "metadata": {},
   "outputs": [
    {
     "data": {
      "text/html": [
       "<div>\n",
       "<style scoped>\n",
       "    .dataframe tbody tr th:only-of-type {\n",
       "        vertical-align: middle;\n",
       "    }\n",
       "\n",
       "    .dataframe tbody tr th {\n",
       "        vertical-align: top;\n",
       "    }\n",
       "\n",
       "    .dataframe thead th {\n",
       "        text-align: right;\n",
       "    }\n",
       "</style>\n",
       "<table border=\"1\" class=\"dataframe\">\n",
       "  <thead>\n",
       "    <tr style=\"text-align: right;\">\n",
       "      <th></th>\n",
       "      <th>hoursperweek</th>\n",
       "      <th>age</th>\n",
       "      <th>S</th>\n",
       "      <th>Y</th>\n",
       "      <th>W</th>\n",
       "      <th>X</th>\n",
       "    </tr>\n",
       "  </thead>\n",
       "  <tbody>\n",
       "    <tr>\n",
       "      <th>0</th>\n",
       "      <td>0.0</td>\n",
       "      <td>0.0</td>\n",
       "      <td>0.0</td>\n",
       "      <td>0.0</td>\n",
       "      <td>1.0</td>\n",
       "      <td>(0.0, 0.0)</td>\n",
       "    </tr>\n",
       "    <tr>\n",
       "      <th>1</th>\n",
       "      <td>0.0</td>\n",
       "      <td>0.0</td>\n",
       "      <td>0.0</td>\n",
       "      <td>0.0</td>\n",
       "      <td>2.0</td>\n",
       "      <td>(0.0, 0.0)</td>\n",
       "    </tr>\n",
       "    <tr>\n",
       "      <th>2</th>\n",
       "      <td>0.0</td>\n",
       "      <td>0.0</td>\n",
       "      <td>1.0</td>\n",
       "      <td>0.0</td>\n",
       "      <td>4.0</td>\n",
       "      <td>(0.0, 0.0)</td>\n",
       "    </tr>\n",
       "    <tr>\n",
       "      <th>3</th>\n",
       "      <td>0.0</td>\n",
       "      <td>0.0</td>\n",
       "      <td>0.0</td>\n",
       "      <td>0.0</td>\n",
       "      <td>3.0</td>\n",
       "      <td>(0.0, 0.0)</td>\n",
       "    </tr>\n",
       "    <tr>\n",
       "      <th>4</th>\n",
       "      <td>0.0</td>\n",
       "      <td>0.0</td>\n",
       "      <td>1.0</td>\n",
       "      <td>0.0</td>\n",
       "      <td>7.0</td>\n",
       "      <td>(0.0, 0.0)</td>\n",
       "    </tr>\n",
       "    <tr>\n",
       "      <th>...</th>\n",
       "      <td>...</td>\n",
       "      <td>...</td>\n",
       "      <td>...</td>\n",
       "      <td>...</td>\n",
       "      <td>...</td>\n",
       "      <td>...</td>\n",
       "    </tr>\n",
       "    <tr>\n",
       "      <th>2111</th>\n",
       "      <td>4.0</td>\n",
       "      <td>4.0</td>\n",
       "      <td>1.0</td>\n",
       "      <td>1.0</td>\n",
       "      <td>1.0</td>\n",
       "      <td>(4.0, 4.0)</td>\n",
       "    </tr>\n",
       "    <tr>\n",
       "      <th>2112</th>\n",
       "      <td>4.0</td>\n",
       "      <td>4.0</td>\n",
       "      <td>1.0</td>\n",
       "      <td>1.0</td>\n",
       "      <td>1.0</td>\n",
       "      <td>(4.0, 4.0)</td>\n",
       "    </tr>\n",
       "    <tr>\n",
       "      <th>2113</th>\n",
       "      <td>4.0</td>\n",
       "      <td>4.0</td>\n",
       "      <td>1.0</td>\n",
       "      <td>1.0</td>\n",
       "      <td>1.0</td>\n",
       "      <td>(4.0, 4.0)</td>\n",
       "    </tr>\n",
       "    <tr>\n",
       "      <th>2114</th>\n",
       "      <td>4.0</td>\n",
       "      <td>4.0</td>\n",
       "      <td>1.0</td>\n",
       "      <td>1.0</td>\n",
       "      <td>1.0</td>\n",
       "      <td>(4.0, 4.0)</td>\n",
       "    </tr>\n",
       "    <tr>\n",
       "      <th>2115</th>\n",
       "      <td>4.0</td>\n",
       "      <td>4.0</td>\n",
       "      <td>1.0</td>\n",
       "      <td>1.0</td>\n",
       "      <td>1.0</td>\n",
       "      <td>(4.0, 4.0)</td>\n",
       "    </tr>\n",
       "  </tbody>\n",
       "</table>\n",
       "<p>2116 rows × 6 columns</p>\n",
       "</div>"
      ],
      "text/plain": [
       "      hoursperweek  age    S    Y    W           X\n",
       "0              0.0  0.0  0.0  0.0  1.0  (0.0, 0.0)\n",
       "1              0.0  0.0  0.0  0.0  2.0  (0.0, 0.0)\n",
       "2              0.0  0.0  1.0  0.0  4.0  (0.0, 0.0)\n",
       "3              0.0  0.0  0.0  0.0  3.0  (0.0, 0.0)\n",
       "4              0.0  0.0  1.0  0.0  7.0  (0.0, 0.0)\n",
       "...            ...  ...  ...  ...  ...         ...\n",
       "2111           4.0  4.0  1.0  1.0  1.0  (4.0, 4.0)\n",
       "2112           4.0  4.0  1.0  1.0  1.0  (4.0, 4.0)\n",
       "2113           4.0  4.0  1.0  1.0  1.0  (4.0, 4.0)\n",
       "2114           4.0  4.0  1.0  1.0  1.0  (4.0, 4.0)\n",
       "2115           4.0  4.0  1.0  1.0  1.0  (4.0, 4.0)\n",
       "\n",
       "[2116 rows x 6 columns]"
      ]
     },
     "execution_count": 141,
     "metadata": {},
     "output_type": "execute_result"
    }
   ],
   "source": [
    "projected_aif360"
   ]
  },
  {
   "cell_type": "code",
   "execution_count": 98,
   "metadata": {},
   "outputs": [
    {
     "name": "stderr",
     "output_type": "stream",
     "text": [
      "c:\\Users\\zhouq\\Documents\\OT_Debiasing\\E2\\functions.py:196: FutureWarning: The provided callable <function sum at 0x000001EF69D4EB80> is currently using DataFrameGroupBy.sum. In a future version of pandas, the provided callable will be used directly. To keep current behavior pass the string \"sum\" instead.\n",
      "  pivot=pd.pivot_table(rdata,index=x_name,values=['W'],aggfunc=[np.sum],observed=False)[(\"sum\",'W')]\n",
      "c:\\Users\\zhouq\\Documents\\OT_Debiasing\\E2\\functions.py:199: FutureWarning: The provided callable <function sum at 0x000001EF69D4EB80> is currently using DataFrameGroupBy.sum. In a future version of pandas, the provided callable will be used directly. To keep current behavior pass the string \"sum\" instead.\n",
      "  pivot0=pd.pivot_table(rdata[rdata['S']==0],index=x_name,values=['W'],aggfunc=[np.sum],observed=False)[(\"sum\",'W')]\n",
      "c:\\Users\\zhouq\\Documents\\OT_Debiasing\\E2\\functions.py:202: FutureWarning: The provided callable <function sum at 0x000001EF69D4EB80> is currently using DataFrameGroupBy.sum. In a future version of pandas, the provided callable will be used directly. To keep current behavior pass the string \"sum\" instead.\n",
      "  pivot1=pd.pivot_table(rdata[rdata['S']==1],index=x_name,values=['W'],aggfunc=[np.sum],observed=False)[(\"sum\",'W')]\n"
     ]
    },
    {
     "data": {
      "text/plain": [
       "0.1974363436485967"
      ]
     },
     "execution_count": 98,
     "metadata": {},
     "output_type": "execute_result"
    }
   ],
   "source": [
    "assess_tv(projected_aif360,[],x_range,x_list,var_list)"
   ]
  },
  {
   "cell_type": "code",
   "execution_count": 99,
   "metadata": {},
   "outputs": [
    {
     "name": "stderr",
     "output_type": "stream",
     "text": [
      "c:\\Users\\zhouq\\Documents\\OT_Debiasing\\E2\\functions.py:196: FutureWarning: The provided callable <function sum at 0x000001EF69D4EB80> is currently using DataFrameGroupBy.sum. In a future version of pandas, the provided callable will be used directly. To keep current behavior pass the string \"sum\" instead.\n",
      "  pivot=pd.pivot_table(rdata,index=x_name,values=['W'],aggfunc=[np.sum],observed=False)[(\"sum\",'W')]\n",
      "c:\\Users\\zhouq\\Documents\\OT_Debiasing\\E2\\functions.py:199: FutureWarning: The provided callable <function sum at 0x000001EF69D4EB80> is currently using DataFrameGroupBy.sum. In a future version of pandas, the provided callable will be used directly. To keep current behavior pass the string \"sum\" instead.\n",
      "  pivot0=pd.pivot_table(rdata[rdata['S']==0],index=x_name,values=['W'],aggfunc=[np.sum],observed=False)[(\"sum\",'W')]\n",
      "c:\\Users\\zhouq\\Documents\\OT_Debiasing\\E2\\functions.py:202: FutureWarning: The provided callable <function sum at 0x000001EF69D4EB80> is currently using DataFrameGroupBy.sum. In a future version of pandas, the provided callable will be used directly. To keep current behavior pass the string \"sum\" instead.\n",
      "  pivot1=pd.pivot_table(rdata[rdata['S']==1],index=x_name,values=['W'],aggfunc=[np.sum],observed=False)[(\"sum\",'W')]\n"
     ]
    },
    {
     "data": {
      "text/plain": [
       "0.1974363436485967"
      ]
     },
     "execution_count": 99,
     "metadata": {},
     "output_type": "execute_result"
    }
   ],
   "source": [
    "assess_tv(df_test,[],x_range,x_list,var_list)"
   ]
  },
  {
   "cell_type": "code",
   "execution_count": 33,
   "metadata": {},
   "outputs": [],
   "source": [
    "dict_aif360['instance_weights']\n",
    "projected_aif360\n",
    "y_pred=clf.predict(np.array(df_test[var_list]))"
   ]
  },
  {
   "cell_type": "code",
   "execution_count": 64,
   "metadata": {},
   "outputs": [
    {
     "name": "stderr",
     "output_type": "stream",
     "text": [
      "c:\\Users\\zhouq\\Documents\\OT_Debiasing\\E2\\functions.py:257: FutureWarning: The behavior of DataFrame concatenation with empty or all-NA entries is deprecated. In a future version, this will no longer exclude empty or all-NA columns when determining the result dtypes. To retain the old behavior, exclude the relevant entries before the concat operation.\n",
      "  df_t=pd.concat([df_t,sub],ignore_index=True) #pd.concat([df_t,samples_groupby(sub,x_list)], ignore_index=True)\n"
     ]
    }
   ],
   "source": [
    "df_base=projection_higher(df_test,coupling_base,x_range,x_list,var_list)"
   ]
  },
  {
   "cell_type": "code",
   "execution_count": 74,
   "metadata": {},
   "outputs": [
    {
     "data": {
      "text/html": [
       "<div>\n",
       "<style scoped>\n",
       "    .dataframe tbody tr th:only-of-type {\n",
       "        vertical-align: middle;\n",
       "    }\n",
       "\n",
       "    .dataframe tbody tr th {\n",
       "        vertical-align: top;\n",
       "    }\n",
       "\n",
       "    .dataframe thead th {\n",
       "        text-align: right;\n",
       "    }\n",
       "</style>\n",
       "<table border=\"1\" class=\"dataframe\">\n",
       "  <thead>\n",
       "    <tr style=\"text-align: right;\">\n",
       "      <th></th>\n",
       "      <th>X</th>\n",
       "      <th>S</th>\n",
       "      <th>W</th>\n",
       "    </tr>\n",
       "  </thead>\n",
       "  <tbody>\n",
       "    <tr>\n",
       "      <th>0</th>\n",
       "      <td>(0, 0)</td>\n",
       "      <td>0</td>\n",
       "      <td>2.000000e+00</td>\n",
       "    </tr>\n",
       "    <tr>\n",
       "      <th>1</th>\n",
       "      <td>(0, 1)</td>\n",
       "      <td>0</td>\n",
       "      <td>2.027745e-09</td>\n",
       "    </tr>\n",
       "    <tr>\n",
       "      <th>2</th>\n",
       "      <td>(0, 2)</td>\n",
       "      <td>0</td>\n",
       "      <td>1.999960e-09</td>\n",
       "    </tr>\n",
       "    <tr>\n",
       "      <th>3</th>\n",
       "      <td>(0, 3)</td>\n",
       "      <td>0</td>\n",
       "      <td>1.999939e-09</td>\n",
       "    </tr>\n",
       "    <tr>\n",
       "      <th>4</th>\n",
       "      <td>(0, 4)</td>\n",
       "      <td>0</td>\n",
       "      <td>1.999993e-09</td>\n",
       "    </tr>\n",
       "    <tr>\n",
       "      <th>...</th>\n",
       "      <td>...</td>\n",
       "      <td>...</td>\n",
       "      <td>...</td>\n",
       "    </tr>\n",
       "    <tr>\n",
       "      <th>52520</th>\n",
       "      <td>(4, 0)</td>\n",
       "      <td>1</td>\n",
       "      <td>1.999905e-09</td>\n",
       "    </tr>\n",
       "    <tr>\n",
       "      <th>52521</th>\n",
       "      <td>(4, 1)</td>\n",
       "      <td>1</td>\n",
       "      <td>2.000056e-09</td>\n",
       "    </tr>\n",
       "    <tr>\n",
       "      <th>52522</th>\n",
       "      <td>(4, 2)</td>\n",
       "      <td>1</td>\n",
       "      <td>2.000057e-09</td>\n",
       "    </tr>\n",
       "    <tr>\n",
       "      <th>52523</th>\n",
       "      <td>(4, 3)</td>\n",
       "      <td>1</td>\n",
       "      <td>2.027815e-09</td>\n",
       "    </tr>\n",
       "    <tr>\n",
       "      <th>52524</th>\n",
       "      <td>(4, 4)</td>\n",
       "      <td>1</td>\n",
       "      <td>2.000000e+00</td>\n",
       "    </tr>\n",
       "  </tbody>\n",
       "</table>\n",
       "<p>52525 rows × 3 columns</p>\n",
       "</div>"
      ],
      "text/plain": [
       "            X  S             W\n",
       "0      (0, 0)  0  2.000000e+00\n",
       "1      (0, 1)  0  2.027745e-09\n",
       "2      (0, 2)  0  1.999960e-09\n",
       "3      (0, 3)  0  1.999939e-09\n",
       "4      (0, 4)  0  1.999993e-09\n",
       "...       ... ..           ...\n",
       "52520  (4, 0)  1  1.999905e-09\n",
       "52521  (4, 1)  1  2.000056e-09\n",
       "52522  (4, 2)  1  2.000057e-09\n",
       "52523  (4, 3)  1  2.027815e-09\n",
       "52524  (4, 4)  1  2.000000e+00\n",
       "\n",
       "[52525 rows x 3 columns]"
      ]
     },
     "execution_count": 74,
     "metadata": {},
     "output_type": "execute_result"
    }
   ],
   "source": [
    "df_base[['X','S','W']]"
   ]
  },
  {
   "cell_type": "code",
   "execution_count": 72,
   "metadata": {},
   "outputs": [
    {
     "name": "stderr",
     "output_type": "stream",
     "text": [
      "C:\\Users\\zhouq\\AppData\\Local\\Temp\\ipykernel_19744\\572759499.py:1: FutureWarning: The provided callable <function sum at 0x0000016F58EDEB80> is currently using DataFrameGroupBy.sum. In a future version of pandas, the provided callable will be used directly. To keep current behavior pass the string \"sum\" instead.\n",
      "  pd.pivot_table(df_base[['X','W','S']],index='X',values=['W'],aggfunc=[np.sum],observed=False)[(\"sum\",'W')]\n"
     ]
    },
    {
     "data": {
      "text/plain": [
       "X\n",
       "(0, 0)     803.999999\n",
       "(0, 1)     193.000015\n",
       "(0, 2)     156.000016\n",
       "(0, 3)     111.000017\n",
       "(0, 4)     461.000008\n",
       "(1, 0)     869.999998\n",
       "(1, 1)     452.000008\n",
       "(1, 2)     367.000010\n",
       "(1, 3)     256.000013\n",
       "(1, 4)     362.000010\n",
       "(2, 0)    1773.999975\n",
       "(2, 1)    3336.999936\n",
       "(2, 2)    2863.999948\n",
       "(2, 3)    1986.999970\n",
       "(2, 4)    1252.999988\n",
       "(3, 0)     310.000012\n",
       "(3, 1)    1022.999994\n",
       "(3, 2)    1112.999992\n",
       "(3, 3)     804.999999\n",
       "(3, 4)     374.000010\n",
       "(4, 0)      41.000019\n",
       "(4, 1)     200.000015\n",
       "(4, 2)     205.000014\n",
       "(4, 3)     137.000016\n",
       "(4, 4)      82.000017\n",
       "Name: (sum, W), dtype: float64"
      ]
     },
     "execution_count": 72,
     "metadata": {},
     "output_type": "execute_result"
    }
   ],
   "source": [
    "pd.pivot_table(df_base[['X','W','S']],index='X',values=['W'],aggfunc=[np.sum],observed=False)[(\"sum\",'W')]"
   ]
  },
  {
   "cell_type": "code",
   "execution_count": 50,
   "metadata": {},
   "outputs": [
    {
     "name": "stderr",
     "output_type": "stream",
     "text": [
      "c:\\Users\\zhouq\\Documents\\OT_Debiasing\\E2\\functions.py:257: FutureWarning: The behavior of DataFrame concatenation with empty or all-NA entries is deprecated. In a future version, this will no longer exclude empty or all-NA columns when determining the result dtypes. To retain the old behavior, exclude the relevant entries before the concat operation.\n",
      "  df_t=pd.concat([df_t,sub],ignore_index=True) #pd.concat([df_t,samples_groupby(sub,x_list)], ignore_index=True)\n",
      "c:\\Users\\zhouq\\Documents\\OT_Debiasing\\E2\\functions.py:196: FutureWarning: The provided callable <function sum at 0x0000016F58EDEB80> is currently using DataFrameGroupBy.sum. In a future version of pandas, the provided callable will be used directly. To keep current behavior pass the string \"sum\" instead.\n",
      "  pivot=pd.pivot_table(rdata,index=x_name,values=['W'],aggfunc=[np.sum],observed=False)[(\"sum\",'W')]\n",
      "c:\\Users\\zhouq\\Documents\\OT_Debiasing\\E2\\functions.py:199: FutureWarning: The provided callable <function sum at 0x0000016F58EDEB80> is currently using DataFrameGroupBy.sum. In a future version of pandas, the provided callable will be used directly. To keep current behavior pass the string \"sum\" instead.\n",
      "  pivot0=pd.pivot_table(rdata[rdata['S']==0],index=x_name,values=['W'],aggfunc=[np.sum],observed=False)[(\"sum\",'W')]\n",
      "c:\\Users\\zhouq\\Documents\\OT_Debiasing\\E2\\functions.py:202: FutureWarning: The provided callable <function sum at 0x0000016F58EDEB80> is currently using DataFrameGroupBy.sum. In a future version of pandas, the provided callable will be used directly. To keep current behavior pass the string \"sum\" instead.\n",
      "  pivot1=pd.pivot_table(rdata[rdata['S']==1],index=x_name,values=['W'],aggfunc=[np.sum],observed=False)[(\"sum\",'W')]\n"
     ]
    }
   ],
   "source": [
    "\n",
    "coupling_base=baseline(C,e,px,ptx,V,K)\n",
    "\n",
    "tv_base=assess_tv(df_test,coupling_base,x_range,x_list,var_list)\n",
    "\n",
    "y_pred=clf.predict(np.array(df_test[var_list]))"
   ]
  },
  {
   "cell_type": "code",
   "execution_count": 59,
   "metadata": {},
   "outputs": [
    {
     "data": {
      "text/plain": [
       "2101"
      ]
     },
     "execution_count": 59,
     "metadata": {},
     "output_type": "execute_result"
    }
   ],
   "source": [
    "len(y_pred)"
   ]
  },
  {
   "cell_type": "code",
   "execution_count": null,
   "metadata": {},
   "outputs": [],
   "source": []
  }
 ],
 "metadata": {
  "kernelspec": {
   "display_name": "base",
   "language": "python",
   "name": "python3"
  },
  "language_info": {
   "codemirror_mode": {
    "name": "ipython",
    "version": 3
   },
   "file_extension": ".py",
   "mimetype": "text/x-python",
   "name": "python",
   "nbconvert_exporter": "python",
   "pygments_lexer": "ipython3",
   "version": "3.9.13"
  }
 },
 "nbformat": 4,
 "nbformat_minor": 2
}
