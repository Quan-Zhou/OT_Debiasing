{
 "cells": [
  {
   "cell_type": "code",
   "execution_count": 15,
   "metadata": {},
   "outputs": [],
   "source": [
    "import numpy as np\n",
    "a = np.array([[3, 2, 0], [1, -1, 0], [0, 5, 1]])\n",
    "b = np.array([2, 4, -1])\n",
    "c = np.array([0,0,0])\n",
    "from scipy import linalg\n",
    "x = linalg.solve(a, c)"
   ]
  },
  {
   "cell_type": "code",
   "execution_count": 61,
   "metadata": {},
   "outputs": [],
   "source": [
    "from numpy.linalg import matrix_rank, inv, multi_dot\n",
    "A=np.array([[3, 2, 0], [1, -1, 0], [0, 0, 0]])\n",
    "b=np.array([[0], [0], [0]])"
   ]
  },
  {
   "cell_type": "code",
   "execution_count": 63,
   "metadata": {},
   "outputs": [
    {
     "name": "stdout",
     "output_type": "stream",
     "text": [
      "-----------START-----------\n",
      "The coefficient matrix A is (3, 3), rank = 2.\n",
      "The column space of A does not encompass R^3.\n",
      "rank(A) = rank(A|b) = 2 < 3, the equation has infinitely many solutions.\n"
     ]
    }
   ],
   "source": [
    "m, n = A.shape\n",
    "rank_a = matrix_rank(A)\n",
    "rank_a_b = matrix_rank(np.concatenate((A, b), axis=1))\n",
    "print(\"-----------START-----------\")\n",
    "print(\"The coefficient matrix A is %s, rank = %d.\" % (A.shape, rank_a))\n",
    "if rank_a == m:\n",
    "    print(\"The column space of A encompasses R^%d.\" % m)\n",
    "else:\n",
    "    print(\"The column space of A does not encompass R^%d.\" % m)\n",
    "if rank_a < rank_a_b:\n",
    "    print(\"rank(A) = %d < %d = rank(A|b), the equation has no solution.\" % (rank_a, rank_a_b))\n",
    "else:\n",
    "    if rank_a == n:\n",
    "        print(\"rank(A) = rank(A|b) = %d, the equation has only one solution.\" % n)\n",
    "\n",
    "    else:\n",
    "        if rank_a == n:\n",
    "            print(\"rank(A) = rank(A|b) = %d, the equation has only one solution.\" % n)\n",
    "            Ar = A\n",
    "            br = b\n",
    "            if n < m:\n",
    "                Ar = Ar[:n]\n",
    "                br = br[:n]\n",
    "            Ar_inv = inv(Ar)\n",
    "            if n < m:\n",
    "                print(\"One of the largest sub square of A is T =\\n%s\" % Ar)\n",
    "                print(\"T^-1 =\\n%s\" % Ar_inv)\n",
    "                print(\"x = T^-1 * b = \", end=\"\")\n",
    "            else:\n",
    "                print(\"A^-1 =\\n%s\" % Ar_inv)\n",
    "                print(\"x = A^-1 * b = \", end=\"\")\n",
    "            x = np.round(multi_dot((Ar_inv, br)), 4).flatten()\n",
    "            print(\"%s^T\" % x)\n",
    "        else:\n",
    "            print(\"rank(A) = rank(A|b) = %d < %d, the equation has infinitely many solutions.\" % (rank_a, n))"
   ]
  },
  {
   "cell_type": "code",
   "execution_count": 67,
   "metadata": {},
   "outputs": [],
   "source": [
    "from sympy import *\n",
    "from sympy.solvers.solveset import linsolve\n",
    "x, y, z = symbols('x, y, z')"
   ]
  },
  {
   "cell_type": "code",
   "execution_count": 68,
   "metadata": {},
   "outputs": [
    {
     "data": {
      "text/latex": [
       "$\\displaystyle \\left\\{\\left( - y - 1, \\  y, \\  2\\right)\\right\\}$"
      ],
      "text/plain": [
       "{(-y - 1, y, 2)}"
      ]
     },
     "execution_count": 68,
     "metadata": {},
     "output_type": "execute_result"
    }
   ],
   "source": [
    "M = Matrix(((1, 1, 1, 1), (1, 1, 2, 3)))\n",
    "system = A, b = M[:, :-1], M[:, -1]\n",
    "linsolve(system, x, y, z)"
   ]
  },
  {
   "cell_type": "code",
   "execution_count": null,
   "metadata": {},
   "outputs": [],
   "source": [
    "from random import random"
   ]
  },
  {
   "cell_type": "code",
   "execution_count": 79,
   "metadata": {},
   "outputs": [],
   "source": [
    "def p_generate(N):\n",
    "    N=4\n",
    "    start=random()\n",
    "    p=np.zeros(N)\n",
    "    p[0]=start\n",
    "    for n in range(1,N-1):\n",
    "        p[n]=random()*(1-sum(p))\n",
    "    p[N-1]=1-sum(p)\n",
    "    return p"
   ]
  },
  {
   "cell_type": "code",
   "execution_count": 105,
   "metadata": {},
   "outputs": [],
   "source": [
    "p0=p_generate(N)\n",
    "p1=p_generate(N)\n",
    "s0=random()\n",
    "s1=1-s0\n",
    "pb=s0*p0+s1*p1\n",
    "v=(p0-p1)/pb"
   ]
  },
  {
   "cell_type": "code",
   "execution_count": 107,
   "metadata": {},
   "outputs": [
    {
     "name": "stdout",
     "output_type": "stream",
     "text": [
      "[-0.28987661 -1.04383692  1.40664256  0.77038674]\n"
     ]
    }
   ],
   "source": [
    "print(v)"
   ]
  }
 ],
 "metadata": {
  "kernelspec": {
   "display_name": "base",
   "language": "python",
   "name": "python3"
  },
  "language_info": {
   "codemirror_mode": {
    "name": "ipython",
    "version": 3
   },
   "file_extension": ".py",
   "mimetype": "text/x-python",
   "name": "python",
   "nbconvert_exporter": "python",
   "pygments_lexer": "ipython3",
   "version": "3.9.13"
  },
  "orig_nbformat": 4
 },
 "nbformat": 4,
 "nbformat_minor": 2
}
